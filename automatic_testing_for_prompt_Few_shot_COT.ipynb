{
  "nbformat": 4,
  "nbformat_minor": 0,
  "metadata": {
    "colab": {
      "provenance": [],
      "authorship_tag": "ABX9TyPhenkL+yAdH25pvWAh93LE",
      "include_colab_link": true
    },
    "kernelspec": {
      "name": "python3",
      "display_name": "Python 3"
    },
    "language_info": {
      "name": "python"
    }
  },
  "cells": [
    {
      "cell_type": "markdown",
      "metadata": {
        "id": "view-in-github",
        "colab_type": "text"
      },
      "source": [
        "<a href=\"https://colab.research.google.com/github/babatundeibukun/Moderating_deliberations_with_LLMs/blob/main/automatic_testing_for_prompt_Few_shot_COT.ipynb\" target=\"_parent\"><img src=\"https://colab.research.google.com/assets/colab-badge.svg\" alt=\"Open In Colab\"/></a>"
      ]
    },
    {
      "cell_type": "code",
      "source": [
        "import numpy as np\n",
        "from sklearn.metrics.pairwise import cosine_similarity\n",
        "from sklearn.feature_extraction.text import TfidfVectorizer"
      ],
      "metadata": {
        "id": "4jaTyMNd9oxd"
      },
      "execution_count": null,
      "outputs": []
    },
    {
      "cell_type": "code",
      "source": [
        "%pip install --upgrade openai"
      ],
      "metadata": {
        "colab": {
          "base_uri": "https://localhost:8080/"
        },
        "id": "cx3ezaeQAFFo",
        "outputId": "7d95fcfa-30ef-40e3-eca5-43c639b5679c"
      },
      "execution_count": null,
      "outputs": [
        {
          "output_type": "stream",
          "name": "stdout",
          "text": [
            "Requirement already satisfied: openai in /usr/local/lib/python3.10/dist-packages (1.35.14)\n",
            "Requirement already satisfied: anyio<5,>=3.5.0 in /usr/local/lib/python3.10/dist-packages (from openai) (3.7.1)\n",
            "Requirement already satisfied: distro<2,>=1.7.0 in /usr/lib/python3/dist-packages (from openai) (1.7.0)\n",
            "Requirement already satisfied: httpx<1,>=0.23.0 in /usr/local/lib/python3.10/dist-packages (from openai) (0.27.0)\n",
            "Requirement already satisfied: pydantic<3,>=1.9.0 in /usr/local/lib/python3.10/dist-packages (from openai) (2.8.2)\n",
            "Requirement already satisfied: sniffio in /usr/local/lib/python3.10/dist-packages (from openai) (1.3.1)\n",
            "Requirement already satisfied: tqdm>4 in /usr/local/lib/python3.10/dist-packages (from openai) (4.66.4)\n",
            "Requirement already satisfied: typing-extensions<5,>=4.7 in /usr/local/lib/python3.10/dist-packages (from openai) (4.12.2)\n",
            "Requirement already satisfied: idna>=2.8 in /usr/local/lib/python3.10/dist-packages (from anyio<5,>=3.5.0->openai) (3.7)\n",
            "Requirement already satisfied: exceptiongroup in /usr/local/lib/python3.10/dist-packages (from anyio<5,>=3.5.0->openai) (1.2.1)\n",
            "Requirement already satisfied: certifi in /usr/local/lib/python3.10/dist-packages (from httpx<1,>=0.23.0->openai) (2024.7.4)\n",
            "Requirement already satisfied: httpcore==1.* in /usr/local/lib/python3.10/dist-packages (from httpx<1,>=0.23.0->openai) (1.0.5)\n",
            "Requirement already satisfied: h11<0.15,>=0.13 in /usr/local/lib/python3.10/dist-packages (from httpcore==1.*->httpx<1,>=0.23.0->openai) (0.14.0)\n",
            "Requirement already satisfied: annotated-types>=0.4.0 in /usr/local/lib/python3.10/dist-packages (from pydantic<3,>=1.9.0->openai) (0.7.0)\n",
            "Requirement already satisfied: pydantic-core==2.20.1 in /usr/local/lib/python3.10/dist-packages (from pydantic<3,>=1.9.0->openai) (2.20.1)\n"
          ]
        }
      ]
    },
    {
      "cell_type": "code",
      "source": [
        "from openai import OpenAI\n",
        "import os\n",
        "MODEL = \"gpt-4o\"\n",
        "\n",
        "client = OpenAI(api_key=os.environ.get(\"OPENAI_API_KEY\", \"API_KEY\"))"
      ],
      "metadata": {
        "id": "P3u8xCRdAAhl"
      },
      "execution_count": null,
      "outputs": []
    },
    {
      "cell_type": "markdown",
      "source": [
        "#Final automatic testing code"
      ],
      "metadata": {
        "id": "-TGKU1MazwIV"
      }
    },
    {
      "cell_type": "code",
      "source": [
        "import openai\n",
        "import numpy as np\n",
        "from sklearn.metrics.pairwise import cosine_similarity\n",
        "from sklearn.feature_extraction.text import TfidfVectorizer\n",
        "\n",
        "# Define OpenAI API function to check if two texts have the same meaning\n",
        "def check_same_meaning(text1, text2):\n",
        "    response_analysis = client.chat.completions.create(\n",
        "      model=MODEL,\n",
        "      messages=[\n",
        "          {\"role\": \"system\", \"content\": \"You are a helpful assistant that is very meticulous and reads every text line by line and separates different points in one sentence\"},\n",
        "          {\"role\": \"user\", \"content\": f\"Do the following two texts have the same meaning?\\nText 1: {text1}\\nText 2: {text2}\\nAnswer with 'yes' or 'no'.\"},\n",
        "      ],\n",
        "      max_tokens=1024,\n",
        "      temperature=0,\n",
        "      top_p=1.0,\n",
        "      frequency_penalty=0,\n",
        "      presence_penalty=0\n",
        "    )\n",
        "\n",
        "\n",
        "    return response_analysis.choices[0].message.content.split('\\n') == 'Yes' or 'yes'\n",
        "\n",
        "# Define function to calculate cosine similarity\n",
        "def calculate_cosine_similarity(text1, text2):\n",
        "    vectorizer = TfidfVectorizer().fit_transform([text1, text2])\n",
        "    vectors = vectorizer.toarray()\n",
        "    cosine_sim = cosine_similarity(vectors)\n",
        "    return cosine_sim[0, 1]\n",
        "\n",
        "# Initialize cumulative metrics\n",
        "metrics = {\n",
        "    \"answers\": {\"TP\": 0, \"FP\": 0, \"FN\": 0, \"TN\": 0},\n",
        "    \"answer_classifications\": {\"TP\": 0, \"FP\": 0, \"FN\": 0, \"TN\": 0},\n",
        "    \"arguments\": {\"TP\": 0, \"FP\": 0, \"FN\": 0, \"TN\": 0},\n",
        "    \"argument_classifications\": {\"TP\": 0, \"FP\": 0, \"FN\": 0, \"TN\": 0},\n",
        "}\n",
        "\n",
        "# Main comparison function\n",
        "def compare(annotated, model, metrics):\n",
        "    local_metrics = {\n",
        "        \"answers\": {\"TP\": 0, \"FP\": 0, \"FN\": 0, \"TN\": 0},\n",
        "        \"answer_classifications\": {\"TP\": 0, \"FP\": 0, \"FN\": 0, \"TN\": 0},\n",
        "        \"arguments\": {\"TP\": 0, \"FP\": 0, \"FN\": 0, \"TN\": 0},\n",
        "        \"argument_classifications\": {\"TP\": 0, \"FP\": 0, \"FN\": 0, \"TN\": 0},\n",
        "    }\n",
        "\n",
        "    answer_comparisons = []\n",
        "    argument_comparisons = []\n",
        "\n",
        "    for ann_answer in annotated:\n",
        "        ann_text = ann_answer['answer']\n",
        "        ann_classification = ann_answer['classification']\n",
        "\n",
        "        best_match = None\n",
        "        highest_similarity = 0\n",
        "\n",
        "        for model_answer in model:\n",
        "            model_text = model_answer['answer']\n",
        "            cosine_sim = calculate_cosine_similarity(ann_text, model_text)\n",
        "            if cosine_sim > 0.5:\n",
        "                if check_same_meaning(ann_text, model_text):\n",
        "                    if cosine_sim > highest_similarity:\n",
        "                        highest_similarity = cosine_sim\n",
        "                        best_match = model_answer\n",
        "\n",
        "        if best_match:\n",
        "            answer_comparisons.append({'Annotated Answer': ann_text, 'Model Answer': best_match['answer']})\n",
        "\n",
        "            metrics[\"answers\"][\"TP\"] += 1\n",
        "            local_metrics[\"answers\"][\"TP\"] += 1\n",
        "\n",
        "            if ann_classification.lower() == best_match['classification'].lower():\n",
        "                metrics[\"answer_classifications\"][\"TP\"] += 1\n",
        "                local_metrics[\"answer_classifications\"][\"TP\"] += 1\n",
        "            else:\n",
        "                metrics[\"answer_classifications\"][\"FP\"] += 1\n",
        "                local_metrics[\"answer_classifications\"][\"FP\"] += 1\n",
        "\n",
        "            # Check for each argument in the annotated answer\n",
        "            matched_model_args = set()\n",
        "            for ann_arg in ann_answer.get('arguments', []):\n",
        "                ann_arg_text = ann_arg['text']\n",
        "                ann_arg_classification = ann_arg['classification']\n",
        "                match_found = False\n",
        "\n",
        "                for model_arg in best_match.get('arguments', []):\n",
        "                    model_arg_text = model_arg['text']\n",
        "                    model_arg_classification = model_arg['classification']\n",
        "\n",
        "                    if model_arg_text in matched_model_args:\n",
        "                        continue\n",
        "\n",
        "                    cosine_sim_arg = calculate_cosine_similarity(ann_arg_text, model_arg_text)\n",
        "                    if cosine_sim_arg > 0.5 and check_same_meaning(ann_arg_text, model_arg_text):\n",
        "                        argument_comparisons.append({'Annotated Argument': ann_arg_text, 'Model Argument': model_arg_text})\n",
        "                        metrics[\"arguments\"][\"TP\"] += 1\n",
        "                        local_metrics[\"arguments\"][\"TP\"] += 1\n",
        "\n",
        "                        if ann_arg_classification.lower() == model_arg_classification.lower():\n",
        "                            metrics[\"argument_classifications\"][\"TP\"] += 1\n",
        "                            local_metrics[\"argument_classifications\"][\"TP\"] += 1\n",
        "                        else:\n",
        "                            metrics[\"argument_classifications\"][\"FP\"] += 1\n",
        "                            local_metrics[\"argument_classifications\"][\"FP\"] += 1\n",
        "                        matched_model_args.add(model_arg_text)\n",
        "                        match_found = True\n",
        "                        break\n",
        "\n",
        "                if not match_found:\n",
        "                    metrics[\"arguments\"][\"FN\"] += 1\n",
        "                    local_metrics[\"arguments\"][\"FN\"] += 1\n",
        "                    metrics[\"argument_classifications\"][\"FN\"] += 1\n",
        "                    local_metrics[\"argument_classifications\"][\"FN\"] += 1\n",
        "\n",
        "            for _ in range(len(best_match.get('arguments', [])) - len(ann_answer.get('arguments', []))):\n",
        "                metrics[\"arguments\"][\"FP\"] += 1\n",
        "                local_metrics[\"arguments\"][\"FP\"] += 1\n",
        "                metrics[\"argument_classifications\"][\"FP\"] += 1\n",
        "                local_metrics[\"argument_classifications\"][\"FP\"] += 1\n",
        "        else:\n",
        "            metrics[\"answers\"][\"FN\"] += 1\n",
        "            local_metrics[\"answers\"][\"FN\"] += 1\n",
        "            metrics[\"answer_classifications\"][\"FN\"] += 1\n",
        "            local_metrics[\"answer_classifications\"][\"FN\"] += 1\n",
        "            for ann_arg in ann_answer.get('arguments', []):\n",
        "                metrics[\"arguments\"][\"FN\"] += 1\n",
        "                local_metrics[\"arguments\"][\"FN\"] += 1\n",
        "                metrics[\"argument_classifications\"][\"FN\"] += 1\n",
        "                local_metrics[\"argument_classifications\"][\"FN\"] += 1\n",
        "\n",
        "    for model_answer in model:\n",
        "        if not any(comp['Model Answer'] == model_answer['answer'] for comp in answer_comparisons):\n",
        "            metrics[\"answers\"][\"FP\"] += 1\n",
        "            local_metrics[\"answers\"][\"FP\"] += 1\n",
        "            metrics[\"answer_classifications\"][\"FP\"] += 1\n",
        "            local_metrics[\"answer_classifications\"][\"FP\"] += 1\n",
        "            for model_arg in model_answer.get('arguments', []):\n",
        "                if not any(comp['Model Argument'] == model_arg['text'] for comp in argument_comparisons):\n",
        "                    metrics[\"arguments\"][\"FP\"] += 1\n",
        "                    local_metrics[\"arguments\"][\"FP\"] += 1\n",
        "                    metrics[\"argument_classifications\"][\"FP\"] += 1\n",
        "                    local_metrics[\"argument_classifications\"][\"FP\"] += 1\n",
        "\n",
        "    return local_metrics, metrics\n",
        "\n",
        "# Function to display metrics\n",
        "def display_metrics(metrics, title=\"Metrics\"):\n",
        "    print(f\"\\n{title}:\")\n",
        "    for key, value in metrics.items():\n",
        "        print(f\"{key.capitalize()}: {value}\")\n",
        "\n",
        "# Display initial metrics\n",
        "display_metrics(metrics, \"Initial Metrics\")\n",
        "\n",
        "\n",
        "\n"
      ],
      "metadata": {
        "colab": {
          "base_uri": "https://localhost:8080/"
        },
        "id": "cWLCjqN1zvmz",
        "outputId": "7f2a4816-bfc1-45ee-b7c3-4de5ea9c6d43"
      },
      "execution_count": null,
      "outputs": [
        {
          "output_type": "stream",
          "name": "stdout",
          "text": [
            "\n",
            "Initial Metrics:\n",
            "Answers: {'TP': 0, 'FP': 0, 'FN': 0, 'TN': 0}\n",
            "Answer_classifications: {'TP': 0, 'FP': 0, 'FN': 0, 'TN': 0}\n",
            "Arguments: {'TP': 0, 'FP': 0, 'FN': 0, 'TN': 0}\n",
            "Argument_classifications: {'TP': 0, 'FP': 0, 'FN': 0, 'TN': 0}\n"
          ]
        }
      ]
    },
    {
      "cell_type": "markdown",
      "source": [
        "#Test case 6"
      ],
      "metadata": {
        "id": "fO5zzuvz0a8W"
      }
    },
    {
      "cell_type": "code",
      "source": [
        "# Example usage with the sixth test case\n",
        "annotated_answers_6 = [\n",
        "    {\n",
        "        \"answer\": \"Too much homework.\",\n",
        "        \"classification\": \"Barrier\",\n",
        "        \"arguments\": [\n",
        "            {\n",
        "                \"text\": \"Homework is beneficial. Some weeks are homework-free, while other weeks are overwhelming with homework. If only there is a way for professors to coordinate and distribute workloads evenly across the semester.\",\n",
        "                \"classification\": \"CON\"\n",
        "            }\n",
        "        ]\n",
        "    }\n",
        "]\n",
        "\n",
        "model_answers_6 = [\n",
        "    {\n",
        "        \"answer\": \"Too much homework.\",\n",
        "        \"classification\": \"Barrier\",\n",
        "        \"arguments\": [\n",
        "            {\n",
        "                \"text\": \"Homework is beneficial. Some weeks are homework-free, while other weeks are overwhelming with homework. If only there is a way for professors to coordinate and distribute workloads evenly across the semester.\",\n",
        "                \"classification\": \"PRO\"\n",
        "            }\n",
        "        ]\n",
        "    }\n",
        "]\n",
        "\n",
        "# Process the sixth test case and update metrics\n",
        "local_metrics, metrics = compare(annotated_answers_6, model_answers_6, metrics)\n",
        "\n",
        "# Display metrics for this test case\n",
        "display_metrics(local_metrics, \"Metrics for Test Case 6\")\n",
        "\n",
        "# Display updated metrics\n",
        "display_metrics(metrics, \"Updated Metrics\")\n"
      ],
      "metadata": {
        "colab": {
          "base_uri": "https://localhost:8080/"
        },
        "id": "QK8HGRUQ0ajT",
        "outputId": "3512c692-d5d4-480c-d666-93859f995251"
      },
      "execution_count": null,
      "outputs": [
        {
          "output_type": "stream",
          "name": "stdout",
          "text": [
            "\n",
            "Metrics for Test Case 6:\n",
            "Answers: {'TP': 1, 'FP': 0, 'FN': 0, 'TN': 0}\n",
            "Answer_classifications: {'TP': 1, 'FP': 0, 'FN': 0, 'TN': 0}\n",
            "Arguments: {'TP': 1, 'FP': 0, 'FN': 0, 'TN': 0}\n",
            "Argument_classifications: {'TP': 0, 'FP': 1, 'FN': 0, 'TN': 0}\n",
            "\n",
            "Updated Metrics:\n",
            "Answers: {'TP': 1, 'FP': 0, 'FN': 0, 'TN': 0}\n",
            "Answer_classifications: {'TP': 1, 'FP': 0, 'FN': 0, 'TN': 0}\n",
            "Arguments: {'TP': 1, 'FP': 0, 'FN': 0, 'TN': 0}\n",
            "Argument_classifications: {'TP': 0, 'FP': 1, 'FN': 0, 'TN': 0}\n"
          ]
        }
      ]
    },
    {
      "cell_type": "markdown",
      "source": [
        "#Test Case 7"
      ],
      "metadata": {
        "id": "56Um0ouo4-KZ"
      }
    },
    {
      "cell_type": "code",
      "source": [
        "# Example usage with the seventh test case\n",
        "annotated_answers_7 = [\n",
        "    {\n",
        "        \"answer\": \"The content of cognitive science classes should be re-evaluated.\",\n",
        "        \"classification\": \"Solution\",\n",
        "        \"arguments\": []\n",
        "    },\n",
        "    {\n",
        "        \"answer\": \"We should organize the course content so that students interested in pursuing a PhD in cognitive science can do so without fear. The course should provide a background in cognitive science and cover all areas of the field, such as psychology, neuroscience, linguistics, etc. If not all, at least psychology, neuroscience, and philosophy should be included as they are very important.\",\n",
        "        \"classification\": \"Solution\",\n",
        "        \"arguments\": []\n",
        "    }\n",
        "]\n",
        "\n",
        "model_answers_7 = [\n",
        "    {\n",
        "        \"answer\": \"Content of cognitive science classes should be re-evaluated\",\n",
        "        \"classification\": \"Barrier\",\n",
        "        \"arguments\": []\n",
        "    },\n",
        "    {\n",
        "        \"answer\": \"We should organize the course content so that students interested in pursuing PhD in cognitive science can do so without fear.\",\n",
        "        \"classification\": \"Solution\",\n",
        "        \"arguments\": [\n",
        "            {\n",
        "                \"text\": \"Hopefully, the course should give a background in cognitive science and touch on all areas of this field, such as psychology, neuroscience, linguistics, etc. If not all, at least psychology, neuroscience, and philosophy might be very important.\",\n",
        "                \"classification\": \"PRO\"\n",
        "            }\n",
        "        ]\n",
        "    }\n",
        "]\n",
        "\n",
        "# Process the seventh test case and update metrics\n",
        "local_metrics, metrics = compare(annotated_answers_7, model_answers_7, metrics)\n",
        "\n",
        "# Display metrics for this test case\n",
        "display_metrics(local_metrics, \"Metrics for Test Case 7\")\n",
        "\n",
        "# Display updated metrics\n",
        "display_metrics(metrics, \"Updated Metrics\")\n"
      ],
      "metadata": {
        "colab": {
          "base_uri": "https://localhost:8080/"
        },
        "id": "MQzE8gWp492U",
        "outputId": "5e7ef9bb-5cbe-4886-e413-739d7f8ae611"
      },
      "execution_count": null,
      "outputs": [
        {
          "output_type": "stream",
          "name": "stdout",
          "text": [
            "\n",
            "Metrics for Test Case 7:\n",
            "Answers: {'TP': 2, 'FP': 0, 'FN': 0, 'TN': 0}\n",
            "Answer_classifications: {'TP': 1, 'FP': 1, 'FN': 0, 'TN': 0}\n",
            "Arguments: {'TP': 0, 'FP': 1, 'FN': 0, 'TN': 0}\n",
            "Argument_classifications: {'TP': 0, 'FP': 1, 'FN': 0, 'TN': 0}\n",
            "\n",
            "Updated Metrics:\n",
            "Answers: {'TP': 3, 'FP': 0, 'FN': 0, 'TN': 0}\n",
            "Answer_classifications: {'TP': 2, 'FP': 1, 'FN': 0, 'TN': 0}\n",
            "Arguments: {'TP': 1, 'FP': 1, 'FN': 0, 'TN': 0}\n",
            "Argument_classifications: {'TP': 0, 'FP': 2, 'FN': 0, 'TN': 0}\n"
          ]
        }
      ]
    },
    {
      "cell_type": "markdown",
      "source": [
        "#Test case 8"
      ],
      "metadata": {
        "id": "3jrCcxwYDrhp"
      }
    },
    {
      "cell_type": "code",
      "source": [
        "# Test case 8\n",
        "annotated_answers_8 = [\n",
        "    {\n",
        "        \"answer\": \"There is a need for specialization.\",\n",
        "        \"classification\": \"Solution\",\n",
        "        \"arguments\": [\n",
        "            {\n",
        "                \"text\": \"I don't think it is a good thing, allow student to explore and be a tool for many jobs.\",\n",
        "                \"classification\": \"CON\"\n",
        "            }\n",
        "        ]\n",
        "    }\n",
        "]\n",
        "\n",
        "model_answers_8 = [\n",
        "    {\n",
        "        \"answer\": \"There is need for specialization\",\n",
        "        \"classification\": \"Solution\",\n",
        "        \"arguments\": [\n",
        "            {\n",
        "                \"text\": \"I don't think it is a good thing, allow student to explore and be a tool for many jobs.\",\n",
        "                \"classification\": \"CON\"\n",
        "            }\n",
        "        ]\n",
        "    }\n",
        "]\n",
        "# Process the seventh test case and update metrics\n",
        "local_metrics, metrics = compare(annotated_answers_8, model_answers_8, metrics)\n",
        "\n",
        "# Display metrics for this test case\n",
        "display_metrics(local_metrics, \"Metrics for Test Case 8\")\n",
        "\n",
        "# Display updated metrics\n",
        "display_metrics(metrics, \"Updated Metrics\")"
      ],
      "metadata": {
        "colab": {
          "base_uri": "https://localhost:8080/"
        },
        "id": "J_PqU-5PDtwX",
        "outputId": "149af931-c0c5-4c1f-fd42-2780b9566bbe"
      },
      "execution_count": null,
      "outputs": [
        {
          "output_type": "stream",
          "name": "stdout",
          "text": [
            "\n",
            "Metrics for Test Case 8:\n",
            "Answers: {'TP': 1, 'FP': 0, 'FN': 0, 'TN': 0}\n",
            "Answer_classifications: {'TP': 1, 'FP': 0, 'FN': 0, 'TN': 0}\n",
            "Arguments: {'TP': 1, 'FP': 0, 'FN': 0, 'TN': 0}\n",
            "Argument_classifications: {'TP': 1, 'FP': 0, 'FN': 0, 'TN': 0}\n",
            "\n",
            "Updated Metrics:\n",
            "Answers: {'TP': 4, 'FP': 0, 'FN': 0, 'TN': 0}\n",
            "Answer_classifications: {'TP': 3, 'FP': 1, 'FN': 0, 'TN': 0}\n",
            "Arguments: {'TP': 2, 'FP': 1, 'FN': 0, 'TN': 0}\n",
            "Argument_classifications: {'TP': 1, 'FP': 2, 'FN': 0, 'TN': 0}\n"
          ]
        }
      ]
    },
    {
      "cell_type": "markdown",
      "source": [
        "Test case 9"
      ],
      "metadata": {
        "id": "_y_9W8o0FNx7"
      }
    },
    {
      "cell_type": "code",
      "source": [
        "annotated_answers_9 = [\n",
        "    {\n",
        "        \"answer\": \"We do not benefit from some classes\",\n",
        "        \"classification\": \"Barrier\",\n",
        "        \"arguments\": []\n",
        "    }\n",
        "]\n",
        "\n",
        "model_answers_9 = [\n",
        "    {\n",
        "        \"answer\": \"We do not benefit from some classes\",\n",
        "        \"classification\": \"Barrier\",\n",
        "        \"arguments\": [\n",
        "            {\n",
        "                \"text\": \"I disagree with scientific English being boring; it would even be more beneficial if it were a compulsory course throughout the master's program.\",\n",
        "                \"classification\": \"CON\"\n",
        "            }\n",
        "        ]\n",
        "    }\n",
        "]\n",
        "\n",
        "# Process the ninth test case and update metrics\n",
        "local_metrics, metrics = compare(annotated_answers_9, model_answers_9, metrics)\n",
        "\n",
        "# Display metrics for this test case\n",
        "display_metrics(local_metrics, \"Metrics for Test Case 9\")\n",
        "\n",
        "# Display updated metrics\n",
        "display_metrics(metrics, \"Updated Metrics\")"
      ],
      "metadata": {
        "colab": {
          "base_uri": "https://localhost:8080/"
        },
        "id": "LlvSKBV1FFPh",
        "outputId": "249676fe-407a-47d6-ecc1-d0db981f5cd0"
      },
      "execution_count": null,
      "outputs": [
        {
          "output_type": "stream",
          "name": "stdout",
          "text": [
            "\n",
            "Metrics for Test Case 9:\n",
            "Answers: {'TP': 1, 'FP': 0, 'FN': 0, 'TN': 0}\n",
            "Answer_classifications: {'TP': 1, 'FP': 0, 'FN': 0, 'TN': 0}\n",
            "Arguments: {'TP': 0, 'FP': 1, 'FN': 0, 'TN': 0}\n",
            "Argument_classifications: {'TP': 0, 'FP': 1, 'FN': 0, 'TN': 0}\n",
            "\n",
            "Updated Metrics:\n",
            "Answers: {'TP': 5, 'FP': 0, 'FN': 0, 'TN': 0}\n",
            "Answer_classifications: {'TP': 4, 'FP': 1, 'FN': 0, 'TN': 0}\n",
            "Arguments: {'TP': 2, 'FP': 2, 'FN': 0, 'TN': 0}\n",
            "Argument_classifications: {'TP': 1, 'FP': 3, 'FN': 0, 'TN': 0}\n"
          ]
        }
      ]
    },
    {
      "cell_type": "markdown",
      "source": [
        "#Test case 10"
      ],
      "metadata": {
        "id": "FeFcGPmqGdka"
      }
    },
    {
      "cell_type": "code",
      "source": [
        "# Example usage with the tenth test case\n",
        "annotated_answers_10 = [\n",
        "    {\n",
        "        \"answer\": \"No midterm break\",\n",
        "        \"classification\": \"Barrier\",\n",
        "        \"arguments\": [\n",
        "            {\n",
        "                \"text\": \"this is the most important, because as of now. we are already worn out due to many readings, projects and assignment.\",\n",
        "                \"classification\": \"PRO\"\n",
        "            }\n",
        "        ]\n",
        "    }\n",
        "]\n",
        "\n",
        "model_answers_10 = [\n",
        "    {\n",
        "        \"answer\": \"No midterm break\",\n",
        "        \"classification\": \"BARRIER\",\n",
        "        \"arguments\": [\n",
        "            {\n",
        "                \"text\": \"this is the most important, because as of now. we are already worn out due to many readings, projects and assignment.\",\n",
        "                \"classification\": \"PRO\"\n",
        "            }\n",
        "        ]\n",
        "    }\n",
        "]\n",
        "\n",
        "# Process the tenth test case and update metrics\n",
        "local_metrics, metrics = compare(annotated_answers_10, model_answers_10, metrics)\n",
        "\n",
        "# Display metrics for this test case\n",
        "display_metrics(local_metrics, \"Metrics for Test Case 10\")\n",
        "\n",
        "# Display updated metrics\n",
        "display_metrics(metrics, \"Updated Metrics\")"
      ],
      "metadata": {
        "colab": {
          "base_uri": "https://localhost:8080/"
        },
        "id": "5GtO-DOLGfoT",
        "outputId": "096e88b4-19ba-437b-8c4e-4b7381ec6f64"
      },
      "execution_count": null,
      "outputs": [
        {
          "output_type": "stream",
          "name": "stdout",
          "text": [
            "\n",
            "Metrics for Test Case 10:\n",
            "Answers: {'TP': 1, 'FP': 0, 'FN': 0, 'TN': 0}\n",
            "Answer_classifications: {'TP': 1, 'FP': 0, 'FN': 0, 'TN': 0}\n",
            "Arguments: {'TP': 1, 'FP': 0, 'FN': 0, 'TN': 0}\n",
            "Argument_classifications: {'TP': 1, 'FP': 0, 'FN': 0, 'TN': 0}\n",
            "\n",
            "Updated Metrics:\n",
            "Answers: {'TP': 6, 'FP': 0, 'FN': 0, 'TN': 0}\n",
            "Answer_classifications: {'TP': 5, 'FP': 1, 'FN': 0, 'TN': 0}\n",
            "Arguments: {'TP': 3, 'FP': 2, 'FN': 0, 'TN': 0}\n",
            "Argument_classifications: {'TP': 2, 'FP': 3, 'FN': 0, 'TN': 0}\n"
          ]
        }
      ]
    },
    {
      "cell_type": "markdown",
      "source": [
        "#Test case 11"
      ],
      "metadata": {
        "id": "6MYtrGa1H7CZ"
      }
    },
    {
      "cell_type": "code",
      "source": [
        "# Example usage with the eleventh test case\n",
        "annotated_answers_11 = [\n",
        "    {\n",
        "        \"answer\": \"Too much homework\",\n",
        "        \"classification\": \"Barrier\",\n",
        "        \"arguments\": [\n",
        "            {\n",
        "                \"text\": \"If length of lecture is reduced, there will be time to do home work. Everything is just too much.\",\n",
        "                \"classification\": \"PRO\"\n",
        "            }\n",
        "        ]\n",
        "    }\n",
        "]\n",
        "\n",
        "model_answers_11 = [\n",
        "    {\n",
        "        \"answer\": \"Too much homework\",\n",
        "        \"classification\": \"Barrier\",\n",
        "        \"arguments\": [\n",
        "            {\n",
        "                \"text\": \"If length of lecture is reduced, there will be time to do home work.\",\n",
        "                \"classification\": \"PRO\"\n",
        "            },\n",
        "            {\n",
        "                \"text\": \"Everything is just too much.\",\n",
        "                \"classification\": \"PRO\"\n",
        "            }\n",
        "        ]\n",
        "    }\n",
        "]\n",
        "\n",
        "# Process the eleventh test case and update metrics\n",
        "local_metrics, metrics = compare(annotated_answers_11, model_answers_11, metrics)\n",
        "\n",
        "# Display metrics for this test case\n",
        "display_metrics(local_metrics, \"Metrics for Test Case 11\")\n",
        "\n",
        "# Display updated metrics\n",
        "display_metrics(metrics, \"Updated Metrics\")"
      ],
      "metadata": {
        "colab": {
          "base_uri": "https://localhost:8080/"
        },
        "id": "pxjhCjIDH-Q0",
        "outputId": "e40de116-67bf-4654-be40-a1e3d688f4d3"
      },
      "execution_count": null,
      "outputs": [
        {
          "output_type": "stream",
          "name": "stdout",
          "text": [
            "\n",
            "Metrics for Test Case 11:\n",
            "Answers: {'TP': 1, 'FP': 0, 'FN': 0, 'TN': 0}\n",
            "Answer_classifications: {'TP': 1, 'FP': 0, 'FN': 0, 'TN': 0}\n",
            "Arguments: {'TP': 1, 'FP': 1, 'FN': 0, 'TN': 0}\n",
            "Argument_classifications: {'TP': 1, 'FP': 1, 'FN': 0, 'TN': 0}\n",
            "\n",
            "Updated Metrics:\n",
            "Answers: {'TP': 7, 'FP': 0, 'FN': 0, 'TN': 0}\n",
            "Answer_classifications: {'TP': 6, 'FP': 1, 'FN': 0, 'TN': 0}\n",
            "Arguments: {'TP': 4, 'FP': 3, 'FN': 0, 'TN': 0}\n",
            "Argument_classifications: {'TP': 3, 'FP': 4, 'FN': 0, 'TN': 0}\n"
          ]
        }
      ]
    },
    {
      "cell_type": "markdown",
      "source": [
        "#Test case 12"
      ],
      "metadata": {
        "id": "TV8f_DL9JGD5"
      }
    },
    {
      "cell_type": "code",
      "source": [
        "# Example usage with the twelfth test case\n",
        "annotated_answers_12 = [\n",
        "    {\n",
        "        \"answer\": \"Too much hours of classes per week\",\n",
        "        \"classification\": \"Barrier\",\n",
        "        \"arguments\": []\n",
        "    }\n",
        "]\n",
        "\n",
        "model_answers_12 = [\n",
        "    {\n",
        "        \"answer\": \"too many hours of classes per week\",\n",
        "        \"classification\": \"BARRIER\",\n",
        "        \"arguments\": [\n",
        "            {\n",
        "                \"text\": \"We could have at most two lectures per day\",\n",
        "                \"classification\": \"PRO\"\n",
        "            }\n",
        "        ]\n",
        "    }\n",
        "]\n",
        "\n",
        "# Process the twelfth test case and update metrics\n",
        "local_metrics, metrics = compare(annotated_answers_12, model_answers_12, metrics)\n",
        "\n",
        "# Display metrics for this test case\n",
        "display_metrics(local_metrics, \"Metrics for Test Case 12\")\n",
        "\n",
        "# Display updated metrics\n",
        "display_metrics(metrics, \"Updated Metrics\")"
      ],
      "metadata": {
        "colab": {
          "base_uri": "https://localhost:8080/"
        },
        "id": "xiYCLNKKJJ_g",
        "outputId": "08217db4-4024-4ac3-b6e0-b4e3760836e1"
      },
      "execution_count": null,
      "outputs": [
        {
          "output_type": "stream",
          "name": "stdout",
          "text": [
            "\n",
            "Metrics for Test Case 12:\n",
            "Answers: {'TP': 1, 'FP': 0, 'FN': 0, 'TN': 0}\n",
            "Answer_classifications: {'TP': 1, 'FP': 0, 'FN': 0, 'TN': 0}\n",
            "Arguments: {'TP': 0, 'FP': 1, 'FN': 0, 'TN': 0}\n",
            "Argument_classifications: {'TP': 0, 'FP': 1, 'FN': 0, 'TN': 0}\n",
            "\n",
            "Updated Metrics:\n",
            "Answers: {'TP': 8, 'FP': 0, 'FN': 0, 'TN': 0}\n",
            "Answer_classifications: {'TP': 7, 'FP': 1, 'FN': 0, 'TN': 0}\n",
            "Arguments: {'TP': 4, 'FP': 4, 'FN': 0, 'TN': 0}\n",
            "Argument_classifications: {'TP': 3, 'FP': 5, 'FN': 0, 'TN': 0}\n"
          ]
        }
      ]
    },
    {
      "cell_type": "markdown",
      "source": [
        "#Test Case 13"
      ],
      "metadata": {
        "id": "9xEbJ7BIJ802"
      }
    },
    {
      "cell_type": "code",
      "source": [
        "\n",
        "# Example usage with the thirteenth test case\n",
        "annotated_answers_13 = [\n",
        "    {\n",
        "        \"answer\": \"Research as means to foster innovation in SCI Master's Program\",\n",
        "        \"classification\": \"SOLUTION\",\n",
        "        \"arguments\": [\n",
        "            {\n",
        "                \"text\": \"Master's students should be involved in the research works in SCI. It may also be necessary that they start developing practical knowledge early. I guess the research project should be the student's contribution to the community. It will be most useful after the six-month internship. They need to have the choice to work on relevant subjects that they are interested in.\",\n",
        "                \"classification\": \"PRO\"\n",
        "            }\n",
        "        ]\n",
        "    }\n",
        "]\n",
        "\n",
        "model_answers_13 = [\n",
        "    {\n",
        "        \"answer\": \"Research as means to foster innovation in SCI Master's Program\",\n",
        "        \"classification\": \"SOLUTION\",\n",
        "        \"arguments\": [\n",
        "            {\n",
        "                \"text\": \"Master's students should be involved in the research works in SCI.\",\n",
        "                \"classification\": \"PRO\"\n",
        "            }\n",
        "        ]\n",
        "    },\n",
        "    {\n",
        "        \"answer\": \"Master's students should be involved in the research works in SCI. It may also be necessary that they start developing practical knowledge early. I guess the research project should be the student's contribution to the community. It will be most useful after the six-month internship. They need to have the choice to work on relevant subjects that they are interested in.\",\n",
        "        \"classification\": \"SOLUTION\",\n",
        "        \"arguments\": [\n",
        "            {\n",
        "                \"text\": \"It may also be necessary that they start developing practical knowledge early.\",\n",
        "                \"classification\": \"PRO\"\n",
        "            },\n",
        "            {\n",
        "                \"text\": \"I guess the research project should be the student's contribution to the community.\",\n",
        "                \"classification\": \"PRO\"\n",
        "            },\n",
        "            {\n",
        "                \"text\": \"It will be most useful after the six-month internship.\",\n",
        "                \"classification\": \"PRO\"\n",
        "            },\n",
        "            {\n",
        "                \"text\": \"They need to have the choice to work on relevant subjects that they are interested in.\",\n",
        "                \"classification\": \"PRO\"\n",
        "            }\n",
        "        ]\n",
        "    }\n",
        "]\n",
        "\n",
        "# Process the thirteenth test case and update metrics\n",
        "local_metrics, metrics = compare(annotated_answers_13, model_answers_13, metrics)\n",
        "\n",
        "# Display metrics for this test case\n",
        "display_metrics(local_metrics, \"Metrics for Test Case 13\")\n",
        "\n",
        "# Display updated metrics\n",
        "display_metrics(metrics, \"Updated Metrics\")\n"
      ],
      "metadata": {
        "colab": {
          "base_uri": "https://localhost:8080/"
        },
        "id": "oVTjRNQHJ_9u",
        "outputId": "6998fa63-773f-49de-c637-612f3c5bbf4d"
      },
      "execution_count": null,
      "outputs": [
        {
          "output_type": "stream",
          "name": "stdout",
          "text": [
            "\n",
            "Metrics for Test Case 13:\n",
            "Answers: {'TP': 1, 'FP': 1, 'FN': 0, 'TN': 0}\n",
            "Answer_classifications: {'TP': 1, 'FP': 1, 'FN': 0, 'TN': 0}\n",
            "Arguments: {'TP': 1, 'FP': 4, 'FN': 0, 'TN': 0}\n",
            "Argument_classifications: {'TP': 1, 'FP': 4, 'FN': 0, 'TN': 0}\n",
            "\n",
            "Updated Metrics:\n",
            "Answers: {'TP': 9, 'FP': 1, 'FN': 0, 'TN': 0}\n",
            "Answer_classifications: {'TP': 8, 'FP': 2, 'FN': 0, 'TN': 0}\n",
            "Arguments: {'TP': 5, 'FP': 8, 'FN': 0, 'TN': 0}\n",
            "Argument_classifications: {'TP': 4, 'FP': 9, 'FN': 0, 'TN': 0}\n"
          ]
        }
      ]
    },
    {
      "cell_type": "markdown",
      "source": [
        "#Test case 14"
      ],
      "metadata": {
        "id": "Ny6s6RnPNgfu"
      }
    },
    {
      "cell_type": "code",
      "source": [
        "\n",
        "# Test case 14\n",
        "annotated_answers_14 = [\n",
        "    {\n",
        "        \"answer\": \"The amount of research funding\",\n",
        "        \"classification\": \"Metrics\",\n",
        "        \"arguments\": [\n",
        "            {\n",
        "                \"text\": \"Lots of funding implies that we are doing good research.\",\n",
        "                \"classification\": \"PRO\"\n",
        "            },\n",
        "            {\n",
        "                \"text\": \"More funding help to do more research.\",\n",
        "                \"classification\": \"PRO\"\n",
        "            },\n",
        "            {\n",
        "                \"text\": \"High funding allow conducting the research more efficiently and allows for the use of modern technology.\",\n",
        "                \"classification\": \"PRO\"\n",
        "            },\n",
        "            {\n",
        "                \"text\": \"Its not always true, managers don’t know how to manage well as it is better to choose the right managers.\",\n",
        "                \"classification\": \"CON\"\n",
        "            }\n",
        "        ]\n",
        "    }\n",
        "]\n",
        "\n",
        "model_answers_14 = [\n",
        "    {\n",
        "        \"answer\": \"The amount of research funding.\",\n",
        "        \"classification\": \"Metrics\",\n",
        "        \"arguments\": [\n",
        "            {\n",
        "                \"text\": \"Lots of funding implies that we are doing good research.\",\n",
        "                \"classification\": \"PRO\"\n",
        "            },\n",
        "            {\n",
        "                \"text\": \"Its not always true, managers don’t know how to manage well as it is better to choose the right managers.\",\n",
        "                \"classification\": \"CON\"\n",
        "            }\n",
        "        ]\n",
        "    }\n",
        "]\n",
        "\n",
        "# Process the fourteenth test case and update metrics\n",
        "local_metrics, metrics = compare(annotated_answers_14, model_answers_14, metrics)\n",
        "\n",
        "# Display metrics for this test case\n",
        "display_metrics(local_metrics, \"Metrics for Test Case 14\")\n",
        "\n",
        "# Display updated metrics\n",
        "display_metrics(metrics, \"Updated Metrics\")\n"
      ],
      "metadata": {
        "colab": {
          "base_uri": "https://localhost:8080/"
        },
        "id": "EQ1Ad0DlNo8f",
        "outputId": "47bfb378-7eb1-47c1-ae3c-37822461245a"
      },
      "execution_count": null,
      "outputs": [
        {
          "output_type": "stream",
          "name": "stdout",
          "text": [
            "\n",
            "Metrics for Test Case 14:\n",
            "Answers: {'TP': 1, 'FP': 0, 'FN': 0, 'TN': 0}\n",
            "Answer_classifications: {'TP': 1, 'FP': 0, 'FN': 0, 'TN': 0}\n",
            "Arguments: {'TP': 2, 'FP': 0, 'FN': 2, 'TN': 0}\n",
            "Argument_classifications: {'TP': 2, 'FP': 0, 'FN': 2, 'TN': 0}\n",
            "\n",
            "Updated Metrics:\n",
            "Answers: {'TP': 10, 'FP': 1, 'FN': 0, 'TN': 0}\n",
            "Answer_classifications: {'TP': 9, 'FP': 2, 'FN': 0, 'TN': 0}\n",
            "Arguments: {'TP': 7, 'FP': 8, 'FN': 2, 'TN': 0}\n",
            "Argument_classifications: {'TP': 6, 'FP': 9, 'FN': 2, 'TN': 0}\n"
          ]
        }
      ]
    },
    {
      "cell_type": "markdown",
      "source": [
        "#Test case 15"
      ],
      "metadata": {
        "id": "pLrbcGHcXtwB"
      }
    },
    {
      "cell_type": "code",
      "source": [
        "# Example usage for test case 15\n",
        "annotated_answers_15 = [\n",
        "    {\n",
        "        \"answer\": \"The prestige of the funding agency.\",\n",
        "        \"classification\": \"Metrics\",\n",
        "        \"arguments\": [\n",
        "            {\n",
        "                \"text\": \"World-class funding agencies offers network and international recognition\",\n",
        "                \"classification\": \"PRO\"\n",
        "            },\n",
        "            {\n",
        "                \"text\": \"This funding can enable the university to pursue ambitious projects and initiatives that might otherwise be unattainable.\",\n",
        "                \"classification\": \"PRO\"\n",
        "            },\n",
        "            {\n",
        "                \"text\": \"International collaborations indicate good research capability and impact.\",\n",
        "                \"classification\": \"PRO\"\n",
        "            },\n",
        "            {\n",
        "                \"text\": \"Attracting international funds is a positive reputation.\",\n",
        "                \"classification\": \"PRO\"\n",
        "            }\n",
        "        ]\n",
        "    }\n",
        "]\n",
        "\n",
        "model_answers_15 = [\n",
        "    {\n",
        "        \"answer\": \"The prestige of the funding agency.\",\n",
        "        \"classification\": \"Metrics\",\n",
        "        \"arguments\": [\n",
        "            {\n",
        "                \"text\": \"World-class funding agencies offer network and international recognition.\",\n",
        "                \"classification\": \"PRO\"\n",
        "            }\n",
        "        ]\n",
        "    },\n",
        "    {\n",
        "        \"answer\": \"Increased Funding Opportunities.\",\n",
        "        \"classification\": \"Metrics\",\n",
        "        \"arguments\": [\n",
        "            {\n",
        "                \"text\": \"This funding can enable the university to pursue ambitious projects and initiatives that might otherwise be unattainable.\",\n",
        "                \"classification\": \"PRO\"\n",
        "            },\n",
        "            {\n",
        "                \"text\": \"International collaborations indicate good research capability and impact.\",\n",
        "                \"classification\": \"PRO\"\n",
        "            },\n",
        "            {\n",
        "                \"text\": \"Attracting international funds is a positive reputation.\",\n",
        "                \"classification\": \"PRO\"\n",
        "            }\n",
        "        ]\n",
        "    }\n",
        "]\n",
        "\n",
        "local_metrics_15, updated_metrics = compare(annotated_answers_15, model_answers_15, metrics)\n",
        "\n",
        "# Display metrics for test case 15\n",
        "display_metrics(local_metrics_15, \"Metrics for Test Case 15\")\n",
        "# Display updated metrics\n",
        "display_metrics(updated_metrics, \"Updated Metrics\")"
      ],
      "metadata": {
        "colab": {
          "base_uri": "https://localhost:8080/"
        },
        "id": "wmUSpvV-XwHP",
        "outputId": "8cef29fe-12c3-41f8-9193-1c036bdb31e3"
      },
      "execution_count": null,
      "outputs": [
        {
          "output_type": "stream",
          "name": "stdout",
          "text": [
            "\n",
            "Metrics for Test Case 15:\n",
            "Answers: {'TP': 1, 'FP': 1, 'FN': 0, 'TN': 0}\n",
            "Answer_classifications: {'TP': 1, 'FP': 1, 'FN': 0, 'TN': 0}\n",
            "Arguments: {'TP': 1, 'FP': 3, 'FN': 3, 'TN': 0}\n",
            "Argument_classifications: {'TP': 1, 'FP': 3, 'FN': 3, 'TN': 0}\n",
            "\n",
            "Updated Metrics:\n",
            "Answers: {'TP': 11, 'FP': 2, 'FN': 0, 'TN': 0}\n",
            "Answer_classifications: {'TP': 10, 'FP': 3, 'FN': 0, 'TN': 0}\n",
            "Arguments: {'TP': 8, 'FP': 11, 'FN': 5, 'TN': 0}\n",
            "Argument_classifications: {'TP': 7, 'FP': 12, 'FN': 5, 'TN': 0}\n"
          ]
        }
      ]
    },
    {
      "cell_type": "markdown",
      "source": [
        "#Test case 16"
      ],
      "metadata": {
        "id": "rLYSRtSIYR3M"
      }
    },
    {
      "cell_type": "code",
      "source": [
        "# Test case 16 dictionary format\n",
        "annotated_answers_16 = [\n",
        "    {\n",
        "        \"answer\": \"Management, i.e., the researcher must supervise the students.\",\n",
        "        \"classification\": \"Solution\",\n",
        "        \"arguments\": [\n",
        "            {\n",
        "                \"text\": \"Without good supervision, the student cannot follow the right paths. Supervision is critical in training future researchers.\",\n",
        "                \"classification\": \"PRO\"\n",
        "            },\n",
        "            {\n",
        "                \"text\": \"The effectiveness of supervision depends on the student, their will, and their motivation. A supervisor must be a psychologically stable person with an open mind. The strength of our supervision showcases the ability to transfer knowledge to future researchers and ensure perpetuity. A student will do their best if they are motivated, even with light supervision, and will do the minimum if they are unmotivated, even with forced supervision.\",\n",
        "                \"classification\": \"CON\"\n",
        "            }\n",
        "        ]\n",
        "    },\n",
        "    {\n",
        "        \"answer\": \"The supervisor must be in the field.\",\n",
        "        \"classification\": \"Solution\",\n",
        "        \"arguments\": []\n",
        "    },\n",
        "    {\n",
        "        \"answer\": \"The number of supervised students and the quality of the research output should be assessed.\",\n",
        "        \"classification\": \"Metrics\",\n",
        "        \"arguments\": []\n",
        "    }\n",
        "]\n",
        "\n",
        "model_answers_16 = [\n",
        "    {\n",
        "        \"answer\": \"The number of supervised students and the quality of the research output should be assessed.\",\n",
        "        \"classification\": \"Metrics\",\n",
        "        \"arguments\": [\n",
        "            {\n",
        "                \"text\": \"Without good supervision, the student cannot follow the right paths, supervision is critical in training future researchers.\",\n",
        "                \"classification\": \"PRO\"\n",
        "            },\n",
        "            {\n",
        "                \"text\": \"The supervisor must be in the field.\",\n",
        "                \"classification\": \"PRO\"\n",
        "            },\n",
        "            {\n",
        "                \"text\": \"The supervision depends on the student, his will and his motivation.\",\n",
        "                \"classification\": \"CON\"\n",
        "            },\n",
        "            {\n",
        "                \"text\": \"A student will do his best if he wants with light supervision, A student will do his minimum if he wants even with forced supervision.\",\n",
        "                \"classification\": \"CON\"\n",
        "            }\n",
        "        ]\n",
        "    }\n",
        "]"
      ],
      "metadata": {
        "id": "G9GGIo5nYTeC"
      },
      "execution_count": null,
      "outputs": []
    },
    {
      "cell_type": "code",
      "source": [
        "local_metrics_16, updated_metrics = compare(annotated_answers_16, model_answers_16, metrics)\n",
        "\n",
        "# Display metrics for test case 16\n",
        "display_metrics(local_metrics_16, \"Metrics for Test Case 16\")\n",
        "# Display updated metrics\n",
        "display_metrics(updated_metrics, \"Updated Metrics\")"
      ],
      "metadata": {
        "colab": {
          "base_uri": "https://localhost:8080/"
        },
        "id": "X1Z_JHsja6qI",
        "outputId": "90c73731-fe6a-47fd-b8c2-fd1915c41d22"
      },
      "execution_count": null,
      "outputs": [
        {
          "output_type": "stream",
          "name": "stdout",
          "text": [
            "\n",
            "Metrics for Test Case 16:\n",
            "Answers: {'TP': 1, 'FP': 0, 'FN': 2, 'TN': 0}\n",
            "Answer_classifications: {'TP': 1, 'FP': 0, 'FN': 2, 'TN': 0}\n",
            "Arguments: {'TP': 0, 'FP': 4, 'FN': 2, 'TN': 0}\n",
            "Argument_classifications: {'TP': 0, 'FP': 4, 'FN': 2, 'TN': 0}\n",
            "\n",
            "Updated Metrics:\n",
            "Answers: {'TP': 12, 'FP': 2, 'FN': 2, 'TN': 0}\n",
            "Answer_classifications: {'TP': 11, 'FP': 3, 'FN': 2, 'TN': 0}\n",
            "Arguments: {'TP': 8, 'FP': 15, 'FN': 7, 'TN': 0}\n",
            "Argument_classifications: {'TP': 7, 'FP': 16, 'FN': 7, 'TN': 0}\n"
          ]
        }
      ]
    },
    {
      "cell_type": "markdown",
      "source": [
        "#Test case 17"
      ],
      "metadata": {
        "id": "Pby6O7LFdGhy"
      }
    },
    {
      "cell_type": "code",
      "source": [
        "\n",
        "# Test case 17 dictionary format\n",
        "annotated_answers_17 = [\n",
        "    {\n",
        "        \"answer\": \"The total number of research papers produced.\",\n",
        "        \"classification\": \"Metrics\",\n",
        "        \"arguments\": [\n",
        "            {\n",
        "                \"text\": \"The higher the university's research activity, the more papers are produced, making it a good success indicator.\",\n",
        "                \"classification\": \"PRO\"\n",
        "            },\n",
        "            {\n",
        "                \"text\": \"The total number of research papers does not mean much; it is the quality of the papers that matters, i.e., impact factor. Focusing on the number may lead to shallow content. The number is not important if the papers are not relevant. In some fields, the number is not a key performance indicator (e.g., Humanities).\",\n",
        "                \"classification\": \"CON\"\n",
        "            }\n",
        "        ]\n",
        "    }\n",
        "]\n",
        "\n",
        "model_answers_17 = [\n",
        "    {\n",
        "        \"answer\": \"The total number of research papers produced.\",\n",
        "        \"classification\": \"Metric\",\n",
        "        \"arguments\": [\n",
        "            {\n",
        "                \"text\": \"I see that the more the university research activity is high, the more papers are produced. So it is a good success indicator.\",\n",
        "                \"classification\": \"PRO\"\n",
        "            }\n",
        "        ]\n",
        "    },\n",
        "    {\n",
        "        \"answer\": \"The total number of research papers does not mean much, it is mainly the quality papers that matters, ie, impact factor.\",\n",
        "        \"classification\": \"Metric\",\n",
        "        \"arguments\": [\n",
        "            {\n",
        "                \"text\": \"The focus on number may lead to shallow content.\",\n",
        "                \"classification\": \"CON\"\n",
        "            },\n",
        "            {\n",
        "                \"text\": \"The number is not important if not relevant papers.\",\n",
        "                \"classification\": \"CON\"\n",
        "            },\n",
        "            {\n",
        "                \"text\": \"In some fields, the number is not a KPI (ei Humanities).\",\n",
        "                \"classification\": \"CON\"\n",
        "            }\n",
        "        ]\n",
        "    }\n",
        "]\n",
        "\n",
        "local_metrics_17, updated_metrics = compare(annotated_answers_17, model_answers_17, metrics)\n",
        "\n",
        "# Display metrics for test case 17\n",
        "display_metrics(local_metrics_17, \"Metrics for Test Case 17\")\n",
        "# Display updated metrics\n",
        "display_metrics(updated_metrics, \"Updated Metrics\")"
      ],
      "metadata": {
        "colab": {
          "base_uri": "https://localhost:8080/"
        },
        "id": "SmoIs1ZfdJag",
        "outputId": "97e00ec2-7d03-4228-ca1b-7ef34cbc3788"
      },
      "execution_count": null,
      "outputs": [
        {
          "output_type": "stream",
          "name": "stdout",
          "text": [
            "\n",
            "Metrics for Test Case 17:\n",
            "Answers: {'TP': 1, 'FP': 1, 'FN': 0, 'TN': 0}\n",
            "Answer_classifications: {'TP': 0, 'FP': 2, 'FN': 0, 'TN': 0}\n",
            "Arguments: {'TP': 1, 'FP': 3, 'FN': 1, 'TN': 0}\n",
            "Argument_classifications: {'TP': 1, 'FP': 3, 'FN': 1, 'TN': 0}\n",
            "\n",
            "Updated Metrics:\n",
            "Answers: {'TP': 13, 'FP': 3, 'FN': 2, 'TN': 0}\n",
            "Answer_classifications: {'TP': 11, 'FP': 5, 'FN': 2, 'TN': 0}\n",
            "Arguments: {'TP': 9, 'FP': 18, 'FN': 8, 'TN': 0}\n",
            "Argument_classifications: {'TP': 8, 'FP': 19, 'FN': 8, 'TN': 0}\n"
          ]
        }
      ]
    },
    {
      "cell_type": "markdown",
      "source": [
        "#Test case 18"
      ],
      "metadata": {
        "id": "RrE-NicgfJZd"
      }
    },
    {
      "cell_type": "code",
      "source": [
        "# Test case 18 dictionary format\n",
        "annotated_answers_18 = [\n",
        "    {\n",
        "        \"answer\": \"It is important to be evaluated by international experts and to evaluate research structures and groups every 5 years.\",\n",
        "        \"classification\": \"Metrics\",\n",
        "        \"arguments\": [\n",
        "            {\n",
        "                \"text\": \"Yes, as long as the senior members of the specific scientific community are consulted.\",\n",
        "                \"classification\": \"PRO\"\n",
        "            }\n",
        "        ]\n",
        "    }\n",
        "]\n",
        "\n",
        "model_answers_18 = [\n",
        "    {\n",
        "        \"answer\": \"It is important to be evaluated by international experts and to evaluate research structures and groups every 5 years.\",\n",
        "        \"classification\": \"Metrics\",\n",
        "        \"arguments\": [\n",
        "            {\n",
        "                \"text\": \"Yes, as long as the senior members of the specific scientific community are consulted.\",\n",
        "                \"classification\": \"PRO\"\n",
        "            }\n",
        "        ]\n",
        "    }\n",
        "]\n",
        "local_metrics_18, updated_metrics = compare(annotated_answers_18, model_answers_18, metrics)\n",
        "\n",
        "# Display metrics for test case 18\n",
        "display_metrics(local_metrics_18, \"Metrics for Test Case 18\")\n",
        "# Display updated metrics\n",
        "display_metrics(updated_metrics, \"Updated Metrics\")"
      ],
      "metadata": {
        "colab": {
          "base_uri": "https://localhost:8080/"
        },
        "id": "5erRrXMWfMbi",
        "outputId": "fcbfa361-b7dc-4d24-a632-20605ef6f0f6"
      },
      "execution_count": null,
      "outputs": [
        {
          "output_type": "stream",
          "name": "stdout",
          "text": [
            "\n",
            "Metrics for Test Case 18:\n",
            "Answers: {'TP': 1, 'FP': 0, 'FN': 0, 'TN': 0}\n",
            "Answer_classifications: {'TP': 1, 'FP': 0, 'FN': 0, 'TN': 0}\n",
            "Arguments: {'TP': 1, 'FP': 0, 'FN': 0, 'TN': 0}\n",
            "Argument_classifications: {'TP': 1, 'FP': 0, 'FN': 0, 'TN': 0}\n",
            "\n",
            "Updated Metrics:\n",
            "Answers: {'TP': 14, 'FP': 3, 'FN': 2, 'TN': 0}\n",
            "Answer_classifications: {'TP': 12, 'FP': 5, 'FN': 2, 'TN': 0}\n",
            "Arguments: {'TP': 10, 'FP': 18, 'FN': 8, 'TN': 0}\n",
            "Argument_classifications: {'TP': 9, 'FP': 19, 'FN': 8, 'TN': 0}\n"
          ]
        }
      ]
    },
    {
      "cell_type": "markdown",
      "source": [
        "#Test case 19"
      ],
      "metadata": {
        "id": "jUZ-WQslgZEF"
      }
    },
    {
      "cell_type": "code",
      "source": [
        "# Annotated answer\n",
        "annotated_answer_19 = [\n",
        "    {\n",
        "        \"answer\": \"To hire interns, a professor should not need to go through a lengthy process with HR.\",\n",
        "        \"classification\": \"BARRIER\",\n",
        "        \"arguments\": [\n",
        "            {\n",
        "                \"text\": \"Hiring correctly will help to match the project with the right person in time without delay due to HR procedures.\",\n",
        "                \"classification\": \"PRO\"\n",
        "            }\n",
        "        ]\n",
        "    },\n",
        "    {\n",
        "        \"answer\": \"Paying small fees for conference registrations requires a lengthy process with Finance.\",\n",
        "        \"classification\": \"BARRIER\",\n",
        "        \"arguments\": []\n",
        "    }\n",
        "]\n",
        "\n",
        "model_answers_19 = [\n",
        "    {\n",
        "        \"answer\": \"To hire interns, a professor should not need to go through a lengthy process with HR.\",\n",
        "        \"classification\": \"BARRIER\",\n",
        "        \"arguments\": [\n",
        "            {\n",
        "                \"text\": \"This will help to match the project with the right person in time without delay due to HR procedures.\",\n",
        "                \"classification\": \"PRO\"\n",
        "            }\n",
        "        ]\n",
        "    },\n",
        "    {\n",
        "        \"answer\": \"Paying small fees for conference registrations requires a lengthy process with Finance.\",\n",
        "        \"classification\": \"BARRIER\",\n",
        "        \"arguments\": [\n",
        "            {\n",
        "                \"text\": \"This will help to match the project with the right person in time without delay due to HR procedures.\",\n",
        "                \"classification\": \"PRO\"\n",
        "            }\n",
        "        ]\n",
        "    }\n",
        "]\n",
        "\n",
        "\n",
        "# Process the new test case and update metrics\n",
        "# Extract the dictionary from the list\n",
        "local_metrics, metrics = compare(annotated_answer_19, model_answers_19, metrics)\n",
        "\n",
        "# Display metrics for this test case\n",
        "display_metrics(local_metrics, \"Metrics for Test Case 19\")\n",
        "\n",
        "# Display updated metrics\n",
        "display_metrics(metrics, \"Updated Metrics\")"
      ],
      "metadata": {
        "colab": {
          "base_uri": "https://localhost:8080/"
        },
        "id": "Taw52_66gcSR",
        "outputId": "574c6f25-ac99-49c2-89c8-13d2052c5159"
      },
      "execution_count": null,
      "outputs": [
        {
          "output_type": "stream",
          "name": "stdout",
          "text": [
            "\n",
            "Metrics for Test Case 19:\n",
            "Answers: {'TP': 2, 'FP': 0, 'FN': 0, 'TN': 0}\n",
            "Answer_classifications: {'TP': 2, 'FP': 0, 'FN': 0, 'TN': 0}\n",
            "Arguments: {'TP': 1, 'FP': 1, 'FN': 0, 'TN': 0}\n",
            "Argument_classifications: {'TP': 1, 'FP': 1, 'FN': 0, 'TN': 0}\n",
            "\n",
            "Updated Metrics:\n",
            "Answers: {'TP': 16, 'FP': 3, 'FN': 2, 'TN': 0}\n",
            "Answer_classifications: {'TP': 14, 'FP': 5, 'FN': 2, 'TN': 0}\n",
            "Arguments: {'TP': 11, 'FP': 19, 'FN': 8, 'TN': 0}\n",
            "Argument_classifications: {'TP': 10, 'FP': 20, 'FN': 8, 'TN': 0}\n"
          ]
        }
      ]
    },
    {
      "cell_type": "markdown",
      "source": [
        "#Testcase 20"
      ],
      "metadata": {
        "id": "bVBUuQ2MPMS_"
      }
    },
    {
      "cell_type": "code",
      "source": [
        "# Test case dictionary format\n",
        "annotated_answer_20 = [\n",
        "    {\n",
        "        \"answer\": \"Lack of internal collaboration.\",\n",
        "        \"classification\": \"Barriers\",\n",
        "        \"arguments\": [\n",
        "            {\n",
        "                \"text\": \"Yes, there is a lot of individualism. Encouraging internal collaboration increases collective intelligence because of the diversity of UM6P’s departments. They should collaborate to find solutions to research problems. There is very limited collaboration between departments; just sharing the information or activity domains of the department will create more possibilities for collaboration.\",\n",
        "                \"classification\": \"PRO\"\n",
        "            }\n",
        "        ]\n",
        "    }\n",
        "]\n",
        "\n",
        "model_answer_20 = [\n",
        "    {\n",
        "        \"answer\": \"Lack of Internal collaboration.\",\n",
        "        \"classification\": \"Barriers\",\n",
        "        \"arguments\": []\n",
        "    },\n",
        "    {\n",
        "        \"answer\": \"Encouraging internal collaboration increases collective intelligence because of the diversity of Um6p’s departments, they should collaborate to find research problems solutions there is very limited collaboration between departments just sharing the information or activity domains of the department will create more possibilities of collaboration.\",\n",
        "        \"classification\": \"SOLUTION\",\n",
        "        \"arguments\": [\n",
        "            {\n",
        "                \"text\": \"Encouraging internal collaboration increases collective intelligence because of the diversity of Um6p’s departments.\",\n",
        "                \"classification\": \"PRO\"\n",
        "            },\n",
        "            {\n",
        "                \"text\": \"They should collaborate to find research problems solutions.\",\n",
        "                \"classification\": \"PRO\"\n",
        "            },\n",
        "            {\n",
        "                \"text\": \"There is very limited collaboration between departments.\",\n",
        "                \"classification\": \"CON\"\n",
        "            },\n",
        "            {\n",
        "                \"text\": \"Just sharing the information or activity domains of the department will create more possibilities of collaboration.\",\n",
        "                \"classification\": \"PRO\"\n",
        "            }\n",
        "        ]\n",
        "    },\n",
        "    {\n",
        "        \"answer\": \"Avoid conflicts of interest by avoiding that the lead program is in direct 'competition' with the members of its entity.\",\n",
        "        \"classification\": \"SOLUTION\",\n",
        "        \"arguments\": [\n",
        "            {\n",
        "                \"text\": \"Interdisciplinary projects help moderate the effect of this type of conflict.\",\n",
        "                \"classification\": \"PRO\"\n",
        "            },\n",
        "            {\n",
        "                \"text\": \"This dynamism was created by calls for multidisciplinary projects, which is a very good initiative but remains insufficient.\",\n",
        "                \"classification\": \"CON\"\n",
        "            }\n",
        "        ]\n",
        "    }\n",
        "]\n",
        "# Process the new test case and update metrics\n",
        "# Extract the dictionary from the list\n",
        "local_metrics, metrics = compare(annotated_answer_20, model_answer_20, metrics)\n",
        "\n",
        "# Display metrics for this test case\n",
        "display_metrics(local_metrics, \"Metrics for Test Case 20\")\n",
        "\n",
        "# Display updated metrics\n",
        "display_metrics(metrics, \"Updated Metrics\")"
      ],
      "metadata": {
        "colab": {
          "base_uri": "https://localhost:8080/"
        },
        "id": "LaKKGrGDPLoI",
        "outputId": "49bba5aa-8c9a-4496-fe8e-877d40eeb799"
      },
      "execution_count": null,
      "outputs": [
        {
          "output_type": "stream",
          "name": "stdout",
          "text": [
            "\n",
            "Metrics for Test Case 20:\n",
            "Answers: {'TP': 1, 'FP': 2, 'FN': 0, 'TN': 0}\n",
            "Answer_classifications: {'TP': 1, 'FP': 2, 'FN': 0, 'TN': 0}\n",
            "Arguments: {'TP': 0, 'FP': 6, 'FN': 1, 'TN': 0}\n",
            "Argument_classifications: {'TP': 0, 'FP': 6, 'FN': 1, 'TN': 0}\n",
            "\n",
            "Updated Metrics:\n",
            "Answers: {'TP': 17, 'FP': 5, 'FN': 2, 'TN': 0}\n",
            "Answer_classifications: {'TP': 15, 'FP': 7, 'FN': 2, 'TN': 0}\n",
            "Arguments: {'TP': 11, 'FP': 25, 'FN': 9, 'TN': 0}\n",
            "Argument_classifications: {'TP': 10, 'FP': 26, 'FN': 9, 'TN': 0}\n"
          ]
        }
      ]
    },
    {
      "cell_type": "markdown",
      "source": [
        "#Test case 21"
      ],
      "metadata": {
        "id": "r9tzlCwARl1i"
      }
    },
    {
      "cell_type": "code",
      "source": [
        "annotated_answer_21 = [\n",
        "    {\n",
        "        \"answer\": \"Creation of a large number of departments working on the same research subjects. (UM6P internal conflict of interest)\",\n",
        "        \"classification\": \"Solution\",\n",
        "        \"arguments\": [\n",
        "            {\n",
        "                \"text\": \"Creating a large number of departments working on the same research topics within UM6P can lead to internal conflicts.\",\n",
        "                \"classification\": \"CON\"\n",
        "            }\n",
        "        ]\n",
        "    },\n",
        "    {\n",
        "        \"answer\": \"More value must be given to PhD students to boost their mood to work and publish (high price of accommodation and registration fees).\",\n",
        "        \"classification\": \"Solution\",\n",
        "        \"arguments\": [\n",
        "            {\n",
        "                \"text\": \"PhD students already have excellent conditions. They have very good working conditions that other students do not have, neither in Morocco nor in developed countries.\",\n",
        "                \"classification\": \"CON\"\n",
        "            }\n",
        "        ]\n",
        "    }\n",
        "]\n",
        "\n",
        "model_answer_21 = [\n",
        "    {\n",
        "        \"answer\": \"Creation of a large number of departments working on the same research subjects.\",\n",
        "        \"classification\": \"BARRIER\",\n",
        "        \"arguments\": [\n",
        "            {\n",
        "                \"text\": \"(UM6P internal conflict of interest)\",\n",
        "                \"classification\": \"PRO\"\n",
        "            }\n",
        "        ]\n",
        "    },\n",
        "    {\n",
        "        \"answer\": \"More value must be given to PhD students to boost their mood to work and publish (high price of accommodation and registration fees)\",\n",
        "        \"classification\": \"BARRIER\",\n",
        "        \"arguments\": [\n",
        "            {\n",
        "                \"text\": \"PhD have excellent conditions. students have very good working conditions that other students do not have, neither in Morocco nor in developed countries.\",\n",
        "                \"classification\": \"CON\"\n",
        "            }\n",
        "        ]\n",
        "    }\n",
        "]\n",
        "\n",
        "# Process the new test case and update metrics\n",
        "# Extract the dictionary from the list\n",
        "local_metrics, metrics = compare(annotated_answer_21, model_answer_21, metrics)\n",
        "\n",
        "# Display metrics for this test case\n",
        "display_metrics(local_metrics, \"Metrics for Test Case 20\")\n",
        "\n",
        "# Display updated metrics\n",
        "display_metrics(metrics, \"Updated Metrics\")"
      ],
      "metadata": {
        "colab": {
          "base_uri": "https://localhost:8080/"
        },
        "id": "lNGy9pbcRp1i",
        "outputId": "aade38b6-8fb1-496b-be26-c1cfbc82348f"
      },
      "execution_count": null,
      "outputs": [
        {
          "output_type": "stream",
          "name": "stdout",
          "text": [
            "\n",
            "Metrics for Test Case 20:\n",
            "Answers: {'TP': 2, 'FP': 0, 'FN': 0, 'TN': 0}\n",
            "Answer_classifications: {'TP': 0, 'FP': 2, 'FN': 0, 'TN': 0}\n",
            "Arguments: {'TP': 1, 'FP': 0, 'FN': 1, 'TN': 0}\n",
            "Argument_classifications: {'TP': 1, 'FP': 0, 'FN': 1, 'TN': 0}\n",
            "\n",
            "Updated Metrics:\n",
            "Answers: {'TP': 19, 'FP': 5, 'FN': 2, 'TN': 0}\n",
            "Answer_classifications: {'TP': 15, 'FP': 9, 'FN': 2, 'TN': 0}\n",
            "Arguments: {'TP': 12, 'FP': 25, 'FN': 10, 'TN': 0}\n",
            "Argument_classifications: {'TP': 11, 'FP': 26, 'FN': 10, 'TN': 0}\n"
          ]
        }
      ]
    },
    {
      "cell_type": "markdown",
      "source": [
        "#Test case 22"
      ],
      "metadata": {
        "id": "xdjDISPKUkep"
      }
    },
    {
      "cell_type": "code",
      "source": [
        "# Test case 22 dictionary format\n",
        "annotated_answer_22 = [\n",
        "    {\n",
        "        \"answer\": \"Lack of competent scientific advice.\",\n",
        "        \"classification\": \"Barrier\",\n",
        "        \"arguments\": [\n",
        "            {\n",
        "                \"text\": \"For research to work, there must be a competent scientific council at the university elected by the faculty members and therefore by the researchers themselves.\",\n",
        "                \"classification\": \"PRO\"\n",
        "            }\n",
        "        ]\n",
        "    }\n",
        "]\n",
        "\n",
        "model_answer_22 = [\n",
        "    {\n",
        "        \"answer\": \"Lack of competent scientific advice.\",\n",
        "        \"classification\": \"Barrier\",\n",
        "        \"arguments\": [\n",
        "            {\n",
        "                \"text\": \"For research to work there must be a competent scientific council of the university elected by the faculty members and therefore by the researchers themselves.\",\n",
        "                \"classification\": \"Solution\"\n",
        "            }\n",
        "        ]\n",
        "    }\n",
        "]\n",
        "# Process the new test case and update metrics\n",
        "# Extract the dictionary from the list\n",
        "local_metrics, metrics = compare(annotated_answer_22, model_answer_22, metrics)\n",
        "\n",
        "# Display metrics for this test case\n",
        "display_metrics(local_metrics, \"Metrics for Test Case 20\")\n",
        "\n",
        "# Display updated metrics\n",
        "display_metrics(metrics, \"Updated Metrics\")"
      ],
      "metadata": {
        "colab": {
          "base_uri": "https://localhost:8080/"
        },
        "id": "De9D-UfvUoVr",
        "outputId": "35fa739f-e414-49e4-8420-88af429d190d"
      },
      "execution_count": null,
      "outputs": [
        {
          "output_type": "stream",
          "name": "stdout",
          "text": [
            "\n",
            "Metrics for Test Case 20:\n",
            "Answers: {'TP': 1, 'FP': 0, 'FN': 0, 'TN': 0}\n",
            "Answer_classifications: {'TP': 1, 'FP': 0, 'FN': 0, 'TN': 0}\n",
            "Arguments: {'TP': 1, 'FP': 0, 'FN': 0, 'TN': 0}\n",
            "Argument_classifications: {'TP': 0, 'FP': 1, 'FN': 0, 'TN': 0}\n",
            "\n",
            "Updated Metrics:\n",
            "Answers: {'TP': 20, 'FP': 5, 'FN': 2, 'TN': 0}\n",
            "Answer_classifications: {'TP': 16, 'FP': 9, 'FN': 2, 'TN': 0}\n",
            "Arguments: {'TP': 13, 'FP': 25, 'FN': 10, 'TN': 0}\n",
            "Argument_classifications: {'TP': 11, 'FP': 27, 'FN': 10, 'TN': 0}\n"
          ]
        }
      ]
    },
    {
      "cell_type": "markdown",
      "source": [
        "#Test case 23"
      ],
      "metadata": {
        "id": "pyCWe5V0V5El"
      }
    },
    {
      "cell_type": "code",
      "source": [
        "# Test case 23 dictionary format\n",
        "annotated_answer_23 = [\n",
        "    {\n",
        "        \"answer\": \"Making all parties feel included—researchers, PhD students, staff, and engineers in research—by first covering critical necessities such as housing, accessibility, and lifestyle.\",\n",
        "        \"classification\": \"Solution\",\n",
        "        \"arguments\": []\n",
        "    },\n",
        "    {\n",
        "        \"answer\": \"By strategically planning activities and events that will maximize productivity and motivation, and provide opportunities to link and learn together.\",\n",
        "        \"classification\": \"Solution\",\n",
        "        \"arguments\": []\n",
        "    }\n",
        "]\n",
        "\n",
        "model_answer_23 = [\n",
        "    {\n",
        "        \"answer\": \"Making all parties feel included—researchers, PhD students, staff, and engineers in research.\",\n",
        "        \"classification\": \"Solution\",\n",
        "        \"arguments\": [\n",
        "            {\n",
        "                \"text\": \"By first covering critical necessities housing accessibility life style.. and by strategically planning activities events and that will maximise the productivity and motivation in one hand and the opportunity to link and learn together.\",\n",
        "                \"classification\": \"PRO\"\n",
        "            }\n",
        "        ]\n",
        "    }\n",
        "]\n",
        "\n",
        "# Process the new test case and update metrics\n",
        "# Extract the dictionary from the list\n",
        "local_metrics, metrics = compare(annotated_answer_23, model_answer_23, metrics)\n",
        "\n",
        "# Display metrics for this test case\n",
        "display_metrics(local_metrics, \"Metrics for Test Case 23\")\n",
        "\n",
        "# Display updated metrics\n",
        "display_metrics(metrics, \"Updated Metrics\")"
      ],
      "metadata": {
        "colab": {
          "base_uri": "https://localhost:8080/"
        },
        "id": "EQfQjZcnV7vq",
        "outputId": "e5d5f07c-cc61-49c4-d82b-ed58507ab877"
      },
      "execution_count": null,
      "outputs": [
        {
          "output_type": "stream",
          "name": "stdout",
          "text": [
            "\n",
            "Metrics for Test Case 23:\n",
            "Answers: {'TP': 1, 'FP': 0, 'FN': 1, 'TN': 0}\n",
            "Answer_classifications: {'TP': 1, 'FP': 0, 'FN': 1, 'TN': 0}\n",
            "Arguments: {'TP': 0, 'FP': 1, 'FN': 0, 'TN': 0}\n",
            "Argument_classifications: {'TP': 0, 'FP': 1, 'FN': 0, 'TN': 0}\n",
            "\n",
            "Updated Metrics:\n",
            "Answers: {'TP': 21, 'FP': 5, 'FN': 3, 'TN': 0}\n",
            "Answer_classifications: {'TP': 17, 'FP': 9, 'FN': 3, 'TN': 0}\n",
            "Arguments: {'TP': 13, 'FP': 26, 'FN': 10, 'TN': 0}\n",
            "Argument_classifications: {'TP': 11, 'FP': 28, 'FN': 10, 'TN': 0}\n"
          ]
        }
      ]
    },
    {
      "cell_type": "markdown",
      "source": [
        "#Test case 24"
      ],
      "metadata": {
        "id": "LZsbOqWzWZJf"
      }
    },
    {
      "cell_type": "code",
      "source": [
        "\n",
        "# Test case 24 dictionary format\n",
        "annotated_answer_24 = [\n",
        "    {\n",
        "        \"answer\": \"Lack of evaluation skills.\",\n",
        "        \"classification\": \"Barrier\",\n",
        "        \"arguments\": []\n",
        "    },\n",
        "    {\n",
        "        \"answer\": \"Need for more communication and involvement of the staff in important decisions.\",\n",
        "        \"classification\": \"Barrier\",\n",
        "        \"arguments\": []\n",
        "    },\n",
        "    {\n",
        "        \"answer\": \"Lack of real sense of leadership.\",\n",
        "        \"classification\": \"Barrier\",\n",
        "        \"arguments\": []\n",
        "    },\n",
        "    {\n",
        "        \"answer\": \"Program managers must be evaluated and trained in the management of structures.\",\n",
        "        \"classification\": \"Solution\",\n",
        "        \"arguments\": [\n",
        "            {\n",
        "                \"text\": \"A good researcher is not always a good manager.\",\n",
        "                \"classification\": \"PRO\"\n",
        "            }\n",
        "        ]\n",
        "    }\n",
        "]\n",
        "\n",
        "model_answer_24 = [\n",
        "    {\n",
        "        \"answer\": \"Lack of evaluation skills.\",\n",
        "        \"classification\": \"BARRIER\",\n",
        "        \"arguments\": []\n",
        "    },\n",
        "    {\n",
        "        \"answer\": \"Need for more communication and involvement of the staff in important decisions.\",\n",
        "        \"classification\": \"BARRIER\",\n",
        "        \"arguments\": []\n",
        "    },\n",
        "    {\n",
        "        \"answer\": \"Lack of real sense of leadership.\",\n",
        "        \"classification\": \"BARRIER\",\n",
        "        \"arguments\": []\n",
        "    },\n",
        "    {\n",
        "        \"answer\": \"Program managers must be evaluated and trained in the management of structures.\",\n",
        "        \"classification\": \"SOLUTION\",\n",
        "        \"arguments\": [\n",
        "            {\n",
        "                \"text\": \"A good researcher is not always a good manager.\",\n",
        "                \"classification\": \"PRO\"\n",
        "            }\n",
        "        ]\n",
        "    }\n",
        "]\n",
        "# Process the new test case and update metrics\n",
        "# Extract the dictionary from the list\n",
        "local_metrics, metrics = compare(annotated_answer_24, model_answer_24, metrics)\n",
        "\n",
        "# Display metrics for this test case\n",
        "display_metrics(local_metrics, \"Metrics for Test Case 24\")\n",
        "\n",
        "# Display updated metrics\n",
        "display_metrics(metrics, \"Updated Metrics\")"
      ],
      "metadata": {
        "colab": {
          "base_uri": "https://localhost:8080/"
        },
        "id": "3-CSY__LWnR7",
        "outputId": "fdf79508-3d03-4f7a-e928-6b84d2537089"
      },
      "execution_count": null,
      "outputs": [
        {
          "output_type": "stream",
          "name": "stdout",
          "text": [
            "\n",
            "Metrics for Test Case 24:\n",
            "Answers: {'TP': 4, 'FP': 0, 'FN': 0, 'TN': 0}\n",
            "Answer_classifications: {'TP': 4, 'FP': 0, 'FN': 0, 'TN': 0}\n",
            "Arguments: {'TP': 1, 'FP': 0, 'FN': 0, 'TN': 0}\n",
            "Argument_classifications: {'TP': 1, 'FP': 0, 'FN': 0, 'TN': 0}\n",
            "\n",
            "Updated Metrics:\n",
            "Answers: {'TP': 25, 'FP': 5, 'FN': 3, 'TN': 0}\n",
            "Answer_classifications: {'TP': 21, 'FP': 9, 'FN': 3, 'TN': 0}\n",
            "Arguments: {'TP': 14, 'FP': 26, 'FN': 10, 'TN': 0}\n",
            "Argument_classifications: {'TP': 12, 'FP': 28, 'FN': 10, 'TN': 0}\n"
          ]
        }
      ]
    },
    {
      "cell_type": "markdown",
      "source": [
        "#Test case 25"
      ],
      "metadata": {
        "id": "euGLSya9X2lu"
      }
    },
    {
      "cell_type": "code",
      "source": [
        "# Test case 25 dictionary format\n",
        "annotated_answer_25 = [\n",
        "    {\n",
        "        \"answer\": \"Use competition as a driving force to advance research.\",\n",
        "        \"classification\": \"Solutions\",\n",
        "        \"arguments\": [\n",
        "            {\n",
        "                \"text\": \"The University is still young to compete, it is better to evaluate the yearly performance. Evaluating the yearly performance of the University until it is on the same stage of universities of reference on three levels (Morocco, Africa, Worldwide)\",\n",
        "                \"classification\": \"CON\"\n",
        "            }\n",
        "        ]\n",
        "    }\n",
        "]\n",
        "\n",
        "model_answer_25 = [\n",
        "    {\n",
        "        \"answer\": \"Use competition as a driving force to advance research.\",\n",
        "        \"classification\": \"Solutions\",\n",
        "        \"arguments\": []\n",
        "    },\n",
        "    {\n",
        "        \"answer\": \"The University is still young to compete, it is better to evaluate the yearly performance.\",\n",
        "        \"classification\": \"BARRIER\",\n",
        "        \"arguments\": [\n",
        "            {\n",
        "                \"text\": \"Evaluating the yearly performance of the University until it is on the same stage of universities of reference on three levels (Morocco, Africa, Worldwide)\",\n",
        "                \"classification\": \"PRO\"\n",
        "            }\n",
        "        ]\n",
        "    }\n",
        "]\n",
        "# Process the new test case and update metrics\n",
        "# Extract the dictionary from the list\n",
        "local_metrics, metrics = compare(annotated_answer_25, model_answer_25, metrics)\n",
        "\n",
        "# Display metrics for this test case\n",
        "display_metrics(local_metrics, \"Metrics for Test Case 25\")\n",
        "\n",
        "# Display updated metrics\n",
        "display_metrics(metrics, \"Updated Metrics\")\n"
      ],
      "metadata": {
        "colab": {
          "base_uri": "https://localhost:8080/"
        },
        "id": "_LP6uWQuX4Q2",
        "outputId": "3002efb9-a179-4b96-a043-69a636b896e5"
      },
      "execution_count": null,
      "outputs": [
        {
          "output_type": "stream",
          "name": "stdout",
          "text": [
            "\n",
            "Metrics for Test Case 25:\n",
            "Answers: {'TP': 1, 'FP': 1, 'FN': 0, 'TN': 0}\n",
            "Answer_classifications: {'TP': 1, 'FP': 1, 'FN': 0, 'TN': 0}\n",
            "Arguments: {'TP': 0, 'FP': 1, 'FN': 1, 'TN': 0}\n",
            "Argument_classifications: {'TP': 0, 'FP': 1, 'FN': 1, 'TN': 0}\n",
            "\n",
            "Updated Metrics:\n",
            "Answers: {'TP': 26, 'FP': 6, 'FN': 3, 'TN': 0}\n",
            "Answer_classifications: {'TP': 22, 'FP': 10, 'FN': 3, 'TN': 0}\n",
            "Arguments: {'TP': 14, 'FP': 27, 'FN': 11, 'TN': 0}\n",
            "Argument_classifications: {'TP': 12, 'FP': 29, 'FN': 11, 'TN': 0}\n"
          ]
        }
      ]
    },
    {
      "cell_type": "markdown",
      "source": [
        "#Testcase 26"
      ],
      "metadata": {
        "id": "9_pQ1F01Z8h7"
      }
    },
    {
      "cell_type": "code",
      "source": [
        "# Test case 26 dictionary format\n",
        "annotated_answer_26 = [\n",
        "    {\n",
        "        \"answer\": \"Purchasing delay affect research project : Put in place procedures/processes to limit delays and ensure equipment received is the same as the one ordered.\",\n",
        "        \"classification\": \"Barrier\",\n",
        "        \"arguments\": [\n",
        "            {\n",
        "                \"text\": \"Spent a lot of time waiting of Chemical Items Glassware & amp Consumables.\",\n",
        "                \"classification\": \"PRO\"\n",
        "            }\n",
        "        ]\n",
        "    },\n",
        "    {\n",
        "        \"answer\": \"Fluidity of the process: Find a way to make purchasing products easier.\",\n",
        "        \"classification\": \"Solution\",\n",
        "        \"arguments\": [\n",
        "            {\n",
        "                \"text\": \"This process should be as smooth as possible. In European universities, the project manager is responsible for recruiting the postdoc he wants and the only time he goes to HR is for the Ex contract (chemical products).\",\n",
        "                \"classification\": \"PRO\"\n",
        "            }\n",
        "        ]\n",
        "    }\n",
        "]\n",
        "\n",
        "model_answer_26 = [\n",
        "    {\n",
        "        \"answer\": \"Purchasing delay affect research project.\",\n",
        "        \"classification\": \"Barrier\",\n",
        "        \"arguments\": [\n",
        "            {\n",
        "                \"text\": \"This is very important. Put in place procedures/processes to limit delays and ensure equipment received is the same as the one ordered. Fluidity of the process. Find a way to make purchasing products easier. Spent a lot of time waiting of Chemical Items Glassware &amp Consumables.\",\n",
        "                \"classification\": \"PRO\"\n",
        "            }\n",
        "        ]\n",
        "    },\n",
        "    {\n",
        "        \"answer\": \"This process should be as smooth as possible.\",\n",
        "        \"classification\": \"Solution\",\n",
        "        \"arguments\": [\n",
        "            {\n",
        "                \"text\": \"In European universities, the project manager is responsible for recruiting the postdoc he wants and the only time he goes to HR is for the Ex contract (chemical products).\",\n",
        "                \"classification\": \"PRO\"\n",
        "            }\n",
        "        ]\n",
        "    }\n",
        "]\n",
        "# Process the new test case and update metrics\n",
        "# Extract the dictionary from the list\n",
        "local_metrics, metrics = compare(annotated_answer_26, model_answer_26, metrics)\n",
        "\n",
        "# Display metrics for this test case\n",
        "display_metrics(local_metrics, \"Metrics for Test Case 26\")\n",
        "\n",
        "# Display updated metrics\n",
        "display_metrics(metrics, \"Updated Metrics\")\n"
      ],
      "metadata": {
        "colab": {
          "base_uri": "https://localhost:8080/"
        },
        "id": "CfUXaIvRaBCx",
        "outputId": "ed3f5ad4-046b-4965-b464-f931d8c56818"
      },
      "execution_count": null,
      "outputs": [
        {
          "output_type": "stream",
          "name": "stdout",
          "text": [
            "\n",
            "Metrics for Test Case 26:\n",
            "Answers: {'TP': 0, 'FP': 2, 'FN': 2, 'TN': 0}\n",
            "Answer_classifications: {'TP': 0, 'FP': 2, 'FN': 2, 'TN': 0}\n",
            "Arguments: {'TP': 0, 'FP': 2, 'FN': 2, 'TN': 0}\n",
            "Argument_classifications: {'TP': 0, 'FP': 2, 'FN': 2, 'TN': 0}\n",
            "\n",
            "Updated Metrics:\n",
            "Answers: {'TP': 26, 'FP': 8, 'FN': 5, 'TN': 0}\n",
            "Answer_classifications: {'TP': 22, 'FP': 12, 'FN': 5, 'TN': 0}\n",
            "Arguments: {'TP': 14, 'FP': 29, 'FN': 13, 'TN': 0}\n",
            "Argument_classifications: {'TP': 12, 'FP': 31, 'FN': 13, 'TN': 0}\n"
          ]
        }
      ]
    },
    {
      "cell_type": "markdown",
      "source": [
        "#Testcase 27"
      ],
      "metadata": {
        "id": "94pSGhYacetV"
      }
    },
    {
      "cell_type": "code",
      "source": [
        "# Test case 27 dictionary format\n",
        "annotated_answer_27 = [\n",
        "    {\n",
        "        \"answer\": \"Lack of funding for junior faculty.\",\n",
        "        \"classification\": \"Barrier\",\n",
        "        \"arguments\": [\n",
        "            {\n",
        "                \"text\": \"Insufficient access to startup funds means new projects can’t get started. Junior faculty should have enough funding to jumpstart their research and ensure continuity.\",\n",
        "                \"classification\": \"PRO\"\n",
        "            },\n",
        "            {\n",
        "                \"text\": \"We can easily find opportunities if we have a solid research proposal. Young researchers must learn to work in a team with their hierarchical manager.\",\n",
        "                \"classification\": \"CON\"\n",
        "            }\n",
        "        ]\n",
        "    }\n",
        "]\n",
        "\n",
        "model_answer_27 = [\n",
        "    {\n",
        "        \"answer\": \"Lack of funding for junior faculty\",\n",
        "        \"classification\": \"BARRIER\",\n",
        "        \"arguments\": [\n",
        "            {\n",
        "                \"text\": \"Insufficient (access to) startup funds means new projects can’t get started\",\n",
        "                \"classification\": \"PRO\"\n",
        "            }\n",
        "        ]\n",
        "    },\n",
        "    {\n",
        "        \"answer\": \"Junior faculty should have enough funding to jump start their research Continuity\",\n",
        "        \"classification\": \"SOLUTION\",\n",
        "        \"arguments\": [\n",
        "            {\n",
        "                \"text\": \"There Should be support for junior professors because their impact has longer time as they will eventually spend longer time doing research based at UM6P which should strengthen the ecosystem.\",\n",
        "                \"classification\": \"PRO\"\n",
        "            }\n",
        "        ]\n",
        "    },\n",
        "    {\n",
        "        \"answer\": \"We can easily find an opportunity if we have solid research proposal\",\n",
        "        \"classification\": \"SOLUTION\",\n",
        "        \"arguments\": [\n",
        "            {\n",
        "                \"text\": \"the young researcher must learn to work in a team with his or her hierarchical manager\",\n",
        "                \"classification\": \"PRO\"\n",
        "            }\n",
        "        ]\n",
        "    }\n",
        "]\n",
        "# Process the new test case and update metrics\n",
        "# Extract the dictionary from the list\n",
        "local_metrics, metrics = compare(annotated_answer_27, model_answer_27, metrics)\n",
        "\n",
        "# Display metrics for this test case\n",
        "display_metrics(local_metrics, \"Metrics for Test Case 27\")\n",
        "\n",
        "# Display updated metrics\n",
        "display_metrics(metrics, \"Updated Metrics\")\n"
      ],
      "metadata": {
        "colab": {
          "base_uri": "https://localhost:8080/"
        },
        "id": "k0bOEW3Ccj7o",
        "outputId": "f6d1ca9d-aef8-4c88-cc66-d64d77f94105"
      },
      "execution_count": null,
      "outputs": [
        {
          "output_type": "stream",
          "name": "stdout",
          "text": [
            "\n",
            "Metrics for Test Case 27:\n",
            "Answers: {'TP': 1, 'FP': 2, 'FN': 0, 'TN': 0}\n",
            "Answer_classifications: {'TP': 1, 'FP': 2, 'FN': 0, 'TN': 0}\n",
            "Arguments: {'TP': 1, 'FP': 2, 'FN': 1, 'TN': 0}\n",
            "Argument_classifications: {'TP': 1, 'FP': 2, 'FN': 1, 'TN': 0}\n",
            "\n",
            "Updated Metrics:\n",
            "Answers: {'TP': 27, 'FP': 10, 'FN': 5, 'TN': 0}\n",
            "Answer_classifications: {'TP': 23, 'FP': 14, 'FN': 5, 'TN': 0}\n",
            "Arguments: {'TP': 15, 'FP': 31, 'FN': 14, 'TN': 0}\n",
            "Argument_classifications: {'TP': 13, 'FP': 33, 'FN': 14, 'TN': 0}\n"
          ]
        }
      ]
    },
    {
      "cell_type": "markdown",
      "source": [
        "#Testcase 28"
      ],
      "metadata": {
        "id": "m2ZZoHeeeZxb"
      }
    },
    {
      "cell_type": "code",
      "source": [
        "# Test case 28 dictionary format\n",
        "annotated_answer_28 = [\n",
        "    {\n",
        "        \"answer\": \"New departments that need time to mature and have all necessary equipment.\",\n",
        "        \"classification\": \"Barrier\",\n",
        "        \"arguments\": [\n",
        "            {\n",
        "                \"text\": \"It will absolutely take time and hard work to build a pattern for processing. It takes time for new departments to develop and mature. During this period, there may be a lack of experienced people, which can impact the quality and quantity of research output.\",\n",
        "                \"classification\": \"PRO\"\n",
        "            }\n",
        "        ]\n",
        "    }\n",
        "]\n",
        "\n",
        "model_answer_28 = [\n",
        "    {\n",
        "        \"answer\": \"New departments that need time to mature and have all necessary equipment.\",\n",
        "        \"classification\": \"BARRIER\",\n",
        "        \"arguments\": [\n",
        "            {\n",
        "                \"text\": \"It will absolutely take time and hard work to build a pattern for processing. It takes time for new departments to develop and mature. During this period, there may be a lack of experienced people, which can impact the quality and quantity of research output.\",\n",
        "                \"classification\": \"PRO\"\n",
        "            }\n",
        "        ]\n",
        "    }\n",
        "]\n",
        "\n",
        "# Process the new test case and update metrics\n",
        "# Extract the dictionary from the list\n",
        "local_metrics, metrics = compare(annotated_answer_28, model_answer_28, metrics)\n",
        "\n",
        "# Display metrics for this test case\n",
        "display_metrics(local_metrics, \"Metrics for Test Case 28\")\n",
        "\n",
        "# Display updated metrics\n",
        "display_metrics(metrics, \"Updated Metrics\")"
      ],
      "metadata": {
        "id": "JwUnbOg9esQY",
        "colab": {
          "base_uri": "https://localhost:8080/"
        },
        "outputId": "66b574f5-65b3-4b11-d300-232a00a7e0ff"
      },
      "execution_count": null,
      "outputs": [
        {
          "output_type": "stream",
          "name": "stdout",
          "text": [
            "\n",
            "Metrics for Test Case 28:\n",
            "Answers: {'TP': 1, 'FP': 0, 'FN': 0, 'TN': 0}\n",
            "Answer_classifications: {'TP': 1, 'FP': 0, 'FN': 0, 'TN': 0}\n",
            "Arguments: {'TP': 1, 'FP': 0, 'FN': 0, 'TN': 0}\n",
            "Argument_classifications: {'TP': 1, 'FP': 0, 'FN': 0, 'TN': 0}\n",
            "\n",
            "Updated Metrics:\n",
            "Answers: {'TP': 28, 'FP': 10, 'FN': 5, 'TN': 0}\n",
            "Answer_classifications: {'TP': 24, 'FP': 14, 'FN': 5, 'TN': 0}\n",
            "Arguments: {'TP': 16, 'FP': 31, 'FN': 14, 'TN': 0}\n",
            "Argument_classifications: {'TP': 14, 'FP': 33, 'FN': 14, 'TN': 0}\n"
          ]
        }
      ]
    },
    {
      "cell_type": "markdown",
      "source": [
        "#Test case 29"
      ],
      "metadata": {
        "id": "ej82GG9DwS7C"
      }
    },
    {
      "cell_type": "code",
      "source": [
        "# Test case 29 dictionary format\n",
        "annotated_answers_29 = [\n",
        "    {\n",
        "        \"answer\": \"Via partnership with different sectors such as industry, administration, NGO, etc.\",\n",
        "        \"classification\": \"solutions\",\n",
        "        \"arguments\": []\n",
        "    },\n",
        "    {\n",
        "        \"answer\": \"give access to the University for all the stakeholders (companies, other universities, etc...)\",\n",
        "        \"classification\": \"solutions\",\n",
        "        \"arguments\": []\n",
        "    }\n",
        "]\n",
        "\n",
        "model_answers_29 = [\n",
        "    {\n",
        "        \"answer\": \"Via partnership with different sectors such as industry, administration, NGO, etc.\",\n",
        "        \"classification\": \"SOLUTION\",\n",
        "        \"arguments\": []\n",
        "    },\n",
        "    {\n",
        "        \"answer\": \"give access to the University for all the stakeholders (companies, other universities, etc...)\",\n",
        "        \"classification\": \"SOLUTION\",\n",
        "        \"arguments\": []\n",
        "    }\n",
        "]\n",
        "\n",
        "# Process the new test case and update metrics\n",
        "local_metrics, metrics = compare(annotated_answers_29, model_answers_29, metrics)\n",
        "\n",
        "# Display metrics for this test case\n",
        "display_metrics(local_metrics, \"Metrics for Test Case 29\")\n",
        "\n",
        "# Display updated metrics\n",
        "display_metrics(metrics, \"Updated Metrics\")\n"
      ],
      "metadata": {
        "colab": {
          "base_uri": "https://localhost:8080/"
        },
        "id": "PX6ODUUnwVlv",
        "outputId": "bda3f9db-f944-4494-a561-3662f778051b"
      },
      "execution_count": null,
      "outputs": [
        {
          "output_type": "stream",
          "name": "stdout",
          "text": [
            "\n",
            "Metrics for Test Case 29:\n",
            "Answers: {'TP': 2, 'FP': 0, 'FN': 0, 'TN': 0}\n",
            "Answer_classifications: {'TP': 0, 'FP': 2, 'FN': 0, 'TN': 0}\n",
            "Arguments: {'TP': 0, 'FP': 0, 'FN': 0, 'TN': 0}\n",
            "Argument_classifications: {'TP': 0, 'FP': 0, 'FN': 0, 'TN': 0}\n",
            "\n",
            "Updated Metrics:\n",
            "Answers: {'TP': 30, 'FP': 10, 'FN': 5, 'TN': 0}\n",
            "Answer_classifications: {'TP': 24, 'FP': 16, 'FN': 5, 'TN': 0}\n",
            "Arguments: {'TP': 16, 'FP': 31, 'FN': 14, 'TN': 0}\n",
            "Argument_classifications: {'TP': 14, 'FP': 33, 'FN': 14, 'TN': 0}\n"
          ]
        }
      ]
    },
    {
      "cell_type": "markdown",
      "source": [
        "#Testcase 30"
      ],
      "metadata": {
        "id": "EkliSWBYxhPt"
      }
    },
    {
      "cell_type": "code",
      "source": [
        "# Test case 30 dictionary format\n",
        "annotated_answers_30 = [\n",
        "    {\n",
        "        \"answer\": \"Access to high quality students/ Postdoc in Morocco and Africa\",\n",
        "        \"classification\": \"Barriers\",\n",
        "        \"arguments\": [\n",
        "            {\n",
        "                \"text\": \"The Lydex experience shows this fact that it is very difficult to find good quality students and PostDocs\",\n",
        "                \"classification\": \"PRO\"\n",
        "            },\n",
        "            {\n",
        "                \"text\": \"In africa and in morocco, high quality students and postdocs are everywhere We shouldn’t blame students for our unsuccessful research.\",\n",
        "                \"classification\": \"CON\"\n",
        "            }\n",
        "        ]\n",
        "    }\n",
        "]\n",
        "\n",
        "model_answers_30 = [\n",
        "    {\n",
        "        \"answer\": \"The choice of highly motivated ambitious students since the recruitment stage and motivate them more\",\n",
        "        \"classification\": \"SOLUTION\",\n",
        "        \"arguments\": [\n",
        "            {\n",
        "                \"text\": \"Absolutely. Should put in place outreach activities to attract talented students quality students\",\n",
        "                \"classification\": \"PRO\"\n",
        "            }\n",
        "        ]\n",
        "    },\n",
        "    {\n",
        "        \"answer\": \"It is very difficult to find good quality students and PostDocs\",\n",
        "        \"classification\": \"BARRIER\",\n",
        "        \"arguments\": []\n",
        "    },\n",
        "    {\n",
        "        \"answer\": \"We shouldn’t blame students for our unsuccessful research.\",\n",
        "        \"classification\": \"BARRIER\",\n",
        "        \"arguments\": []\n",
        "    }\n",
        "]\n",
        "\n",
        "# Process the new test case and update metrics\n",
        "local_metrics, metrics = compare(annotated_answers_30, model_answers_30, metrics)\n",
        "\n",
        "# Display metrics for this test case\n",
        "display_metrics(local_metrics, \"Metrics for Test Case 30\")\n",
        "\n",
        "# Display updated metrics\n",
        "display_metrics(metrics, \"Updated Metrics\")\n"
      ],
      "metadata": {
        "colab": {
          "base_uri": "https://localhost:8080/"
        },
        "id": "XDj3eoJ4xg5C",
        "outputId": "518be8db-1dc5-4d11-d316-3381da278d9b"
      },
      "execution_count": null,
      "outputs": [
        {
          "output_type": "stream",
          "name": "stdout",
          "text": [
            "\n",
            "Metrics for Test Case 30:\n",
            "Answers: {'TP': 0, 'FP': 3, 'FN': 1, 'TN': 0}\n",
            "Answer_classifications: {'TP': 0, 'FP': 3, 'FN': 1, 'TN': 0}\n",
            "Arguments: {'TP': 0, 'FP': 1, 'FN': 2, 'TN': 0}\n",
            "Argument_classifications: {'TP': 0, 'FP': 1, 'FN': 2, 'TN': 0}\n",
            "\n",
            "Updated Metrics:\n",
            "Answers: {'TP': 30, 'FP': 13, 'FN': 6, 'TN': 0}\n",
            "Answer_classifications: {'TP': 24, 'FP': 19, 'FN': 6, 'TN': 0}\n",
            "Arguments: {'TP': 16, 'FP': 32, 'FN': 16, 'TN': 0}\n",
            "Argument_classifications: {'TP': 14, 'FP': 34, 'FN': 16, 'TN': 0}\n"
          ]
        }
      ]
    },
    {
      "cell_type": "markdown",
      "source": [
        "#Testcase 31"
      ],
      "metadata": {
        "id": "maWxyhqPyM7z"
      }
    },
    {
      "cell_type": "code",
      "source": [
        "# Test case 31 dictionary format\n",
        "annotated_answers_31 = [\n",
        "    {\n",
        "        \"answer\": \"Lack of clear procedures for career development.\",\n",
        "        \"classification\": \"Barriers\",\n",
        "        \"arguments\": [\n",
        "            {\n",
        "                \"text\": \"The staff who do PhD do not have a vision of their future after 4 years and also they do not receive an annual bonus even if they keep their tasks in full or in part and also they do not benefit salary increase throughout the PhD period. Clear career development pathways help with strengthening the academic belonging to his/her institution.\",\n",
        "                \"classification\": \"PRO\"\n",
        "            }\n",
        "        ]\n",
        "    }\n",
        "]\n",
        "\n",
        "model_answers_31 = [\n",
        "    {\n",
        "        \"answer\": \"Lack of clear procedures for career development.\",\n",
        "        \"classification\": \"Barriers\",\n",
        "        \"arguments\": []\n",
        "    },\n",
        "    {\n",
        "        \"answer\": \"For staff who do PhD at UM6P: many disadvantages belonging to UM6P.\",\n",
        "        \"classification\": \"Barriers\",\n",
        "        \"arguments\": [\n",
        "            {\n",
        "                \"text\": \"The staff who do PhD do not have a vision of their future after 4 years and also they do not receive an annual bonus even if they keep their tasks in full or in part and also they do not benefit salary increase throughout the PhD period.\",\n",
        "                \"classification\": \"PRO\"\n",
        "            },\n",
        "            {\n",
        "                \"text\": \"Clear career development pathways help with strengthening the academic belonging to his/her institution.\",\n",
        "                \"classification\": \"PRO\"\n",
        "            }\n",
        "        ]\n",
        "    }\n",
        "]\n",
        "\n",
        "# Process the new test case and update metrics\n",
        "local_metrics, metrics = compare(annotated_answers_31, model_answers_31, metrics)\n",
        "\n",
        "# Display metrics for this test case\n",
        "display_metrics(local_metrics, \"Metrics for Test Case 31\")\n",
        "\n",
        "# Display updated metrics\n",
        "display_metrics(metrics, \"Updated Metrics\")\n"
      ],
      "metadata": {
        "colab": {
          "base_uri": "https://localhost:8080/"
        },
        "id": "98fXOmt4yPBt",
        "outputId": "949b6161-d532-4fb6-fadb-9fc3a986d09b"
      },
      "execution_count": null,
      "outputs": [
        {
          "output_type": "stream",
          "name": "stdout",
          "text": [
            "\n",
            "Metrics for Test Case 31:\n",
            "Answers: {'TP': 1, 'FP': 1, 'FN': 0, 'TN': 0}\n",
            "Answer_classifications: {'TP': 1, 'FP': 1, 'FN': 0, 'TN': 0}\n",
            "Arguments: {'TP': 0, 'FP': 2, 'FN': 1, 'TN': 0}\n",
            "Argument_classifications: {'TP': 0, 'FP': 2, 'FN': 1, 'TN': 0}\n",
            "\n",
            "Updated Metrics:\n",
            "Answers: {'TP': 31, 'FP': 14, 'FN': 6, 'TN': 0}\n",
            "Answer_classifications: {'TP': 25, 'FP': 20, 'FN': 6, 'TN': 0}\n",
            "Arguments: {'TP': 16, 'FP': 34, 'FN': 17, 'TN': 0}\n",
            "Argument_classifications: {'TP': 14, 'FP': 36, 'FN': 17, 'TN': 0}\n"
          ]
        }
      ]
    },
    {
      "cell_type": "markdown",
      "source": [
        "#Test case 32"
      ],
      "metadata": {
        "id": "aiF4PHBmy4AL"
      }
    },
    {
      "cell_type": "code",
      "source": [
        "# Test case 32 dictionary format\n",
        "annotated_answers_32 = [\n",
        "    {\n",
        "        \"answer\": \"Trying to merge both the american/moroccan/french systems of promotion.\",\n",
        "        \"classification\": \"Barrier\",\n",
        "        \"arguments\": []\n",
        "    },\n",
        "    {\n",
        "        \"answer\": \"Research ethics\",\n",
        "        \"classification\": \"Barrier\",\n",
        "        \"arguments\": [\n",
        "            {\n",
        "                \"text\": \"This should not pose a problem if all researchers are trained in the same research ethics from the moment they become involved and if sanctions are applied to those who do not respect this ethical.\",\n",
        "                \"classification\": \"CON\"\n",
        "            }\n",
        "        ]\n",
        "    }\n",
        "]\n",
        "\n",
        "model_answers_32 = [\n",
        "    {\n",
        "        \"answer\": \"Trying to merge both the american/moroccan/french systems of promotion.\",\n",
        "        \"classification\": \"Barrier\",\n",
        "        \"arguments\": [\n",
        "            {\n",
        "                \"text\": \"This is counterproductive.\",\n",
        "                \"classification\": \"PRO\"\n",
        "            }\n",
        "        ]\n",
        "    },\n",
        "    {\n",
        "        \"answer\": \"Research ethics\",\n",
        "        \"classification\": \"Barrier\",\n",
        "        \"arguments\": [\n",
        "            {\n",
        "                \"text\": \"This should not pose a problem if all researchers are trained in the same research ethics from the moment they become involved and if sanctions are applied to those who do not respect this ethical.\",\n",
        "                \"classification\": \"CON\"\n",
        "            }\n",
        "        ]\n",
        "    }\n",
        "]\n",
        "\n",
        "# Process the new test case and update metrics\n",
        "local_metrics, metrics = compare(annotated_answers_32, model_answers_32, metrics)\n",
        "\n",
        "# Display metrics for this test case\n",
        "display_metrics(local_metrics, \"Metrics for Test Case 32\")\n",
        "\n",
        "# Display updated metrics\n",
        "display_metrics(metrics, \"Updated Metrics\")\n"
      ],
      "metadata": {
        "colab": {
          "base_uri": "https://localhost:8080/"
        },
        "id": "XQKXkQXWy8ck",
        "outputId": "e947c957-dc58-4137-a160-0f17fb031d4e"
      },
      "execution_count": null,
      "outputs": [
        {
          "output_type": "stream",
          "name": "stdout",
          "text": [
            "\n",
            "Metrics for Test Case 32:\n",
            "Answers: {'TP': 2, 'FP': 0, 'FN': 0, 'TN': 0}\n",
            "Answer_classifications: {'TP': 2, 'FP': 0, 'FN': 0, 'TN': 0}\n",
            "Arguments: {'TP': 1, 'FP': 1, 'FN': 0, 'TN': 0}\n",
            "Argument_classifications: {'TP': 1, 'FP': 1, 'FN': 0, 'TN': 0}\n",
            "\n",
            "Updated Metrics:\n",
            "Answers: {'TP': 33, 'FP': 14, 'FN': 6, 'TN': 0}\n",
            "Answer_classifications: {'TP': 27, 'FP': 20, 'FN': 6, 'TN': 0}\n",
            "Arguments: {'TP': 17, 'FP': 35, 'FN': 17, 'TN': 0}\n",
            "Argument_classifications: {'TP': 15, 'FP': 37, 'FN': 17, 'TN': 0}\n"
          ]
        }
      ]
    },
    {
      "cell_type": "markdown",
      "source": [
        "#Testcase 33"
      ],
      "metadata": {
        "id": "uIS4mURXzonp"
      }
    },
    {
      "cell_type": "code",
      "source": [
        "# Test case 33 dictionary format\n",
        "annotated_answers_33 = [\n",
        "    {\n",
        "        \"answer\": \"Do not make a difference between PhD student and Staff UM6P\",\n",
        "        \"classification\": \"Solutions\",\n",
        "        \"arguments\": [\n",
        "            {\n",
        "                \"text\": \"respect for levels PhD students and staff have distinct resource needs\",\n",
        "                \"classification\": \"CON\"\n",
        "            }\n",
        "        ]\n",
        "    }\n",
        "]\n",
        "\n",
        "model_answers_33 = [\n",
        "    {\n",
        "        \"answer\": \"Do not make a difference between PhD student and Staff UM6P\",\n",
        "        \"classification\": \"Solutions\",\n",
        "        \"arguments\": [\n",
        "            {\n",
        "                \"text\": \"respect for levels PhD students and staff have distinct resource needs\",\n",
        "                \"classification\": \"CON\"\n",
        "            }\n",
        "        ]\n",
        "    }\n",
        "]\n",
        "\n",
        "# Process the new test case and update metrics\n",
        "local_metrics, metrics = compare(annotated_answers_33, model_answers_33, metrics)\n",
        "\n",
        "# Display metrics for this test case\n",
        "display_metrics(local_metrics, \"Metrics for Test Case 33\")\n",
        "\n",
        "# Display updated metrics\n",
        "display_metrics(metrics, \"Updated Metrics\")\n"
      ],
      "metadata": {
        "colab": {
          "base_uri": "https://localhost:8080/"
        },
        "id": "Q33t0mYFzqnP",
        "outputId": "0c9266ac-acc4-41a4-b9c9-70e6417ea888"
      },
      "execution_count": null,
      "outputs": [
        {
          "output_type": "stream",
          "name": "stdout",
          "text": [
            "\n",
            "Metrics for Test Case 33:\n",
            "Answers: {'TP': 1, 'FP': 0, 'FN': 0, 'TN': 0}\n",
            "Answer_classifications: {'TP': 1, 'FP': 0, 'FN': 0, 'TN': 0}\n",
            "Arguments: {'TP': 1, 'FP': 0, 'FN': 0, 'TN': 0}\n",
            "Argument_classifications: {'TP': 1, 'FP': 0, 'FN': 0, 'TN': 0}\n",
            "\n",
            "Updated Metrics:\n",
            "Answers: {'TP': 34, 'FP': 14, 'FN': 6, 'TN': 0}\n",
            "Answer_classifications: {'TP': 28, 'FP': 20, 'FN': 6, 'TN': 0}\n",
            "Arguments: {'TP': 18, 'FP': 35, 'FN': 17, 'TN': 0}\n",
            "Argument_classifications: {'TP': 16, 'FP': 37, 'FN': 17, 'TN': 0}\n"
          ]
        }
      ]
    },
    {
      "cell_type": "markdown",
      "source": [
        "#Testcase 34"
      ],
      "metadata": {
        "id": "daTB1j8Y0KFm"
      }
    },
    {
      "cell_type": "code",
      "source": [
        "# Test case 34 dictionary format\n",
        "annotated_answers_34 = [\n",
        "    {\n",
        "        \"answer\": \"Building a reputation which is a matter of work and time, taking by consideration the UM6P is a new born comparing to its peers in the fileds.\",\n",
        "        \"classification\": \"Solutions\",\n",
        "        \"arguments\": [\n",
        "            {\n",
        "                \"text\": \"UM6P being a new university can limit the opportunity to publish in the best venues\",\n",
        "                \"classification\": \"PRO\"\n",
        "            },\n",
        "            {\n",
        "                \"text\": \"No, the reputation comes from doing quality work, famous institutions often have a long history of research accomplishments, which may overshadow the limited track record of a new institutions.\",\n",
        "                \"classification\": \"CON\"\n",
        "            }\n",
        "        ]\n",
        "    }\n",
        "]\n",
        "\n",
        "model_answers_34 = [\n",
        "    {\n",
        "        \"answer\": \"UM6P being a new university can limit the opportunity to publish in the best venues\",\n",
        "        \"classification\": \"BARRIER\",\n",
        "        \"arguments\": [\n",
        "            {\n",
        "                \"text\": \"The reputation or the image if UM6P costs the university a lot money in purchasing equipment and consumables. On average the cost to sell to Um6p is 30% higher than the other universities across Morocco. This increase project costs.\",\n",
        "                \"classification\": \"CON\"\n",
        "            },\n",
        "            {\n",
        "                \"text\": \"No, the reputation comes from doing quality work famous institutions often have a long history of research accomplishments, which may overshadow the limited track record of a new institutions.\",\n",
        "                \"classification\": \"CON\"\n",
        "            }\n",
        "        ]\n",
        "    }\n",
        "]\n",
        "\n",
        "# Process the new test case and update metrics\n",
        "local_metrics, metrics = compare(annotated_answers_34, model_answers_34, metrics)\n",
        "\n",
        "# Display metrics for this test case\n",
        "display_metrics(local_metrics, \"Metrics for Test Case 34\")\n",
        "\n",
        "# Display updated metrics\n",
        "display_metrics(metrics, \"Updated Metrics\")\n"
      ],
      "metadata": {
        "colab": {
          "base_uri": "https://localhost:8080/"
        },
        "id": "HMBeB4NA0Mtu",
        "outputId": "f9e5cf56-0f69-4deb-9fac-180167cfc8cb"
      },
      "execution_count": null,
      "outputs": [
        {
          "output_type": "stream",
          "name": "stdout",
          "text": [
            "\n",
            "Metrics for Test Case 34:\n",
            "Answers: {'TP': 0, 'FP': 1, 'FN': 1, 'TN': 0}\n",
            "Answer_classifications: {'TP': 0, 'FP': 1, 'FN': 1, 'TN': 0}\n",
            "Arguments: {'TP': 0, 'FP': 2, 'FN': 2, 'TN': 0}\n",
            "Argument_classifications: {'TP': 0, 'FP': 2, 'FN': 2, 'TN': 0}\n",
            "\n",
            "Updated Metrics:\n",
            "Answers: {'TP': 34, 'FP': 15, 'FN': 7, 'TN': 0}\n",
            "Answer_classifications: {'TP': 28, 'FP': 21, 'FN': 7, 'TN': 0}\n",
            "Arguments: {'TP': 18, 'FP': 37, 'FN': 19, 'TN': 0}\n",
            "Argument_classifications: {'TP': 16, 'FP': 39, 'FN': 19, 'TN': 0}\n"
          ]
        }
      ]
    },
    {
      "cell_type": "markdown",
      "source": [
        "#Test case 35"
      ],
      "metadata": {
        "id": "qWpM26_b1AVM"
      }
    },
    {
      "cell_type": "code",
      "source": [
        "# Test case 35 dictionary format\n",
        "annotated_answers_35 = [\n",
        "    {\n",
        "        \"answer\": \"By ensuring a better work environment, the talents would come themselves to join the university and contribute to its development.\",\n",
        "        \"classification\": \"Solution\",\n",
        "        \"arguments\": [\n",
        "            {\n",
        "                \"text\": \"A good work environment can contribute to attracting good students, but it's not sufficient.\",\n",
        "                \"classification\": \"CON\"\n",
        "            }\n",
        "        ]\n",
        "    },\n",
        "    {\n",
        "        \"answer\": \"A safe space that provides freedom of research plus the financial support are the main attractions of great researchers. Having an environment of this nature will surely attract the best researchers to this ecosystem.\",\n",
        "        \"classification\": \"Solution\",\n",
        "        \"arguments\": []\n",
        "    }\n",
        "]\n",
        "\n",
        "model_answers_35 = [\n",
        "    {\n",
        "        \"answer\": \"By ensuring a better work environment the talents would come themselves to join the University and contribute to its development.\",\n",
        "        \"classification\": \"Solution\",\n",
        "        \"arguments\": []\n",
        "    },\n",
        "    {\n",
        "        \"answer\": \"A good work environment can contribute to attract good students but it's not sufficient.\",\n",
        "        \"classification\": \"Solution\",\n",
        "        \"arguments\": []\n",
        "    },\n",
        "    {\n",
        "        \"answer\": \"Safe space that provides freedom of research plus the financial support are the main attractions of great researchers. Having an environment of this nature will surely attract the best researchers to this ecosystem.\",\n",
        "        \"classification\": \"Solution\",\n",
        "        \"arguments\": []\n",
        "    }\n",
        "]\n",
        "\n",
        "# Process the new test case and update metrics\n",
        "local_metrics, metrics = compare(annotated_answers_35, model_answers_35, metrics)\n",
        "\n",
        "# Display metrics for this test case\n",
        "display_metrics(local_metrics, \"Metrics for Test Case 35\")\n",
        "\n",
        "# Display updated metrics\n",
        "display_metrics(metrics, \"Updated Metrics\")\n"
      ],
      "metadata": {
        "colab": {
          "base_uri": "https://localhost:8080/"
        },
        "id": "3dkloVc_1Fs_",
        "outputId": "7f74974d-a937-426b-bdf2-9ff418035b5e"
      },
      "execution_count": null,
      "outputs": [
        {
          "output_type": "stream",
          "name": "stdout",
          "text": [
            "\n",
            "Metrics for Test Case 35:\n",
            "Answers: {'TP': 2, 'FP': 1, 'FN': 0, 'TN': 0}\n",
            "Answer_classifications: {'TP': 2, 'FP': 1, 'FN': 0, 'TN': 0}\n",
            "Arguments: {'TP': 0, 'FP': 0, 'FN': 1, 'TN': 0}\n",
            "Argument_classifications: {'TP': 0, 'FP': 0, 'FN': 1, 'TN': 0}\n",
            "\n",
            "Updated Metrics:\n",
            "Answers: {'TP': 36, 'FP': 16, 'FN': 7, 'TN': 0}\n",
            "Answer_classifications: {'TP': 30, 'FP': 22, 'FN': 7, 'TN': 0}\n",
            "Arguments: {'TP': 18, 'FP': 37, 'FN': 20, 'TN': 0}\n",
            "Argument_classifications: {'TP': 16, 'FP': 39, 'FN': 20, 'TN': 0}\n"
          ]
        }
      ]
    },
    {
      "cell_type": "markdown",
      "source": [
        "#Test case 36"
      ],
      "metadata": {
        "id": "K--Q3hmc1yRn"
      }
    },
    {
      "cell_type": "code",
      "source": [
        "# Test case 36 dictionary format\n",
        "annotated_answers_36 = [\n",
        "    {\n",
        "        \"answer\": \"Use the unique combination attractive traits of research and highlight the fulfilment felt while working a research project.\",\n",
        "        \"classification\": \"Solutions\",\n",
        "        \"arguments\": [\n",
        "            {\n",
        "                \"text\": \"The fact that UM6p gives a decent living for a PHD student is attractive in itself, but it is necessary to highlight the most attractive trait which is the fulfilment felt from working in a research project.\",\n",
        "                \"classification\": \"PRO\"\n",
        "            }\n",
        "        ]\n",
        "    },\n",
        "    {\n",
        "        \"answer\": \"This can be done by putting in place programs that connect professors with potential students\",\n",
        "        \"classification\": \"Solutions\",\n",
        "        \"arguments\": []\n",
        "    }\n",
        "]\n",
        "\n",
        "model_answers_36 = [\n",
        "    {\n",
        "        \"answer\": \"Use the unique combination attractive traits of research and highlight the fulfilment felt while working a research project.\",\n",
        "        \"classification\": \"Solutions\",\n",
        "        \"arguments\": [\n",
        "            {\n",
        "                \"text\": \"The fact that UM6p gives a decent living for a PHD student is attractive in itself, but it is necessary to highlight the most attractive trait which is the fulfilment felt from working in a research project.\",\n",
        "                \"classification\": \"PRO\"\n",
        "            }\n",
        "        ]\n",
        "    },\n",
        "    {\n",
        "        \"answer\": \"Putting in place programs that connect professors with potential students\",\n",
        "        \"classification\": \"Solution\",\n",
        "        \"arguments\": []\n",
        "    }\n",
        "]\n",
        "\n",
        "# Process the new test case and update metrics\n",
        "local_metrics, metrics = compare(annotated_answers_36, model_answers_36, metrics)\n",
        "\n",
        "# Display metrics for this test case\n",
        "display_metrics(local_metrics, \"Metrics for Test Case 36\")\n",
        "\n",
        "# Display updated metrics\n",
        "display_metrics(metrics, \"Updated Metrics\")\n"
      ],
      "metadata": {
        "colab": {
          "base_uri": "https://localhost:8080/"
        },
        "id": "9upBIO6o11eR",
        "outputId": "cf9a54f7-6df6-4e18-d513-7bf2644eb2ae"
      },
      "execution_count": null,
      "outputs": [
        {
          "output_type": "stream",
          "name": "stdout",
          "text": [
            "\n",
            "Metrics for Test Case 36:\n",
            "Answers: {'TP': 2, 'FP': 0, 'FN': 0, 'TN': 0}\n",
            "Answer_classifications: {'TP': 1, 'FP': 1, 'FN': 0, 'TN': 0}\n",
            "Arguments: {'TP': 1, 'FP': 0, 'FN': 0, 'TN': 0}\n",
            "Argument_classifications: {'TP': 1, 'FP': 0, 'FN': 0, 'TN': 0}\n",
            "\n",
            "Updated Metrics:\n",
            "Answers: {'TP': 38, 'FP': 16, 'FN': 7, 'TN': 0}\n",
            "Answer_classifications: {'TP': 31, 'FP': 23, 'FN': 7, 'TN': 0}\n",
            "Arguments: {'TP': 19, 'FP': 37, 'FN': 20, 'TN': 0}\n",
            "Argument_classifications: {'TP': 17, 'FP': 39, 'FN': 20, 'TN': 0}\n"
          ]
        }
      ]
    },
    {
      "cell_type": "markdown",
      "source": [
        "#Testcase 37"
      ],
      "metadata": {
        "id": "Vay7BN4p2Ycz"
      }
    },
    {
      "cell_type": "code",
      "source": [
        "# Test case 37 dictionary format\n",
        "annotated_answers_37 = [\n",
        "    {\n",
        "        \"answer\": \"Create a UM6P Analytics platform to allow all UM6P doctoral students to access any device and avoid customization of equipment.\",\n",
        "        \"classification\": \"Solution\",\n",
        "        \"arguments\": [\n",
        "            {\n",
        "                \"text\": \"The more tools at the disposal of student the more application possibilities will emerge.\",\n",
        "                \"classification\": \"PRO\"\n",
        "            }\n",
        "        ]\n",
        "    }\n",
        "]\n",
        "\n",
        "model_answers_37 = [\n",
        "    {\n",
        "        \"answer\": \"Create a UM6P Analytics platform to allow all UM6P doctoral students to access any device and avoid customization of equipment.\",\n",
        "        \"classification\": \"Solution\",\n",
        "        \"arguments\": [\n",
        "            {\n",
        "                \"text\": \"The more tools at the disposal of student the more application possibilities will amerge.\",\n",
        "                \"classification\": \"PRO\"\n",
        "            }\n",
        "        ]\n",
        "    }\n",
        "]\n",
        "\n",
        "# Process the new test case and update metrics\n",
        "local_metrics, metrics = compare(annotated_answers_37, model_answers_37, metrics)\n",
        "\n",
        "# Display metrics for this test case\n",
        "display_metrics(local_metrics, \"Metrics for Test Case 37\")\n",
        "\n",
        "# Display updated metrics\n",
        "display_metrics(metrics, \"Updated Metrics\")\n"
      ],
      "metadata": {
        "colab": {
          "base_uri": "https://localhost:8080/"
        },
        "id": "kw88wwsF2ast",
        "outputId": "23f4815d-badc-4107-ac79-46893e1010b4"
      },
      "execution_count": null,
      "outputs": [
        {
          "output_type": "stream",
          "name": "stdout",
          "text": [
            "\n",
            "Metrics for Test Case 37:\n",
            "Answers: {'TP': 1, 'FP': 0, 'FN': 0, 'TN': 0}\n",
            "Answer_classifications: {'TP': 1, 'FP': 0, 'FN': 0, 'TN': 0}\n",
            "Arguments: {'TP': 1, 'FP': 0, 'FN': 0, 'TN': 0}\n",
            "Argument_classifications: {'TP': 1, 'FP': 0, 'FN': 0, 'TN': 0}\n",
            "\n",
            "Updated Metrics:\n",
            "Answers: {'TP': 39, 'FP': 16, 'FN': 7, 'TN': 0}\n",
            "Answer_classifications: {'TP': 32, 'FP': 23, 'FN': 7, 'TN': 0}\n",
            "Arguments: {'TP': 20, 'FP': 37, 'FN': 20, 'TN': 0}\n",
            "Argument_classifications: {'TP': 18, 'FP': 39, 'FN': 20, 'TN': 0}\n"
          ]
        }
      ]
    },
    {
      "cell_type": "markdown",
      "source": [
        "#testcase 38"
      ],
      "metadata": {
        "id": "08L_xvdu20-w"
      }
    },
    {
      "cell_type": "code",
      "source": [
        "# Test case 38 dictionary format\n",
        "annotated_answers_38 = [\n",
        "    {\n",
        "        \"answer\": \"Provide a safe space for scientific staff and PhD students to work and suggest ideas.\",\n",
        "        \"classification\": \"Solutions\",\n",
        "        \"arguments\": [\n",
        "            {\n",
        "                \"text\": \"The scientist needs to have the research facilities and a good environment to do his work properly.\",\n",
        "                \"classification\": \"PRO\"\n",
        "            }\n",
        "        ]\n",
        "    }\n",
        "]\n",
        "\n",
        "model_answers_38 = [\n",
        "    {\n",
        "        \"answer\": \"Provide a safe space for scientific staff and PhD students to work and suggest ideas.\",\n",
        "        \"classification\": \"SOLUTION\",\n",
        "        \"arguments\": [\n",
        "            {\n",
        "                \"text\": \"The scientist needs to have the research facilities and a good environment to do his work properly.\",\n",
        "                \"classification\": \"PRO\"\n",
        "            }\n",
        "        ]\n",
        "    }\n",
        "]\n",
        "\n",
        "# Process the new test case and update metrics\n",
        "local_metrics_38, metrics = compare(annotated_answers_38, model_answers_38, metrics)\n",
        "\n",
        "# Display metrics for this test case\n",
        "display_metrics(local_metrics_38, \"Metrics for Test Case 38\")\n",
        "\n",
        "# Display updated metrics\n",
        "display_metrics(metrics, \"Updated Metrics\")\n"
      ],
      "metadata": {
        "colab": {
          "base_uri": "https://localhost:8080/"
        },
        "id": "imqgVjO423zG",
        "outputId": "efce4ef1-096c-4ca0-d889-0957e4ec3796"
      },
      "execution_count": null,
      "outputs": [
        {
          "output_type": "stream",
          "name": "stdout",
          "text": [
            "\n",
            "Metrics for Test Case 38:\n",
            "Answers: {'TP': 1, 'FP': 0, 'FN': 0, 'TN': 0}\n",
            "Answer_classifications: {'TP': 0, 'FP': 1, 'FN': 0, 'TN': 0}\n",
            "Arguments: {'TP': 1, 'FP': 0, 'FN': 0, 'TN': 0}\n",
            "Argument_classifications: {'TP': 1, 'FP': 0, 'FN': 0, 'TN': 0}\n",
            "\n",
            "Updated Metrics:\n",
            "Answers: {'TP': 40, 'FP': 16, 'FN': 7, 'TN': 0}\n",
            "Answer_classifications: {'TP': 32, 'FP': 24, 'FN': 7, 'TN': 0}\n",
            "Arguments: {'TP': 21, 'FP': 37, 'FN': 20, 'TN': 0}\n",
            "Argument_classifications: {'TP': 19, 'FP': 39, 'FN': 20, 'TN': 0}\n"
          ]
        }
      ]
    },
    {
      "cell_type": "markdown",
      "source": [
        "#Testcase 39"
      ],
      "metadata": {
        "id": "jW2cqA_q3bcg"
      }
    },
    {
      "cell_type": "code",
      "source": [
        "# Test case 39 dictionary format\n",
        "annotated_answers_39 = [\n",
        "    {\n",
        "        \"answer\": \"the number of job offers that our graduates receive\",\n",
        "        \"classification\": \"Metrics\",\n",
        "        \"arguments\": [\n",
        "            {\n",
        "                \"text\": \"Number of jobs received reflects the value of UM6P within the labor market\",\n",
        "                \"classification\": \"PRO\"\n",
        "            },\n",
        "            {\n",
        "                \"text\": \"The quantity does not reflect the quality of the offers\",\n",
        "                \"classification\": \"CON\"\n",
        "            },\n",
        "            {\n",
        "                \"text\": \"Are these offers consistent with the field and level of studies?\",\n",
        "                \"classification\": \"CON\"\n",
        "            }\n",
        "        ]\n",
        "    }\n",
        "]\n",
        "\n",
        "model_answers_39 = [\n",
        "    {\n",
        "        \"answer\": \"the number of job offers that our graduates receive\",\n",
        "        \"classification\": \"METRIC\",\n",
        "        \"arguments\": [\n",
        "            {\n",
        "                \"text\": \"Number of jobs received reflects the value of UM6P within the labor market\",\n",
        "                \"classification\": \"PRO\"\n",
        "            }\n",
        "        ]\n",
        "    },\n",
        "    {\n",
        "        \"answer\": \"Are these offers consistent with the field and level of studies?\",\n",
        "        \"classification\": \"METRIC\",\n",
        "        \"arguments\": [\n",
        "            {\n",
        "                \"text\": \"The quantity does not reflect the quality of the offers\",\n",
        "                \"classification\": \"CON\"\n",
        "            }\n",
        "        ]\n",
        "    }\n",
        "]\n",
        "\n",
        "# Process the new test case and update metrics\n",
        "local_metrics_39, metrics = compare(annotated_answers_39, model_answers_39, metrics)\n",
        "\n",
        "# Display metrics for this test case\n",
        "display_metrics(local_metrics_39, \"Metrics for Test Case 39\")\n",
        "\n",
        "# Display updated metrics\n",
        "display_metrics(metrics, \"Updated Metrics\")\n"
      ],
      "metadata": {
        "colab": {
          "base_uri": "https://localhost:8080/"
        },
        "id": "C4rBNiev3dsB",
        "outputId": "9b193bda-f0ce-46a5-fd77-2715d53f0769"
      },
      "execution_count": null,
      "outputs": [
        {
          "output_type": "stream",
          "name": "stdout",
          "text": [
            "\n",
            "Metrics for Test Case 39:\n",
            "Answers: {'TP': 1, 'FP': 1, 'FN': 0, 'TN': 0}\n",
            "Answer_classifications: {'TP': 0, 'FP': 2, 'FN': 0, 'TN': 0}\n",
            "Arguments: {'TP': 1, 'FP': 1, 'FN': 2, 'TN': 0}\n",
            "Argument_classifications: {'TP': 1, 'FP': 1, 'FN': 2, 'TN': 0}\n",
            "\n",
            "Updated Metrics:\n",
            "Answers: {'TP': 41, 'FP': 17, 'FN': 7, 'TN': 0}\n",
            "Answer_classifications: {'TP': 32, 'FP': 26, 'FN': 7, 'TN': 0}\n",
            "Arguments: {'TP': 22, 'FP': 38, 'FN': 22, 'TN': 0}\n",
            "Argument_classifications: {'TP': 20, 'FP': 40, 'FN': 22, 'TN': 0}\n"
          ]
        }
      ]
    },
    {
      "cell_type": "markdown",
      "source": [
        "#Testcase 40"
      ],
      "metadata": {
        "id": "6CfmaeEA3uz6"
      }
    },
    {
      "cell_type": "code",
      "source": [
        "# Test case 40 dictionary format\n",
        "annotated_answers_40 = [\n",
        "    {\n",
        "        \"answer\": \"Achieve international accreditation for all our programs (undergrad and post grad)\",\n",
        "        \"classification\": \"Solution\",\n",
        "        \"arguments\": []\n",
        "    },\n",
        "    {\n",
        "        \"answer\": \"Yes UM6P should follow the international universities courses and programs to have the international accreditation and also to have be able to do students exchange with different universities worldwide\",\n",
        "        \"classification\": \"Solution\",\n",
        "        \"arguments\": []\n",
        "    }\n",
        "]\n",
        "\n",
        "model_answers_40 = [\n",
        "    {\n",
        "        \"answer\": \"Achieve international accreditation for all our programs (undergrad and post grad)\",\n",
        "        \"classification\": \"METRIC\",\n",
        "        \"arguments\": [\n",
        "            {\n",
        "                \"text\": \"important KPI for recognition of UM6P programs\",\n",
        "                \"classification\": \"PRO\"\n",
        "            }\n",
        "        ]\n",
        "    },\n",
        "    {\n",
        "        \"answer\": \"UM6P should follow the international universities courses and programs to have the international accreditation and also to have be able to do students exchange with different universities worldwide\",\n",
        "        \"classification\": \"SOLUTION\",\n",
        "        \"arguments\": []\n",
        "    }\n",
        "]\n",
        "\n",
        "# Process the new test case and update metrics\n",
        "local_metrics_40, metrics = compare(annotated_answers_40, model_answers_40, metrics)\n",
        "\n",
        "# Display metrics for this test case\n",
        "display_metrics(local_metrics_40, \"Metrics for Test Case 40\")\n",
        "\n",
        "# Display updated metrics\n",
        "display_metrics(metrics, \"Updated Metrics\")\n"
      ],
      "metadata": {
        "colab": {
          "base_uri": "https://localhost:8080/"
        },
        "id": "zcI2aQtB3wqZ",
        "outputId": "b887ef19-5298-433c-c2f0-6a57afc254c7"
      },
      "execution_count": null,
      "outputs": [
        {
          "output_type": "stream",
          "name": "stdout",
          "text": [
            "\n",
            "Metrics for Test Case 40:\n",
            "Answers: {'TP': 2, 'FP': 0, 'FN': 0, 'TN': 0}\n",
            "Answer_classifications: {'TP': 1, 'FP': 1, 'FN': 0, 'TN': 0}\n",
            "Arguments: {'TP': 0, 'FP': 1, 'FN': 0, 'TN': 0}\n",
            "Argument_classifications: {'TP': 0, 'FP': 1, 'FN': 0, 'TN': 0}\n",
            "\n",
            "Updated Metrics:\n",
            "Answers: {'TP': 43, 'FP': 17, 'FN': 7, 'TN': 0}\n",
            "Answer_classifications: {'TP': 33, 'FP': 27, 'FN': 7, 'TN': 0}\n",
            "Arguments: {'TP': 22, 'FP': 39, 'FN': 22, 'TN': 0}\n",
            "Argument_classifications: {'TP': 20, 'FP': 41, 'FN': 22, 'TN': 0}\n"
          ]
        }
      ]
    },
    {
      "cell_type": "markdown",
      "source": [
        "#Testcase 41"
      ],
      "metadata": {
        "id": "ZYegsF0Y4RIt"
      }
    },
    {
      "cell_type": "code",
      "source": [
        "# Test case 41 dictionary format\n",
        "annotated_answers_41 = [\n",
        "    {\n",
        "        \"answer\": \"Implementing an international curriculum allows students to gain a broader understanding of global issues, different cultural perspectives, and diverse approaches to learning.\",\n",
        "        \"classification\": \"Solution\",\n",
        "        \"arguments\": [\n",
        "            {\n",
        "                \"text\": \"It helps foster a more inclusive and globally aware student body, enhancing the overall quality of education.\",\n",
        "                \"classification\": \"PRO\"\n",
        "            }\n",
        "        ]\n",
        "    },\n",
        "    {\n",
        "        \"answer\": \"Establishing partnerships with renowned international universities or institutions can demonstrate UM6Ps commitment to providing a global education. Collaborative research projects, joint degree programs, and faculty exchanges are potential measures of success in fostering international collaborations.\",\n",
        "        \"classification\": \"Solution\",\n",
        "        \"arguments\": []\n",
        "    }\n",
        "]\n",
        "\n",
        "model_answers_41 = [\n",
        "    {\n",
        "        \"answer\": \"Implementing an international curriculum allows students to gain a broader understanding of global issues, different cultural perspectives, and diverse approaches to learning.\",\n",
        "        \"classification\": \"SOLUTION\",\n",
        "        \"arguments\": [\n",
        "            {\n",
        "                \"text\": \"It helps foster a more inclusive and globally aware student body, enhancing the overall quality of education.\",\n",
        "                \"classification\": \"PRO\"\n",
        "            }\n",
        "        ]\n",
        "    },\n",
        "    {\n",
        "        \"answer\": \"Establishing partnerships with renowned international universities or institutions can demonstrate UM6Ps commitment to providing a global education.\",\n",
        "        \"classification\": \"SOLUTION\",\n",
        "        \"arguments\": [\n",
        "            {\n",
        "                \"text\": \"Collaborative research projects, joint degree programs, and faculty exchanges are potential measures of success in fostering international collaborations.\",\n",
        "                \"classification\": \"PRO\"\n",
        "            }\n",
        "        ]\n",
        "    }\n",
        "]\n",
        "\n",
        "# Process the new test case and update metrics\n",
        "local_metrics_41, metrics = compare(annotated_answers_41, model_answers_41, metrics)\n",
        "\n",
        "# Display metrics for this test case\n",
        "display_metrics(local_metrics_41, \"Metrics for Test Case 41\")\n",
        "\n",
        "# Display updated metrics\n",
        "display_metrics(metrics, \"Updated Metrics\")\n"
      ],
      "metadata": {
        "colab": {
          "base_uri": "https://localhost:8080/"
        },
        "id": "rP7XF-Sj4Utc",
        "outputId": "c9018f4b-7506-4330-b435-097500075179"
      },
      "execution_count": null,
      "outputs": [
        {
          "output_type": "stream",
          "name": "stdout",
          "text": [
            "\n",
            "Metrics for Test Case 41:\n",
            "Answers: {'TP': 2, 'FP': 0, 'FN': 0, 'TN': 0}\n",
            "Answer_classifications: {'TP': 2, 'FP': 0, 'FN': 0, 'TN': 0}\n",
            "Arguments: {'TP': 1, 'FP': 1, 'FN': 0, 'TN': 0}\n",
            "Argument_classifications: {'TP': 1, 'FP': 1, 'FN': 0, 'TN': 0}\n",
            "\n",
            "Updated Metrics:\n",
            "Answers: {'TP': 45, 'FP': 17, 'FN': 7, 'TN': 0}\n",
            "Answer_classifications: {'TP': 35, 'FP': 27, 'FN': 7, 'TN': 0}\n",
            "Arguments: {'TP': 23, 'FP': 40, 'FN': 22, 'TN': 0}\n",
            "Argument_classifications: {'TP': 21, 'FP': 42, 'FN': 22, 'TN': 0}\n"
          ]
        }
      ]
    },
    {
      "cell_type": "markdown",
      "source": [
        "#Testcase 42"
      ],
      "metadata": {
        "id": "YLJekQC55dN_"
      }
    },
    {
      "cell_type": "code",
      "source": [
        "# Test case 42 dictionary format\n",
        "annotated_answers_42 = [\n",
        "    {\n",
        "        \"answer\": \"The lack of transparency and limited access to resources across different departments hinders student’s ability to benefit from the expertise and opportunities available in various areas.\",\n",
        "        \"classification\": \"Barrier\",\n",
        "        \"arguments\": [\n",
        "            {\n",
        "                \"text\": \"By promoting transparency and facilitating cross-department collaboration, students can easily access the resources and support they need, enabling them to achieve their goals more effectively.\",\n",
        "                \"classification\": \"PRO\"\n",
        "            }\n",
        "        ]\n",
        "    }\n",
        "]\n",
        "\n",
        "model_answers_42 = [\n",
        "    {\n",
        "        \"answer\": \"The lack of transparency and limited access to resources across different departments hinders students' ability to benefit from the expertise and opportunities available in various areas.\",\n",
        "        \"classification\": \"BARRIER\",\n",
        "        \"arguments\": []\n",
        "    },\n",
        "    {\n",
        "        \"answer\": \"By promoting transparency and facilitating cross-department collaboration, students can easily access the resources and support they need, enabling them to achieve their goals more effectively.\",\n",
        "        \"classification\": \"SOLUTION\",\n",
        "        \"arguments\": []\n",
        "    }\n",
        "]\n",
        "\n",
        "# Process the new test case and update metrics\n",
        "local_metrics_42, metrics = compare(annotated_answers_42, model_answers_42, metrics)\n",
        "\n",
        "# Display metrics for this test case\n",
        "display_metrics(local_metrics_42, \"Metrics for Test Case 42\")\n",
        "\n",
        "# Display updated metrics\n",
        "display_metrics(metrics, \"Updated Metrics\")\n"
      ],
      "metadata": {
        "colab": {
          "base_uri": "https://localhost:8080/"
        },
        "id": "dNISv1wT5e1Q",
        "outputId": "59175fac-cc24-443e-8ae6-8671897cf3e2"
      },
      "execution_count": null,
      "outputs": [
        {
          "output_type": "stream",
          "name": "stdout",
          "text": [
            "\n",
            "Metrics for Test Case 42:\n",
            "Answers: {'TP': 1, 'FP': 1, 'FN': 0, 'TN': 0}\n",
            "Answer_classifications: {'TP': 1, 'FP': 1, 'FN': 0, 'TN': 0}\n",
            "Arguments: {'TP': 0, 'FP': 0, 'FN': 1, 'TN': 0}\n",
            "Argument_classifications: {'TP': 0, 'FP': 0, 'FN': 1, 'TN': 0}\n",
            "\n",
            "Updated Metrics:\n",
            "Answers: {'TP': 46, 'FP': 18, 'FN': 7, 'TN': 0}\n",
            "Answer_classifications: {'TP': 36, 'FP': 28, 'FN': 7, 'TN': 0}\n",
            "Arguments: {'TP': 23, 'FP': 40, 'FN': 23, 'TN': 0}\n",
            "Argument_classifications: {'TP': 21, 'FP': 42, 'FN': 23, 'TN': 0}\n"
          ]
        }
      ]
    },
    {
      "cell_type": "markdown",
      "source": [
        "#Test case 43"
      ],
      "metadata": {
        "id": "pnVSOtiq5ohe"
      }
    },
    {
      "cell_type": "code",
      "source": [
        "# Test case 43 dictionary format\n",
        "annotated_answers_43 = [\n",
        "    {\n",
        "        \"answer\": \"For UM6P to be successful in both teaching and student success, more students should be involved in decision-making. Only certain students are permitted to offer their opinions and contribute to decision-making. Not every student can contribute in the same way.\",\n",
        "        \"classification\": \"Solutions\",\n",
        "        \"arguments\": [\n",
        "            {\n",
        "                \"text\": \"The lack of connection with students, especially given the volume of emails, makes it difficult for them to identify relevant opportunities.\",\n",
        "                \"classification\": \"PRO\"\n",
        "            }\n",
        "        ]\n",
        "    },\n",
        "    {\n",
        "        \"answer\": \"lack of communication challenge rather than an absence of opportunities.\",\n",
        "        \"classification\": \"Barriers\",\n",
        "        \"arguments\": [\n",
        "            {\n",
        "                \"text\": \"There is a program encouraging volunteering among UM6P students, to work with associations, and do some social work, the initiative is called SEP, we count today more than 40 students who participated UM6P offers many opportunities to students. There are departments whose activity is to help students launch clubs, social initiatives, and start-ups.\",\n",
        "                \"classification\": \"PRO\"\n",
        "            }\n",
        "        ]\n",
        "    }\n",
        "]\n",
        "\n",
        "model_answers_43 = [\n",
        "    {\n",
        "        \"answer\": \"More students should be involved in decision-making.\",\n",
        "        \"classification\": \"SOLUTION\",\n",
        "        \"arguments\": [\n",
        "            {\n",
        "                \"text\": \"Only certain students are permitted to offer their opinions and contribute to decision-making.\",\n",
        "                \"classification\": \"PRO\"\n",
        "            }\n",
        "        ]\n",
        "    },\n",
        "    {\n",
        "        \"answer\": \"The lack of connection with students, especially given the volume of emails, makes it difficult for them to identify relevant opportunities.\",\n",
        "        \"classification\": \"BARRIER\",\n",
        "        \"arguments\": []\n",
        "    },\n",
        "    {\n",
        "        \"answer\": \"Absence for opportunities for students to have social interactions and activities in the region.\",\n",
        "        \"classification\": \"BARRIER\",\n",
        "        \"arguments\": []\n",
        "    },\n",
        "    {\n",
        "        \"answer\": \"The absence of an opportunity is an opportunity in itself to be created.\",\n",
        "        \"classification\": \"SOLUTION\",\n",
        "        \"arguments\": [\n",
        "            {\n",
        "                \"text\": \"There is a program encouraging volunteering among UM6P students, to work with associations, and do some social work, the initiative is called SEP, we count today more than 40 students who participated.\",\n",
        "                \"classification\": \"PRO\"\n",
        "            }\n",
        "        ]\n",
        "    },\n",
        "    {\n",
        "        \"answer\": \"UM6P offers many opportunities to students.\",\n",
        "        \"classification\": \"SOLUTION\",\n",
        "        \"arguments\": [\n",
        "            {\n",
        "                \"text\": \"There are departments whose activity is to help students launch clubs, social initiatives, and start-ups.\",\n",
        "                \"classification\": \"PRO\"\n",
        "            }\n",
        "        ]\n",
        "    },\n",
        "    {\n",
        "        \"answer\": \"Maybe this is a lack of communication challenge rather than an absence of opportunities.\",\n",
        "        \"classification\": \"BARRIER\",\n",
        "        \"arguments\": []\n",
        "    }\n",
        "]\n",
        "\n",
        "# Process the new test case and update metrics\n",
        "local_metrics_43, metrics = compare(annotated_answers_43, model_answers_43, metrics)\n",
        "\n",
        "# Display metrics for this test case\n",
        "display_metrics(local_metrics_43, \"Metrics for Test Case 43\")\n",
        "\n",
        "# Display updated metrics\n",
        "display_metrics(metrics, \"Updated Metrics\")\n"
      ],
      "metadata": {
        "colab": {
          "base_uri": "https://localhost:8080/"
        },
        "id": "6mDe8v5c5sK3",
        "outputId": "53f298ab-fb04-4e6e-9e62-465a07c37322"
      },
      "execution_count": null,
      "outputs": [
        {
          "output_type": "stream",
          "name": "stdout",
          "text": [
            "\n",
            "Metrics for Test Case 43:\n",
            "Answers: {'TP': 1, 'FP': 5, 'FN': 1, 'TN': 0}\n",
            "Answer_classifications: {'TP': 0, 'FP': 6, 'FN': 1, 'TN': 0}\n",
            "Arguments: {'TP': 0, 'FP': 3, 'FN': 2, 'TN': 0}\n",
            "Argument_classifications: {'TP': 0, 'FP': 3, 'FN': 2, 'TN': 0}\n",
            "\n",
            "Updated Metrics:\n",
            "Answers: {'TP': 47, 'FP': 23, 'FN': 8, 'TN': 0}\n",
            "Answer_classifications: {'TP': 36, 'FP': 34, 'FN': 8, 'TN': 0}\n",
            "Arguments: {'TP': 23, 'FP': 43, 'FN': 25, 'TN': 0}\n",
            "Argument_classifications: {'TP': 21, 'FP': 45, 'FN': 25, 'TN': 0}\n"
          ]
        }
      ]
    },
    {
      "cell_type": "markdown",
      "source": [
        "#Test case 44"
      ],
      "metadata": {
        "id": "EU_cd9_L6iWB"
      }
    },
    {
      "cell_type": "code",
      "source": [
        "# Test case 44 dictionary format\n",
        "annotated_answers_44 = [\n",
        "    {\n",
        "        \"answer\": \"One idea to address the lack of communication and support in universities is to establish a student-led support team. This team would consist of dedicated students who are available to assist their peers in accessing various resources and providing guidance when needed.\",\n",
        "        \"classification\": \"Solution\",\n",
        "        \"arguments\": [\n",
        "            {\n",
        "                \"text\": \"By creating such a team, students can benefit from improved communication channels and receive the necessary support to navigate their academic journey.\",\n",
        "                \"classification\": \"PRO\"\n",
        "            }\n",
        "        ]\n",
        "    }\n",
        "]\n",
        "\n",
        "model_answers_44 = [\n",
        "    {\n",
        "        \"answer\": \"One idea to address the lack of communication and support in universities is to establish a student-led support team.\",\n",
        "        \"classification\": \"SOLUTION\",\n",
        "        \"arguments\": [\n",
        "            {\n",
        "                \"text\": \"This team would consist of dedicated students who are available to assist their peers in accessing various resources and providing guidance when needed.\",\n",
        "                \"classification\": \"PRO\"\n",
        "            },\n",
        "            {\n",
        "                \"text\": \"By creating such a team, students can benefit from improved communication channels and receive the necessary support to navigate their academic journey.\",\n",
        "                \"classification\": \"PRO\"\n",
        "            }\n",
        "        ]\n",
        "    }\n",
        "]\n",
        "\n",
        "# Process the new test case and update metrics\n",
        "local_metrics_44, metrics = compare(annotated_answers_44, model_answers_44, metrics)\n",
        "\n",
        "# Display metrics for this test case\n",
        "display_metrics(local_metrics_44, \"Metrics for Test Case 44\")\n",
        "\n",
        "# Display updated metrics\n",
        "display_metrics(metrics, \"Updated Metrics\")\n",
        "\n",
        "\n",
        "\n",
        "\n"
      ],
      "metadata": {
        "colab": {
          "base_uri": "https://localhost:8080/"
        },
        "id": "Au8mE1Ez6iBm",
        "outputId": "551291fb-98c6-4b9c-c0ba-fa6349cea2b7"
      },
      "execution_count": null,
      "outputs": [
        {
          "output_type": "stream",
          "name": "stdout",
          "text": [
            "\n",
            "Metrics for Test Case 44:\n",
            "Answers: {'TP': 1, 'FP': 0, 'FN': 0, 'TN': 0}\n",
            "Answer_classifications: {'TP': 1, 'FP': 0, 'FN': 0, 'TN': 0}\n",
            "Arguments: {'TP': 1, 'FP': 1, 'FN': 0, 'TN': 0}\n",
            "Argument_classifications: {'TP': 1, 'FP': 1, 'FN': 0, 'TN': 0}\n",
            "\n",
            "Updated Metrics:\n",
            "Answers: {'TP': 48, 'FP': 23, 'FN': 8, 'TN': 0}\n",
            "Answer_classifications: {'TP': 37, 'FP': 34, 'FN': 8, 'TN': 0}\n",
            "Arguments: {'TP': 24, 'FP': 44, 'FN': 25, 'TN': 0}\n",
            "Argument_classifications: {'TP': 22, 'FP': 46, 'FN': 25, 'TN': 0}\n"
          ]
        }
      ]
    },
    {
      "cell_type": "markdown",
      "source": [
        "#Test case 45"
      ],
      "metadata": {
        "id": "8eXS70mb6-NL"
      }
    },
    {
      "cell_type": "code",
      "source": [
        "# Test case 45 dictionary format\n",
        "annotated_answers_45 = [\n",
        "    {\n",
        "        \"answer\": \"Graduate Entrepreneurship Rate\",\n",
        "        \"classification\": \"Solution\",\n",
        "        \"arguments\": []\n",
        "    },\n",
        "    {\n",
        "        \"answer\": \"Partnerships and Collaborations\",\n",
        "        \"classification\": \"Solution\",\n",
        "        \"arguments\": []\n",
        "    },\n",
        "    {\n",
        "        \"answer\": \"Student Competitions and Awards\",\n",
        "        \"classification\": \"Solution\",\n",
        "        \"arguments\": []\n",
        "    },\n",
        "    {\n",
        "        \"answer\": \"Alumni Engagement\",\n",
        "        \"classification\": \"Solution\",\n",
        "        \"arguments\": []\n",
        "    },\n",
        "    {\n",
        "        \"answer\": \"Research Publications and Citations\",\n",
        "        \"classification\": \"Solution\",\n",
        "        \"arguments\": []\n",
        "    },\n",
        "    {\n",
        "        \"answer\": \"Stakeholder Surveys\",\n",
        "        \"classification\": \"Solution\",\n",
        "        \"arguments\": []\n",
        "    },\n",
        "    {\n",
        "        \"answer\": \"Incubators and Accelerators\",\n",
        "        \"classification\": \"Solution\",\n",
        "        \"arguments\": []\n",
        "    },\n",
        "    {\n",
        "        \"answer\": \"Social Impact Ventures and Start-up Success\",\n",
        "        \"classification\": \"Solution\",\n",
        "        \"arguments\": []\n",
        "    }\n",
        "]\n",
        "\n",
        "model_answers_45 = [\n",
        "    {\n",
        "        \"answer\": \"Graduate Entrepreneurship Rate\",\n",
        "        \"classification\": \"METRIC\",\n",
        "        \"arguments\": []\n",
        "    },\n",
        "    {\n",
        "        \"answer\": \"Partnerships and Collaborations\",\n",
        "        \"classification\": \"METRIC\",\n",
        "        \"arguments\": []\n",
        "    },\n",
        "    {\n",
        "        \"answer\": \"Student Competitions and Awards\",\n",
        "        \"classification\": \"METRIC\",\n",
        "        \"arguments\": []\n",
        "    },\n",
        "    {\n",
        "        \"answer\": \"Alumni Engagement\",\n",
        "        \"classification\": \"METRIC\",\n",
        "        \"arguments\": []\n",
        "    },\n",
        "    {\n",
        "        \"answer\": \"Research Publications and Citations\",\n",
        "        \"classification\": \"METRIC\",\n",
        "        \"arguments\": []\n",
        "    },\n",
        "    {\n",
        "        \"answer\": \"Stakeholder Surveys\",\n",
        "        \"classification\": \"METRIC\",\n",
        "        \"arguments\": []\n",
        "    },\n",
        "    {\n",
        "        \"answer\": \"Incubators and Accelerators\",\n",
        "        \"classification\": \"METRIC\",\n",
        "        \"arguments\": []\n",
        "    },\n",
        "    {\n",
        "        \"answer\": \"Social Impact Ventures and Start-up Success\",\n",
        "        \"classification\": \"METRIC\",\n",
        "        \"arguments\": []\n",
        "    }\n",
        "]\n",
        "\n",
        "# Process the new test case and update metrics\n",
        "local_metrics_45, metrics = compare(annotated_answers_45, model_answers_45, metrics)\n",
        "\n",
        "# Display metrics for this test case\n",
        "display_metrics(local_metrics_45, \"Metrics for Test Case 45\")\n",
        "\n",
        "# Display updated metrics\n",
        "display_metrics(metrics, \"Updated Metrics\")\n"
      ],
      "metadata": {
        "colab": {
          "base_uri": "https://localhost:8080/"
        },
        "id": "lc8xF6Ks7B3T",
        "outputId": "97ef3ba8-63ed-4877-fdac-0c36397faea0"
      },
      "execution_count": null,
      "outputs": [
        {
          "output_type": "stream",
          "name": "stdout",
          "text": [
            "\n",
            "Metrics for Test Case 45:\n",
            "Answers: {'TP': 8, 'FP': 0, 'FN': 0, 'TN': 0}\n",
            "Answer_classifications: {'TP': 0, 'FP': 8, 'FN': 0, 'TN': 0}\n",
            "Arguments: {'TP': 0, 'FP': 0, 'FN': 0, 'TN': 0}\n",
            "Argument_classifications: {'TP': 0, 'FP': 0, 'FN': 0, 'TN': 0}\n",
            "\n",
            "Updated Metrics:\n",
            "Answers: {'TP': 56, 'FP': 23, 'FN': 8, 'TN': 0}\n",
            "Answer_classifications: {'TP': 37, 'FP': 42, 'FN': 8, 'TN': 0}\n",
            "Arguments: {'TP': 24, 'FP': 44, 'FN': 25, 'TN': 0}\n",
            "Argument_classifications: {'TP': 22, 'FP': 46, 'FN': 25, 'TN': 0}\n"
          ]
        }
      ]
    },
    {
      "cell_type": "markdown",
      "source": [
        "#Test case 46"
      ],
      "metadata": {
        "id": "-dZkviF77t_R"
      }
    },
    {
      "cell_type": "code",
      "source": [
        "# Test case 46 dictionary format\n",
        "annotated_answers_46 = [\n",
        "    {\n",
        "        \"answer\": \"Develop the entrepreneurial spirit among students\",\n",
        "        \"classification\": \"Solution\",\n",
        "        \"arguments\": []\n",
        "    },\n",
        "    {\n",
        "        \"answer\": \"Create classroom spaces to exchange ideas or projects\",\n",
        "        \"classification\": \"Solution\",\n",
        "        \"arguments\": []\n",
        "    },\n",
        "    {\n",
        "        \"answer\": \"Facilitate financing for the different project leaders after having validated the business plan\",\n",
        "        \"classification\": \"Solution\",\n",
        "        \"arguments\": [\n",
        "            {\n",
        "                \"text\": \"The proposal mainly reflects encouragement and not the measure of impact\",\n",
        "                \"classification\": \"CON\"\n",
        "            }\n",
        "        ]\n",
        "    }\n",
        "]\n",
        "\n",
        "model_answers_46 = [\n",
        "    {\n",
        "        \"answer\": \"Develop the entrepreneurial spirit among students\",\n",
        "        \"classification\": \"SOLUTION\",\n",
        "        \"arguments\": []\n",
        "    },\n",
        "    {\n",
        "        \"answer\": \"Create classroom spaces to exchange ideas or projects\",\n",
        "        \"classification\": \"SOLUTION\",\n",
        "        \"arguments\": []\n",
        "    },\n",
        "    {\n",
        "        \"answer\": \"Facilitate financing for the different project leaders after having validated the business plan\",\n",
        "        \"classification\": \"SOLUTION\",\n",
        "        \"arguments\": [\n",
        "            {\n",
        "                \"text\": \"The proposal mainly reflects encouragement and not the measure of impact.\",\n",
        "                \"classification\": \"CON\"\n",
        "            }\n",
        "        ]\n",
        "    }\n",
        "]\n",
        "\n",
        "# Process the new test case and update metrics\n",
        "local_metrics_46, metrics = compare(annotated_answers_46, model_answers_46, metrics)\n",
        "\n",
        "# Display metrics for this test case\n",
        "display_metrics(local_metrics_46, \"Metrics for Test Case 46\")\n",
        "\n",
        "# Display updated metrics\n",
        "display_metrics(metrics, \"Updated Metrics\")\n"
      ],
      "metadata": {
        "colab": {
          "base_uri": "https://localhost:8080/"
        },
        "id": "tDR8OTc17yS6",
        "outputId": "cae3cb47-a726-44c8-930c-2a56bdab35e6"
      },
      "execution_count": null,
      "outputs": [
        {
          "output_type": "stream",
          "name": "stdout",
          "text": [
            "\n",
            "Metrics for Test Case 46:\n",
            "Answers: {'TP': 3, 'FP': 0, 'FN': 0, 'TN': 0}\n",
            "Answer_classifications: {'TP': 3, 'FP': 0, 'FN': 0, 'TN': 0}\n",
            "Arguments: {'TP': 1, 'FP': 0, 'FN': 0, 'TN': 0}\n",
            "Argument_classifications: {'TP': 1, 'FP': 0, 'FN': 0, 'TN': 0}\n",
            "\n",
            "Updated Metrics:\n",
            "Answers: {'TP': 59, 'FP': 23, 'FN': 8, 'TN': 0}\n",
            "Answer_classifications: {'TP': 40, 'FP': 42, 'FN': 8, 'TN': 0}\n",
            "Arguments: {'TP': 25, 'FP': 44, 'FN': 25, 'TN': 0}\n",
            "Argument_classifications: {'TP': 23, 'FP': 46, 'FN': 25, 'TN': 0}\n"
          ]
        }
      ]
    },
    {
      "cell_type": "markdown",
      "source": [
        "#Testcase 47"
      ],
      "metadata": {
        "id": "RQq32Z-a8gTe"
      }
    },
    {
      "cell_type": "code",
      "source": [
        "# Test case 47 dictionary format\n",
        "annotated_answers_47 = [\n",
        "    {\n",
        "        \"answer\": \"Number of startups created and funded in the UM6P ecosystem\",\n",
        "        \"classification\": \"Metrics\",\n",
        "        \"arguments\": []\n",
        "    },\n",
        "    {\n",
        "        \"answer\": \"Real and Impactful startups\",\n",
        "        \"classification\": \"Metrics\",\n",
        "        \"arguments\": [\n",
        "            {\n",
        "                \"text\": \"Entrepreneurial mindset development is more important. Startups are not sufficient for entrepreneurship to raise funds to set up an industrial or service business with an income statement and an investment plan and real commercial development to ensure the viability of entrepreneurs ale in time Following up the startup more important of the number of creation, because every day thousand of startup born but 1 or 2 continues\",\n",
        "                \"classification\": \"CON\"\n",
        "            }\n",
        "        ]\n",
        "    }\n",
        "]\n",
        "\n",
        "model_answers_47 = [\n",
        "    {\n",
        "        \"answer\": \"Number of startups created and funded in the UM6P ecosystem\",\n",
        "        \"classification\": \"Metrics\",\n",
        "        \"arguments\": []\n",
        "    },\n",
        "    {\n",
        "        \"answer\": \"Real and Impactful startups\",\n",
        "        \"classification\": \"Metrics\",\n",
        "        \"arguments\": []\n",
        "    },\n",
        "    {\n",
        "        \"answer\": \"Entrepreneurial mindset development is more important.\",\n",
        "        \"classification\": \"Solution\",\n",
        "        \"arguments\": [\n",
        "            {\n",
        "                \"text\": \"Startups are not sufficient for entrepreneurship to raise funds to set up an industrial or service business with an income statement and an investment plan and real commercial development to ensure the viability of entrepreneurs ale in time.\",\n",
        "                \"classification\": \"PRO\"\n",
        "            },\n",
        "            {\n",
        "                \"text\": \"Following up the startup more important of the number of creation, because every day thousand of startup born but 1 or 2 continues.\",\n",
        "                \"classification\": \"PRO\"\n",
        "            }\n",
        "        ]\n",
        "    }\n",
        "]\n",
        "\n",
        "# Process the new test case and update metrics\n",
        "local_metrics_47, metrics = compare(annotated_answers_47, model_answers_47, metrics)\n",
        "\n",
        "# Display metrics for this test case\n",
        "display_metrics(local_metrics_47, \"Metrics for Test Case 47\")\n",
        "\n",
        "# Display updated metrics\n",
        "display_metrics(metrics, \"Updated Metrics\")\n"
      ],
      "metadata": {
        "colab": {
          "base_uri": "https://localhost:8080/"
        },
        "id": "M4wctp4k8j71",
        "outputId": "24e9ac50-789b-4279-ddd7-008933b1bd31"
      },
      "execution_count": null,
      "outputs": [
        {
          "output_type": "stream",
          "name": "stdout",
          "text": [
            "\n",
            "Metrics for Test Case 47:\n",
            "Answers: {'TP': 2, 'FP': 1, 'FN': 0, 'TN': 0}\n",
            "Answer_classifications: {'TP': 2, 'FP': 1, 'FN': 0, 'TN': 0}\n",
            "Arguments: {'TP': 0, 'FP': 2, 'FN': 1, 'TN': 0}\n",
            "Argument_classifications: {'TP': 0, 'FP': 2, 'FN': 1, 'TN': 0}\n",
            "\n",
            "Updated Metrics:\n",
            "Answers: {'TP': 61, 'FP': 24, 'FN': 8, 'TN': 0}\n",
            "Answer_classifications: {'TP': 42, 'FP': 43, 'FN': 8, 'TN': 0}\n",
            "Arguments: {'TP': 25, 'FP': 46, 'FN': 26, 'TN': 0}\n",
            "Argument_classifications: {'TP': 23, 'FP': 48, 'FN': 26, 'TN': 0}\n"
          ]
        }
      ]
    },
    {
      "cell_type": "markdown",
      "source": [
        "#Testcase 48"
      ],
      "metadata": {
        "id": "qss4J8z89Ta_"
      }
    },
    {
      "cell_type": "code",
      "source": [
        "# Test case 48 dictionary format\n",
        "annotated_answers_48 = [\n",
        "    {\n",
        "        \"answer\": \"Nb of startup launched in a period of time\",\n",
        "        \"classification\": \"Metrics\",\n",
        "        \"arguments\": [\n",
        "            {\n",
        "                \"text\": \"That shows how dynamic the entrepreneurial ecosystem is.\",\n",
        "                \"classification\": \"PRO\"\n",
        "            },\n",
        "            {\n",
        "                \"text\": \"Other factors such as the quality and viability of start-ups and their survival and growth rate are more relevant. Number but also thematic and business plan.\",\n",
        "                \"classification\": \"CON\"\n",
        "            },\n",
        "            {\n",
        "                \"text\": \"The number of startups, an insufficient criterion, is it viable over time, economically, are we addressing an essential issue for Morocco, an example of sustainable development.\",\n",
        "                \"classification\": \"CON\"\n",
        "            }\n",
        "        ]\n",
        "    }\n",
        "]\n",
        "\n",
        "model_answers_48 = [\n",
        "    {\n",
        "        \"answer\": \"Nb of startup launched in a period of time\",\n",
        "        \"classification\": \"Metrics\",\n",
        "        \"arguments\": [\n",
        "            {\n",
        "                \"text\": \"That shows how dynamic the entrepreneurial ecosystem is.\",\n",
        "                \"classification\": \"PRO\"\n",
        "            }\n",
        "        ]\n",
        "    },\n",
        "    {\n",
        "        \"answer\": \"Other factors such as the quality and viability of start-ups and their survival and growth rate are more relevant.\",\n",
        "        \"classification\": \"Metrics\",\n",
        "        \"arguments\": [\n",
        "            {\n",
        "                \"text\": \"Number but also thematic and business plan.\",\n",
        "                \"classification\": \"PRO\"\n",
        "            }\n",
        "        ]\n",
        "    },\n",
        "    {\n",
        "        \"answer\": \"The number of startups is an insufficient criterion; is it viable over time, economically, are we addressing an essential issue for Morocco, an example of sustainable development\",\n",
        "        \"classification\": \"METRIC\",\n",
        "        \"arguments\": []\n",
        "    }\n",
        "]\n",
        "\n",
        "# Process the new test case and update metrics\n",
        "local_metrics_48, metrics = compare(annotated_answers_48, model_answers_48, metrics)\n",
        "\n",
        "# Display metrics for this test case\n",
        "display_metrics(local_metrics_48, \"Metrics for Test Case 48\")\n",
        "\n",
        "# Display updated metrics\n",
        "display_metrics(metrics, \"Updated Metrics\")\n"
      ],
      "metadata": {
        "colab": {
          "base_uri": "https://localhost:8080/"
        },
        "id": "lfGvJ-Mg9XBC",
        "outputId": "f1da15f3-982f-442c-e705-07163e627f6f"
      },
      "execution_count": null,
      "outputs": [
        {
          "output_type": "stream",
          "name": "stdout",
          "text": [
            "\n",
            "Metrics for Test Case 48:\n",
            "Answers: {'TP': 1, 'FP': 2, 'FN': 0, 'TN': 0}\n",
            "Answer_classifications: {'TP': 1, 'FP': 2, 'FN': 0, 'TN': 0}\n",
            "Arguments: {'TP': 1, 'FP': 1, 'FN': 2, 'TN': 0}\n",
            "Argument_classifications: {'TP': 1, 'FP': 1, 'FN': 2, 'TN': 0}\n",
            "\n",
            "Updated Metrics:\n",
            "Answers: {'TP': 62, 'FP': 26, 'FN': 8, 'TN': 0}\n",
            "Answer_classifications: {'TP': 43, 'FP': 45, 'FN': 8, 'TN': 0}\n",
            "Arguments: {'TP': 26, 'FP': 47, 'FN': 28, 'TN': 0}\n",
            "Argument_classifications: {'TP': 24, 'FP': 49, 'FN': 28, 'TN': 0}\n"
          ]
        }
      ]
    },
    {
      "cell_type": "markdown",
      "source": [
        "#Test case 49"
      ],
      "metadata": {
        "id": "2x1Olz4W9j-U"
      }
    },
    {
      "cell_type": "code",
      "source": [
        "# Test case 49 dictionary format\n",
        "annotated_answers_49 = [\n",
        "    {\n",
        "        \"answer\": \"To measure UM6P success in entrepreneurship, we need to see if our startups are able to scale up to industrialization and being able to connect with other ecosystems (Moroccan & African ones)\",\n",
        "        \"classification\": \"Metric\",\n",
        "        \"arguments\": []\n",
        "    },\n",
        "    {\n",
        "        \"answer\": \"This is the major indicator: turnover out of the OCP ecosystem\",\n",
        "        \"classification\": \"Metric\",\n",
        "        \"arguments\": []\n",
        "    },\n",
        "    {\n",
        "        \"answer\": \"Scale up as well as startup which can long last over the longer periods of time\",\n",
        "        \"classification\": \"Metric\",\n",
        "        \"arguments\": []\n",
        "    }\n",
        "]\n",
        "\n",
        "model_answers_49 = [\n",
        "    {\n",
        "        \"answer\": \"To measure UM6P success in entrepreneurship, we need to see if our startups are able to scale up to industrialization and being able to connect with other ecosystems (Moroccan & African ones)\",\n",
        "        \"classification\": \"METRIC\",\n",
        "        \"arguments\": [\n",
        "            {\n",
        "                \"text\": \"This is the major indicator: torn over out of the OCP ecosystem\",\n",
        "                \"classification\": \"PRO\"\n",
        "            }\n",
        "        ]\n",
        "    },\n",
        "    {\n",
        "        \"answer\": \"Scale up as well as startup which can long last over the longer periods of time\",\n",
        "        \"classification\": \"METRIC\",\n",
        "        \"arguments\": []\n",
        "    }\n",
        "]\n",
        "\n",
        "# Process the new test case and update metrics\n",
        "local_metrics_49, metrics = compare(annotated_answers_49, model_answers_49, metrics)\n",
        "\n",
        "# Display metrics for this test case\n",
        "display_metrics(local_metrics_49, \"Metrics for Test Case 49\")\n",
        "\n",
        "# Display updated metrics\n",
        "display_metrics(metrics, \"Updated Metrics\")\n"
      ],
      "metadata": {
        "colab": {
          "base_uri": "https://localhost:8080/"
        },
        "id": "ZzNY_j8p9mM6",
        "outputId": "18f106ae-e5c8-4cc2-9864-5f9f09a74803"
      },
      "execution_count": null,
      "outputs": [
        {
          "output_type": "stream",
          "name": "stdout",
          "text": [
            "\n",
            "Metrics for Test Case 49:\n",
            "Answers: {'TP': 2, 'FP': 0, 'FN': 1, 'TN': 0}\n",
            "Answer_classifications: {'TP': 2, 'FP': 0, 'FN': 1, 'TN': 0}\n",
            "Arguments: {'TP': 0, 'FP': 1, 'FN': 0, 'TN': 0}\n",
            "Argument_classifications: {'TP': 0, 'FP': 1, 'FN': 0, 'TN': 0}\n",
            "\n",
            "Updated Metrics:\n",
            "Answers: {'TP': 64, 'FP': 26, 'FN': 9, 'TN': 0}\n",
            "Answer_classifications: {'TP': 45, 'FP': 45, 'FN': 9, 'TN': 0}\n",
            "Arguments: {'TP': 26, 'FP': 48, 'FN': 28, 'TN': 0}\n",
            "Argument_classifications: {'TP': 24, 'FP': 50, 'FN': 28, 'TN': 0}\n"
          ]
        }
      ]
    },
    {
      "cell_type": "markdown",
      "source": [
        "#Testcase 50"
      ],
      "metadata": {
        "id": "x-vsjgEU9082"
      }
    },
    {
      "cell_type": "code",
      "source": [
        "# Test case 50 dictionary format\n",
        "annotated_answers_50 = [\n",
        "    {\n",
        "        \"answer\": \"Creating a local ecosystem is the best way to measure success in terms of entrepreneurship impact.\",\n",
        "        \"classification\": \"Solution\",\n",
        "        \"arguments\": [\n",
        "            {\n",
        "                \"text\": \"I sense a massive interest in numbers like the total number of startups incubated and the amount of budget invested. I urge the community in this exercise to consider those as vanity metrics. The real, sustainable value is creating an ecosystem, and one of the best ways to measure our success is through measuring the interactions across the ecosystem we are creating.\",\n",
        "                \"classification\": \"PRO\"\n",
        "            },\n",
        "            {\n",
        "                \"text\": \"This idea is important so that we don't fall into the trap of thinking we are successful while our success is fragmented through some numbers. Established ecosystems in Silicon Valley, for example, can rely on total numbers of investments and incubated startups. However, in our case, creating a solid ecosystem in Ben Guerir is the most important step ahead, even at the price of lower numbers in investment.\",\n",
        "                \"classification\": \"CON\"\n",
        "            }\n",
        "        ]\n",
        "    }\n",
        "]\n",
        "\n",
        "model_answers_50 = [\n",
        "    {\n",
        "        \"answer\": \"Creation a Local entrepreneurship Ecosystem\",\n",
        "        \"classification\": \"SOLUTION\",\n",
        "        \"arguments\": [\n",
        "            {\n",
        "                \"text\": \"Creating a local ecosystem is the best way to measure success in terms of entrepreneurship impact\",\n",
        "                \"classification\": \"PRO\"\n",
        "            }\n",
        "        ]\n",
        "    },\n",
        "    {\n",
        "        \"answer\": \"Creating a local ecosystem is the best way to measure success in terms of entrepreneurship impact\",\n",
        "        \"classification\": \"METRIC\",\n",
        "        \"arguments\": [\n",
        "            {\n",
        "                \"text\": \"I sense a massive interest in numbers like the total number of startups incubated and the amount of budget invested, I urge the community in this exercise to consider those as vanity metrics, the real, sustainable( in the time) value is creating an ecosystem and one of the best ways to measure our success in this is through measuring the interactions across the ecosystem we are creating\",\n",
        "                \"classification\": \"PRO\"\n",
        "            }\n",
        "        ]\n",
        "    },\n",
        "    {\n",
        "        \"answer\": \"Creating a solid ecosystem in Bengeurir is the most important and step ahead, even at the price of lower number in investments\",\n",
        "        \"classification\": \"SOLUTION\",\n",
        "        \"arguments\": [\n",
        "            {\n",
        "                \"text\": \"this idea is important so that we don't fall into the trap of thinking we are successful while our success is fragmented through some numbers, established ecosystems in silicon valley for example can rely on total numbers of investments and incubated startups, however in our case creating a solid ecosystem in Bengeurir is the most important and step ahead, even at the price of lower number in investments\",\n",
        "                \"classification\": \"PRO\"\n",
        "            }\n",
        "        ]\n",
        "    }\n",
        "]\n",
        "\n",
        "# Process the new test case and update metrics\n",
        "local_metrics_50, metrics = compare(annotated_answers_50, model_answers_50, metrics)\n",
        "\n",
        "# Display metrics for this test case\n",
        "display_metrics(local_metrics_50, \"Metrics for Test Case 50\")\n",
        "\n",
        "# Display updated metrics\n",
        "display_metrics(metrics, \"Updated Metrics\")\n"
      ],
      "metadata": {
        "colab": {
          "base_uri": "https://localhost:8080/"
        },
        "id": "IK3N2sgD997v",
        "outputId": "03d2398d-9d3f-45db-87d9-570af03a5dd2"
      },
      "execution_count": null,
      "outputs": [
        {
          "output_type": "stream",
          "name": "stdout",
          "text": [
            "\n",
            "Metrics for Test Case 50:\n",
            "Answers: {'TP': 1, 'FP': 2, 'FN': 0, 'TN': 0}\n",
            "Answer_classifications: {'TP': 0, 'FP': 3, 'FN': 0, 'TN': 0}\n",
            "Arguments: {'TP': 1, 'FP': 2, 'FN': 1, 'TN': 0}\n",
            "Argument_classifications: {'TP': 1, 'FP': 2, 'FN': 1, 'TN': 0}\n",
            "\n",
            "Updated Metrics:\n",
            "Answers: {'TP': 65, 'FP': 28, 'FN': 9, 'TN': 0}\n",
            "Answer_classifications: {'TP': 45, 'FP': 48, 'FN': 9, 'TN': 0}\n",
            "Arguments: {'TP': 27, 'FP': 50, 'FN': 29, 'TN': 0}\n",
            "Argument_classifications: {'TP': 25, 'FP': 52, 'FN': 29, 'TN': 0}\n"
          ]
        }
      ]
    },
    {
      "cell_type": "markdown",
      "source": [
        "#Testcase 51"
      ],
      "metadata": {
        "id": "VZlbd__0-HeD"
      }
    },
    {
      "cell_type": "code",
      "source": [
        "# Test case 51 dictionary format\n",
        "annotated_answers_51 = [\n",
        "    {\n",
        "        \"answer\": \"Number of IPs based on which startups are created.\",\n",
        "        \"classification\": \"Metrics\",\n",
        "        \"arguments\": [\n",
        "            {\n",
        "                \"text\": \"the number of IPs my be a vanity metric that dosent represnt the vlaue of the impact\",\n",
        "                \"classification\": \"CON\"\n",
        "            },\n",
        "            {\n",
        "                \"text\": \"IPs are important mybe hard to translate to value\",\n",
        "                \"classification\": \"CON\"\n",
        "            }\n",
        "        ]\n",
        "    },\n",
        "    {\n",
        "        \"answer\": \"Value creation: jobs, increase competitiveness\",\n",
        "        \"classification\": \"Solution\",\n",
        "        \"arguments\": []\n",
        "    },\n",
        "    {\n",
        "        \"answer\": \"Savings to industriels using solutions offered by researchers and engineers from UM6P\",\n",
        "        \"classification\": \"Solution\",\n",
        "        \"arguments\": []\n",
        "    }\n",
        "]\n",
        "\n",
        "model_answers_51 = [\n",
        "    {\n",
        "        \"answer\": \"Number of IPs based on which startups are created\",\n",
        "        \"classification\": \"Metrics\",\n",
        "        \"arguments\": [\n",
        "            {\n",
        "                \"text\": \"the number of IPs my be a vanity metric that dosent represnt the vlaue of the impact\",\n",
        "                \"classification\": \"CON\"\n",
        "            },\n",
        "            {\n",
        "                \"text\": \"IPs are important mybe hard to translate to value\",\n",
        "                \"classification\": \"CON\"\n",
        "            }\n",
        "        ]\n",
        "    },\n",
        "    {\n",
        "        \"answer\": \"Savings to industriels using solutions offered by researchers and engineers from UM6P\",\n",
        "        \"classification\": \"METRIC\",\n",
        "        \"arguments\": []\n",
        "    },\n",
        "    {\n",
        "        \"answer\": \"Value creation: jobs, increase competitiveness\",\n",
        "        \"classification\": \"METRIC\",\n",
        "        \"arguments\": []\n",
        "    }\n",
        "]\n",
        "\n",
        "# Process the new test case and update metrics\n",
        "local_metrics_51, metrics = compare(annotated_answers_51, model_answers_51, metrics)\n",
        "\n",
        "# Display metrics for this test case\n",
        "display_metrics(local_metrics_51, \"Metrics for Test Case 51\")\n",
        "\n",
        "# Display updated metrics\n",
        "display_metrics(metrics, \"Updated Metrics\")\n"
      ],
      "metadata": {
        "colab": {
          "base_uri": "https://localhost:8080/"
        },
        "id": "7Ra0Gn1H-Jm0",
        "outputId": "34c1a452-1a60-416e-8c86-a811950572ae"
      },
      "execution_count": null,
      "outputs": [
        {
          "output_type": "stream",
          "name": "stdout",
          "text": [
            "\n",
            "Metrics for Test Case 51:\n",
            "Answers: {'TP': 3, 'FP': 0, 'FN': 0, 'TN': 0}\n",
            "Answer_classifications: {'TP': 1, 'FP': 2, 'FN': 0, 'TN': 0}\n",
            "Arguments: {'TP': 2, 'FP': 0, 'FN': 0, 'TN': 0}\n",
            "Argument_classifications: {'TP': 2, 'FP': 0, 'FN': 0, 'TN': 0}\n",
            "\n",
            "Updated Metrics:\n",
            "Answers: {'TP': 68, 'FP': 28, 'FN': 9, 'TN': 0}\n",
            "Answer_classifications: {'TP': 46, 'FP': 50, 'FN': 9, 'TN': 0}\n",
            "Arguments: {'TP': 29, 'FP': 50, 'FN': 29, 'TN': 0}\n",
            "Argument_classifications: {'TP': 27, 'FP': 52, 'FN': 29, 'TN': 0}\n"
          ]
        }
      ]
    },
    {
      "cell_type": "markdown",
      "source": [
        "#Testcase 52"
      ],
      "metadata": {
        "id": "gjK6huLKA7JD"
      }
    },
    {
      "cell_type": "code",
      "source": [
        "# Test case 52 dictionary format\n",
        "annotated_answers_52 = [\n",
        "    {\n",
        "        \"answer\": \"Number of listed companies generated via UM6P that are quoted on a stock exchange.\",\n",
        "        \"classification\": \"Metric\",\n",
        "        \"arguments\": [\n",
        "            {\n",
        "                \"text\": \"If UM6P creates companies and contributes directly to GDP in Morocco and Africa, it will have a social impact and improve livelihoods, working towards zero poverty and other SDGs.\",\n",
        "                \"classification\": \"PRO\"\n",
        "            },\n",
        "            {\n",
        "                \"text\": \"This number is far-fetched, and we will have to wait a couple of years to start monitoring this number and measure our success according to it. What we need right now is another metric to measure our progress towards this goal.\",\n",
        "                \"classification\": \"CON\"\n",
        "            }\n",
        "        ]\n",
        "    }\n",
        "]\n",
        "\n",
        "model_answers_52 = [\n",
        "    {\n",
        "        \"answer\": \"Number of listed companies generated via UM6P that are quoted on a stock exchange.\",\n",
        "        \"classification\": \"Metric\",\n",
        "        \"arguments\": [\n",
        "            {\n",
        "                \"text\": \"If UM6P create companies and contribute directly to GDP in Morocco and Africa hence it will have a social impact and improving livelihood towards zero poverty and other SDGs.\",\n",
        "                \"classification\": \"PRO\"\n",
        "            }\n",
        "        ]\n",
        "    },\n",
        "    {\n",
        "        \"answer\": \"what we need right now is another number to measure our progress towards this number.\",\n",
        "        \"classification\": \"Metric\",\n",
        "        \"arguments\": [\n",
        "            {\n",
        "                \"text\": \"This number is far fetch and we will have to wait for couple of years to be able to start monitoring this number and measure our success according to it.\",\n",
        "                \"classification\": \"CON\"\n",
        "            }\n",
        "        ]\n",
        "    }\n",
        "]\n",
        "\n",
        "# Process the new test case and update metrics\n",
        "local_metrics_52, metrics = compare(annotated_answers_52, model_answers_52, metrics)\n",
        "\n",
        "# Display metrics for this test case\n",
        "display_metrics(local_metrics_52, \"Metrics for Test Case 52\")\n",
        "\n",
        "# Display updated metrics\n",
        "display_metrics(metrics, \"Updated Metrics\")\n"
      ],
      "metadata": {
        "colab": {
          "base_uri": "https://localhost:8080/"
        },
        "id": "uOQC_xwWA88S",
        "outputId": "bb3ea71c-37ad-4569-8a0f-12d85517648f"
      },
      "execution_count": null,
      "outputs": [
        {
          "output_type": "stream",
          "name": "stdout",
          "text": [
            "\n",
            "Metrics for Test Case 52:\n",
            "Answers: {'TP': 1, 'FP': 1, 'FN': 0, 'TN': 0}\n",
            "Answer_classifications: {'TP': 1, 'FP': 1, 'FN': 0, 'TN': 0}\n",
            "Arguments: {'TP': 1, 'FP': 1, 'FN': 1, 'TN': 0}\n",
            "Argument_classifications: {'TP': 1, 'FP': 1, 'FN': 1, 'TN': 0}\n",
            "\n",
            "Updated Metrics:\n",
            "Answers: {'TP': 69, 'FP': 29, 'FN': 9, 'TN': 0}\n",
            "Answer_classifications: {'TP': 47, 'FP': 51, 'FN': 9, 'TN': 0}\n",
            "Arguments: {'TP': 30, 'FP': 51, 'FN': 30, 'TN': 0}\n",
            "Argument_classifications: {'TP': 28, 'FP': 53, 'FN': 30, 'TN': 0}\n"
          ]
        }
      ]
    },
    {
      "cell_type": "markdown",
      "source": [
        "#Testcase 53"
      ],
      "metadata": {
        "id": "ZJfYy2z_BM9g"
      }
    },
    {
      "cell_type": "code",
      "source": [
        "# Test case 53 dictionary format\n",
        "annotated_answers_53 = [\n",
        "    {\n",
        "        \"answer\": \"To be successful, our impact should be seen first on the region where we are (Benguerir). We cannot target Morocco & Africa without having a visible impact on the Rehamna region.\",\n",
        "        \"classification\": \"Metric\",\n",
        "        \"arguments\": [\n",
        "            {\n",
        "                \"text\": \"If we fail to impact the local community in Rhamna, then we will definitely fail to impact any larger scale. Creating the local ecosystem in Benguerir is key, and progress will be based on it.\",\n",
        "                \"classification\": \"PRO\"\n",
        "            },\n",
        "            {\n",
        "                \"text\": \"Our impact should go beyond Rhamna. Indeed, Rhamna is a living lab, but developed solutions should target other regions, especially since UM6P is now present in different cities and continents. A business by nature obeys a market.\",\n",
        "                \"classification\": \"CON\"\n",
        "            },\n",
        "            {\n",
        "                \"text\": \"Of course, the Rhamna region must benefit from development if possible, but a business first corresponds to a market by nature, allowing marketing to define the most appropriate market whether local or not.\",\n",
        "                \"classification\": \"CON\"\n",
        "            }\n",
        "        ]\n",
        "    }\n",
        "]\n",
        "\n",
        "model_answers_53 = [\n",
        "    {\n",
        "        \"answer\": \"our impact should be seen first on the region where we are (Benguerir). We cannot target Morocco & Africa without having a visible impact on rehamna region. If we fail to impact the local community in Rhamna then we will definately fail to impact any larger scale, creating the local ecosystem in bengeurir is key and progress will be based on it.\",\n",
        "        \"classification\": \"Metric\",\n",
        "        \"arguments\": []\n",
        "    },\n",
        "    {\n",
        "        \"answer\": \"Our impact should go beyond Rhamna. Indeed Rhamna is a living lab, but developped solutions should target other regions especialy that the UM6P is now on different cities and continents.\",\n",
        "        \"classification\": \"SOLUTION\",\n",
        "        \"arguments\": []\n",
        "    },\n",
        "    {\n",
        "        \"answer\": \"A business by nature obeys a market.\",\n",
        "        \"classification\": \"SOLUTION\",\n",
        "        \"arguments\": []\n",
        "    },\n",
        "    {\n",
        "        \"answer\": \"a business first corresponds to a market by nature for marketing to define the most appropriate market whether local or not.\",\n",
        "        \"classification\": \"SOLUTION\",\n",
        "        \"arguments\": []\n",
        "    }\n",
        "]\n",
        "\n",
        "# Process the new test case and update metrics\n",
        "local_metrics_53, metrics = compare(annotated_answers_53, model_answers_53, metrics)\n",
        "\n",
        "# Display metrics for this test case\n",
        "display_metrics(local_metrics_53, \"Metrics for Test Case 53\")\n",
        "\n",
        "# Display updated metrics\n",
        "display_metrics(metrics, \"Updated Metrics\")\n"
      ],
      "metadata": {
        "colab": {
          "base_uri": "https://localhost:8080/"
        },
        "id": "y7HStEJWBPLc",
        "outputId": "0fcecc2c-042a-454d-f4d1-56a36f69fc3d"
      },
      "execution_count": null,
      "outputs": [
        {
          "output_type": "stream",
          "name": "stdout",
          "text": [
            "\n",
            "Metrics for Test Case 53:\n",
            "Answers: {'TP': 1, 'FP': 3, 'FN': 0, 'TN': 0}\n",
            "Answer_classifications: {'TP': 1, 'FP': 3, 'FN': 0, 'TN': 0}\n",
            "Arguments: {'TP': 0, 'FP': 0, 'FN': 3, 'TN': 0}\n",
            "Argument_classifications: {'TP': 0, 'FP': 0, 'FN': 3, 'TN': 0}\n",
            "\n",
            "Updated Metrics:\n",
            "Answers: {'TP': 70, 'FP': 32, 'FN': 9, 'TN': 0}\n",
            "Answer_classifications: {'TP': 48, 'FP': 54, 'FN': 9, 'TN': 0}\n",
            "Arguments: {'TP': 30, 'FP': 51, 'FN': 33, 'TN': 0}\n",
            "Argument_classifications: {'TP': 28, 'FP': 53, 'FN': 33, 'TN': 0}\n"
          ]
        }
      ]
    },
    {
      "cell_type": "markdown",
      "source": [
        "#Test case 54"
      ],
      "metadata": {
        "id": "sDX5-KL2BzIz"
      }
    },
    {
      "cell_type": "code",
      "source": [
        "# Test case 54 dictionary format\n",
        "annotated_answers_54 = [\n",
        "    {\n",
        "        \"answer\": \"Number of smallholder farmers impacted. The biggest college at UM6P is SAES, hence the direct impact on smallholders in Morocco and Africa should be a crucial KPI to measure the university's impact.\",\n",
        "        \"classification\": \"Metric\",\n",
        "        \"arguments\": [\n",
        "            {\n",
        "                \"text\": \"We should set the number of farmers as a KPI and also measure how we changed the farmer's livelihood. The number is good, but the impact at the level of each farmer is even more important. Small producers need to see a significant impact.\",\n",
        "                \"classification\": \"CON\"\n",
        "            }\n",
        "        ]\n",
        "    }\n",
        "]\n",
        "\n",
        "model_answers_54 = [\n",
        "    {\n",
        "        \"answer\": \"Number of smallholder farmers impacted\",\n",
        "        \"classification\": \"METRIC\",\n",
        "        \"arguments\": [\n",
        "            {\n",
        "                \"text\": \"Biggest college at UM6P is SAES, hence the direct impact on smallholders in Morocco and Africa should be a crucial KPI to measure the university impact.\",\n",
        "                \"classification\": \"PRO\"\n",
        "            }\n",
        "        ]\n",
        "    },\n",
        "    {\n",
        "        \"answer\": \"We should set the number of farmers as a KPI and also how did we change the farmers livelihood?\",\n",
        "        \"classification\": \"METRIC\",\n",
        "        \"arguments\": [\n",
        "            {\n",
        "                \"text\": \"The number is good, the impact at the level of each farmer is even more important.\",\n",
        "                \"classification\": \"PRO\"\n",
        "            }\n",
        "        ]\n",
        "    },\n",
        "    {\n",
        "        \"answer\": \"Small producers what a significant impact.\",\n",
        "        \"classification\": \"METRIC\",\n",
        "        \"arguments\": []\n",
        "    },\n",
        "    {\n",
        "        \"answer\": \"50% of the African continent works in the agricultural sector from production to sale on the markets...sometimes small technological improvements human social educational and of course climatic and average soils of substances and plant production and humans have an exponential impact on the future of the continent\",\n",
        "        \"classification\": \"SOLUTION\",\n",
        "        \"arguments\": []\n",
        "    }\n",
        "]\n",
        "\n",
        "# Process the new test case and update metrics\n",
        "local_metrics_54, metrics = compare(annotated_answers_54, model_answers_54, metrics)\n",
        "\n",
        "# Display metrics for this test case\n",
        "display_metrics(local_metrics_54, \"Metrics for Test Case 54\")\n",
        "\n",
        "# Display updated metrics\n",
        "display_metrics(metrics, \"Updated Metrics\")\n"
      ],
      "metadata": {
        "colab": {
          "base_uri": "https://localhost:8080/"
        },
        "id": "IvcNYawWB038",
        "outputId": "d773c1bd-ecce-4857-d936-43df7d5a0c5b"
      },
      "execution_count": null,
      "outputs": [
        {
          "output_type": "stream",
          "name": "stdout",
          "text": [
            "\n",
            "Metrics for Test Case 54:\n",
            "Answers: {'TP': 0, 'FP': 4, 'FN': 1, 'TN': 0}\n",
            "Answer_classifications: {'TP': 0, 'FP': 4, 'FN': 1, 'TN': 0}\n",
            "Arguments: {'TP': 0, 'FP': 2, 'FN': 1, 'TN': 0}\n",
            "Argument_classifications: {'TP': 0, 'FP': 2, 'FN': 1, 'TN': 0}\n",
            "\n",
            "Updated Metrics:\n",
            "Answers: {'TP': 70, 'FP': 36, 'FN': 10, 'TN': 0}\n",
            "Answer_classifications: {'TP': 48, 'FP': 58, 'FN': 10, 'TN': 0}\n",
            "Arguments: {'TP': 30, 'FP': 53, 'FN': 34, 'TN': 0}\n",
            "Argument_classifications: {'TP': 28, 'FP': 55, 'FN': 34, 'TN': 0}\n"
          ]
        }
      ]
    },
    {
      "cell_type": "markdown",
      "source": [
        "#Test case 55"
      ],
      "metadata": {
        "id": "PvZcgA1uCSJd"
      }
    },
    {
      "cell_type": "code",
      "source": [
        "# Test case 55 dictionary format\n",
        "annotated_answers_55 = [\n",
        "    {\n",
        "        \"answer\": \"The impact or possible future impact of my research, projects, and actions, what actions I am taking or will take in the future that could have an impact\",\n",
        "        \"classification\": \"Metrics\",\n",
        "        \"arguments\": [\n",
        "            {\n",
        "                \"text\": \"Most research done in Morocco has no real impact in society which is a waste of money but Um6p must be different. Action based research and project including give a PhD degree based on relevant startup and give points on KPI to teachers for enabling startups scientific basis and innovation centric.\",\n",
        "                \"classification\": \"PRO\"\n",
        "            }\n",
        "        ]\n",
        "    }\n",
        "]\n",
        "\n",
        "model_answers_55 = [\n",
        "    {\n",
        "        \"answer\": \"give a PhD degree based on relevant startup\",\n",
        "        \"classification\": \"SOLUTION\",\n",
        "        \"arguments\": []\n",
        "    },\n",
        "    {\n",
        "        \"answer\": \"give points on KPI to teachers for enabling startups scientific basis and innovation centric\",\n",
        "        \"classification\": \"SOLUTION\",\n",
        "        \"arguments\": []\n",
        "    }\n",
        "]\n",
        "\n",
        "# Process the new test case and update metrics\n",
        "local_metrics_55, metrics = compare(annotated_answers_55, model_answers_55, metrics)\n",
        "\n",
        "# Display metrics for this test case\n",
        "display_metrics(local_metrics_55, \"Metrics for Test Case 55\")\n",
        "\n",
        "# Display updated metrics\n",
        "display_metrics(metrics, \"Updated Metrics\")\n"
      ],
      "metadata": {
        "colab": {
          "base_uri": "https://localhost:8080/"
        },
        "id": "TDGqIHVlCUMv",
        "outputId": "c3bd25e1-b8e2-4ec6-fbcb-7f9d9026bbcd"
      },
      "execution_count": null,
      "outputs": [
        {
          "output_type": "stream",
          "name": "stdout",
          "text": [
            "\n",
            "Metrics for Test Case 55:\n",
            "Answers: {'TP': 0, 'FP': 2, 'FN': 1, 'TN': 0}\n",
            "Answer_classifications: {'TP': 0, 'FP': 2, 'FN': 1, 'TN': 0}\n",
            "Arguments: {'TP': 0, 'FP': 0, 'FN': 1, 'TN': 0}\n",
            "Argument_classifications: {'TP': 0, 'FP': 0, 'FN': 1, 'TN': 0}\n",
            "\n",
            "Updated Metrics:\n",
            "Answers: {'TP': 70, 'FP': 38, 'FN': 11, 'TN': 0}\n",
            "Answer_classifications: {'TP': 48, 'FP': 60, 'FN': 11, 'TN': 0}\n",
            "Arguments: {'TP': 30, 'FP': 53, 'FN': 35, 'TN': 0}\n",
            "Argument_classifications: {'TP': 28, 'FP': 55, 'FN': 35, 'TN': 0}\n"
          ]
        }
      ]
    },
    {
      "cell_type": "markdown",
      "source": [
        "#Test case 56"
      ],
      "metadata": {
        "id": "x0oc0WD7DDeo"
      }
    },
    {
      "cell_type": "code",
      "source": [
        "# Test case 56 dictionary format\n",
        "annotated_answers_56 = [\n",
        "    {\n",
        "        \"answer\": \"Diversity : Diversity to have a holistic approach to the problems to be solved\",\n",
        "        \"classification\": \"SOLUTION\",\n",
        "        \"arguments\": [\n",
        "            {\n",
        "                \"text\": \"Diversity is the problem, because we should know the problem and find a solution not just speak about diversity and loose time and ideas\",\n",
        "                \"classification\": \"CON\"\n",
        "            }\n",
        "        ]\n",
        "    }\n",
        "]\n",
        "\n",
        "model_answers_56 = [\n",
        "    {\n",
        "        \"answer\": \"Diversity\",\n",
        "        \"classification\": \"SOLUTION\",\n",
        "        \"arguments\": [\n",
        "            {\n",
        "                \"text\": \"Diversity to have a holistic approach to the problems to be solved\",\n",
        "                \"classification\": \"PRO\"\n",
        "            }\n",
        "        ]\n",
        "    },\n",
        "    {\n",
        "        \"answer\": \"Diversity is the problem\",\n",
        "        \"classification\": \"BARRIER\",\n",
        "        \"arguments\": [\n",
        "            {\n",
        "                \"text\": \"because we should know the problem and find a solution not just speak about diversity and loose time and ideas\",\n",
        "                \"classification\": \"CON\"\n",
        "            }\n",
        "        ]\n",
        "    }\n",
        "]\n",
        "\n",
        "# Process the new test case and update metrics\n",
        "local_metrics_56, metrics = compare(annotated_answers_56, model_answers_56, metrics)\n",
        "\n",
        "# Display metrics for this test case\n",
        "display_metrics(local_metrics_56, \"Metrics for Test Case 56\")\n",
        "\n",
        "# Display updated metrics\n",
        "display_metrics(metrics, \"Updated Metrics\")\n"
      ],
      "metadata": {
        "colab": {
          "base_uri": "https://localhost:8080/"
        },
        "id": "FIFcTOBuDIfI",
        "outputId": "ac4c53f8-1e59-4721-b70b-bf761b7afc92"
      },
      "execution_count": null,
      "outputs": [
        {
          "output_type": "stream",
          "name": "stdout",
          "text": [
            "\n",
            "Metrics for Test Case 56:\n",
            "Answers: {'TP': 0, 'FP': 2, 'FN': 1, 'TN': 0}\n",
            "Answer_classifications: {'TP': 0, 'FP': 2, 'FN': 1, 'TN': 0}\n",
            "Arguments: {'TP': 0, 'FP': 2, 'FN': 1, 'TN': 0}\n",
            "Argument_classifications: {'TP': 0, 'FP': 2, 'FN': 1, 'TN': 0}\n",
            "\n",
            "Updated Metrics:\n",
            "Answers: {'TP': 70, 'FP': 40, 'FN': 12, 'TN': 0}\n",
            "Answer_classifications: {'TP': 48, 'FP': 62, 'FN': 12, 'TN': 0}\n",
            "Arguments: {'TP': 30, 'FP': 55, 'FN': 36, 'TN': 0}\n",
            "Argument_classifications: {'TP': 28, 'FP': 57, 'FN': 36, 'TN': 0}\n"
          ]
        }
      ]
    },
    {
      "cell_type": "markdown",
      "source": [
        "#Testcase 57"
      ],
      "metadata": {
        "id": "xZEzSE2LDesu"
      }
    },
    {
      "cell_type": "code",
      "source": [
        "# Test case 57 dictionary format\n",
        "annotated_answers_57 = [\n",
        "    {\n",
        "        \"answer\": \"Lack of skilled monitoring committee to follow-up ideas\",\n",
        "        \"classification\": \"Barrier\",\n",
        "        \"arguments\": []\n",
        "    }\n",
        "]\n",
        "\n",
        "model_answers_57 = [\n",
        "    {\n",
        "        \"answer\": \"Lack of skilled monitoring committee to follow-up ideas\",\n",
        "        \"classification\": \"BARRIER\",\n",
        "        \"arguments\": []\n",
        "    },\n",
        "    {\n",
        "        \"answer\": \"Monitoring is absolute necessary in every stages of idea and startup Mentorant experiences\",\n",
        "        \"classification\": \"SOLUTION\",\n",
        "        \"arguments\": [\n",
        "            {\n",
        "                \"text\": \"Senior business experience is important to guide young people, real business leaders who have managed or set up a business.\",\n",
        "                \"classification\": \"PRO\"\n",
        "            }\n",
        "        ]\n",
        "    }\n",
        "]\n",
        "\n",
        "# Process the new test case and update metrics\n",
        "local_metrics_57, metrics = compare(annotated_answers_57, model_answers_57, metrics)\n",
        "\n",
        "# Display metrics for this test case\n",
        "display_metrics(local_metrics_57, \"Metrics for Test Case 57\")\n",
        "\n",
        "# Display updated metrics\n",
        "display_metrics(metrics, \"Updated Metrics\")\n"
      ],
      "metadata": {
        "colab": {
          "base_uri": "https://localhost:8080/"
        },
        "id": "wlYLQ1o1DibI",
        "outputId": "71e38391-e099-46c4-aa61-2bfbd6583375"
      },
      "execution_count": null,
      "outputs": [
        {
          "output_type": "stream",
          "name": "stdout",
          "text": [
            "\n",
            "Metrics for Test Case 57:\n",
            "Answers: {'TP': 1, 'FP': 1, 'FN': 0, 'TN': 0}\n",
            "Answer_classifications: {'TP': 1, 'FP': 1, 'FN': 0, 'TN': 0}\n",
            "Arguments: {'TP': 0, 'FP': 1, 'FN': 0, 'TN': 0}\n",
            "Argument_classifications: {'TP': 0, 'FP': 1, 'FN': 0, 'TN': 0}\n",
            "\n",
            "Updated Metrics:\n",
            "Answers: {'TP': 71, 'FP': 41, 'FN': 12, 'TN': 0}\n",
            "Answer_classifications: {'TP': 49, 'FP': 63, 'FN': 12, 'TN': 0}\n",
            "Arguments: {'TP': 30, 'FP': 56, 'FN': 36, 'TN': 0}\n",
            "Argument_classifications: {'TP': 28, 'FP': 58, 'FN': 36, 'TN': 0}\n"
          ]
        }
      ]
    },
    {
      "cell_type": "markdown",
      "source": [
        "#Testcase 58"
      ],
      "metadata": {
        "id": "iLjHA1vRDu23"
      }
    },
    {
      "cell_type": "code",
      "source": [
        "# Test case 58 dictionary format\n",
        "annotated_answers_58 = [\n",
        "    {\n",
        "        \"answer\": \"projects and collaborations made focus only on research, no impact or entrepreneurship deliverables are considered\",\n",
        "        \"classification\": \"BARRIER\",\n",
        "        \"arguments\": []\n",
        "    },\n",
        "    {\n",
        "        \"answer\": \"At um6p we believe too much that the researcher is the best manager the best salesman the best entrepreneur state of mind to change to have the diversity of profiles and skills.\",\n",
        "        \"classification\": \"BARRIER\",\n",
        "        \"arguments\": []\n",
        "    }\n",
        "]\n",
        "\n",
        "model_answers_58 = [\n",
        "    {\n",
        "        \"answer\": \"projects and collaborations made focus only on research, no impact or entrepreneurship deliverables are considered\",\n",
        "        \"classification\": \"BARRIER\",\n",
        "        \"arguments\": []\n",
        "    },\n",
        "    {\n",
        "        \"answer\": \"At um6p we believe too much that the researcher is the best manager the best salesman the best entrepreneur state of mind to change to have the diversity of profiles and skills.\",\n",
        "        \"classification\": \"BARRIER\",\n",
        "        \"arguments\": []\n",
        "    }\n",
        "]\n",
        "\n",
        "# Process the new test case and update metrics\n",
        "local_metrics_58, metrics = compare(annotated_answers_58, model_answers_58, metrics)\n",
        "\n",
        "# Display metrics for this test case\n",
        "display_metrics(local_metrics_58, \"Metrics for Test Case 58\")\n",
        "\n",
        "# Display updated metrics\n",
        "display_metrics(metrics, \"Updated Metrics\")\n"
      ],
      "metadata": {
        "colab": {
          "base_uri": "https://localhost:8080/"
        },
        "id": "BTiunW-pD18x",
        "outputId": "5e0c15b7-3682-420b-c134-b314a7603fe3"
      },
      "execution_count": null,
      "outputs": [
        {
          "output_type": "stream",
          "name": "stdout",
          "text": [
            "\n",
            "Metrics for Test Case 58:\n",
            "Answers: {'TP': 2, 'FP': 0, 'FN': 0, 'TN': 0}\n",
            "Answer_classifications: {'TP': 2, 'FP': 0, 'FN': 0, 'TN': 0}\n",
            "Arguments: {'TP': 0, 'FP': 0, 'FN': 0, 'TN': 0}\n",
            "Argument_classifications: {'TP': 0, 'FP': 0, 'FN': 0, 'TN': 0}\n",
            "\n",
            "Updated Metrics:\n",
            "Answers: {'TP': 73, 'FP': 41, 'FN': 12, 'TN': 0}\n",
            "Answer_classifications: {'TP': 51, 'FP': 63, 'FN': 12, 'TN': 0}\n",
            "Arguments: {'TP': 30, 'FP': 56, 'FN': 36, 'TN': 0}\n",
            "Argument_classifications: {'TP': 28, 'FP': 58, 'FN': 36, 'TN': 0}\n"
          ]
        }
      ]
    },
    {
      "cell_type": "markdown",
      "source": [
        "#Testcase 59"
      ],
      "metadata": {
        "id": "_3dMuDgED-6h"
      }
    },
    {
      "cell_type": "code",
      "source": [
        "# Test case 59 dictionary format\n",
        "annotated_answers_59 = [\n",
        "    {\n",
        "        \"answer\": \"Not fully leveraging the potential of its people.\",\n",
        "        \"classification\": \"Barrier\",\n",
        "        \"arguments\": []\n",
        "    },\n",
        "    {\n",
        "        \"answer\": \"Leveraging People management\",\n",
        "        \"classification\": \"Barrier\",\n",
        "        \"arguments\": [\n",
        "            {\n",
        "                \"text\": \"To improve the potential of an entrepreneur, in particular a startup researcher, management is required and even management by experienced business leaders.\",\n",
        "                \"classification\": \"PRO\"\n",
        "            }\n",
        "        ]\n",
        "    }\n",
        "]\n",
        "\n",
        "model_answers_59 = [\n",
        "    {\n",
        "        \"answer\": \"Not fully leveraging the potential of its people.\",\n",
        "        \"classification\": \"BARRIER\",\n",
        "        \"arguments\": []\n",
        "    },\n",
        "    {\n",
        "        \"answer\": \"Leveraging People management\",\n",
        "        \"classification\": \"SOLUTION\",\n",
        "        \"arguments\": [\n",
        "            {\n",
        "                \"text\": \"To improve the potential of an entrepreneur, in particular a startup researcher, management is required and even management by experienced business leaders.\",\n",
        "                \"classification\": \"PRO\"\n",
        "            }\n",
        "        ]\n",
        "    }\n",
        "]\n",
        "\n",
        "# Process the new test case and update metrics\n",
        "local_metrics_59, metrics = compare(annotated_answers_59, model_answers_59, metrics)\n",
        "\n",
        "# Display metrics for this test case\n",
        "display_metrics(local_metrics_59, \"Metrics for Test Case 59\")\n",
        "\n",
        "# Display updated metrics\n",
        "display_metrics(metrics, \"Updated Metrics\")\n"
      ],
      "metadata": {
        "colab": {
          "base_uri": "https://localhost:8080/"
        },
        "id": "c3WL9IJ3EA8C",
        "outputId": "f574c835-6035-4538-86f7-dddec503caeb"
      },
      "execution_count": null,
      "outputs": [
        {
          "output_type": "stream",
          "name": "stdout",
          "text": [
            "\n",
            "Metrics for Test Case 59:\n",
            "Answers: {'TP': 2, 'FP': 0, 'FN': 0, 'TN': 0}\n",
            "Answer_classifications: {'TP': 1, 'FP': 1, 'FN': 0, 'TN': 0}\n",
            "Arguments: {'TP': 1, 'FP': 0, 'FN': 0, 'TN': 0}\n",
            "Argument_classifications: {'TP': 1, 'FP': 0, 'FN': 0, 'TN': 0}\n",
            "\n",
            "Updated Metrics:\n",
            "Answers: {'TP': 75, 'FP': 41, 'FN': 12, 'TN': 0}\n",
            "Answer_classifications: {'TP': 52, 'FP': 64, 'FN': 12, 'TN': 0}\n",
            "Arguments: {'TP': 31, 'FP': 56, 'FN': 36, 'TN': 0}\n",
            "Argument_classifications: {'TP': 29, 'FP': 58, 'FN': 36, 'TN': 0}\n"
          ]
        }
      ]
    },
    {
      "cell_type": "markdown",
      "source": [
        "#Testcase 60"
      ],
      "metadata": {
        "id": "9fkaJzSIEWCw"
      }
    },
    {
      "cell_type": "code",
      "source": [
        "# Test case 60 dictionary format\n",
        "annotated_answers_60 = [\n",
        "    {\n",
        "        \"answer\": \"Transend Political barriers and not having direct impact on society\",\n",
        "        \"classification\": \"BARRIER\",\n",
        "        \"arguments\": [\n",
        "            {\n",
        "                \"text\": \"At the opposit of other universities locally, UM6P has a unique business model where it does have the capacity to connect research to society directly. Hence, it can convey its research and knoweledge to direct action. Just to illustrate this idea, Sustainable Agriculture College, instead of only doing research it may have its own scalable production farm that can innovate in all aspect of national and african agriculture. In such model, it is research by proving as the &quotlearning by doing&quot and UM6P can then streamline research ideas into real life, build its credibility and redifine excellence by pushing the boundaries of possible. E.g.&quot Les Domaines UM6P&quotas a leader in agricol production in Morocco and having farms in many African countries, employing thousands, generating millions and providing food security to thousands...(that was just an example)\",\n",
        "                \"classification\": \"PRO\"\n",
        "            }\n",
        "        ]\n",
        "    }\n",
        "]\n",
        "\n",
        "model_answers_60 = [\n",
        "    {\n",
        "        \"answer\": \"Transend Political barriers and not having direct impact on society\",\n",
        "        \"classification\": \"BARRIER\",\n",
        "        \"arguments\": []\n",
        "    },\n",
        "    {\n",
        "        \"answer\": \"UM6P has a unique business model where it does have the capacity to connect research to society directly.\",\n",
        "        \"classification\": \"SOLUTION\",\n",
        "        \"arguments\": [\n",
        "            {\n",
        "                \"text\": \"Hence, it can convey its research and knoweledge to direct action.\",\n",
        "                \"classification\": \"PRO\"\n",
        "            }\n",
        "        ]\n",
        "    },\n",
        "    {\n",
        "        \"answer\": \"Sustainable Agriculture College, instead of only doing research it may have its own scalable production farm that can innovate in all aspect of national and african agriculture.\",\n",
        "        \"classification\": \"SOLUTION\",\n",
        "        \"arguments\": [\n",
        "            {\n",
        "                \"text\": \"In such model, it is research by proving as the \\\"learning by doing\\\" and UM6P can then streamline research ideas into real life, build its credibility and redifine excellence by pushing the boundaries of possible.\",\n",
        "                \"classification\": \"PRO\"\n",
        "            },\n",
        "            {\n",
        "                \"text\": \"Les Domaines UM6P a leader in agricol production in Morocco and having farms in many African countries, employing thousands, generating millions and providing food security to thousands...(that was just an example)\",\n",
        "                \"classification\": \"PRO\"\n",
        "            }\n",
        "        ]\n",
        "    }\n",
        "]\n",
        "\n",
        "# Process the new test case and update metrics\n",
        "local_metrics_60, metrics = compare(annotated_answers_60, model_answers_60, metrics)\n",
        "\n",
        "# Display metrics for this test case\n",
        "display_metrics(local_metrics_60, \"Metrics for Test Case 60\")\n",
        "\n",
        "# Display updated metrics\n",
        "display_metrics(metrics, \"Updated Metrics\")\n"
      ],
      "metadata": {
        "colab": {
          "base_uri": "https://localhost:8080/"
        },
        "id": "Lu9sIzghEX99",
        "outputId": "5b5b2945-eae2-4198-e563-d711dbf02901"
      },
      "execution_count": null,
      "outputs": [
        {
          "output_type": "stream",
          "name": "stdout",
          "text": [
            "\n",
            "Metrics for Test Case 60:\n",
            "Answers: {'TP': 1, 'FP': 2, 'FN': 0, 'TN': 0}\n",
            "Answer_classifications: {'TP': 1, 'FP': 2, 'FN': 0, 'TN': 0}\n",
            "Arguments: {'TP': 0, 'FP': 3, 'FN': 1, 'TN': 0}\n",
            "Argument_classifications: {'TP': 0, 'FP': 3, 'FN': 1, 'TN': 0}\n",
            "\n",
            "Updated Metrics:\n",
            "Answers: {'TP': 76, 'FP': 43, 'FN': 12, 'TN': 0}\n",
            "Answer_classifications: {'TP': 53, 'FP': 66, 'FN': 12, 'TN': 0}\n",
            "Arguments: {'TP': 31, 'FP': 59, 'FN': 37, 'TN': 0}\n",
            "Argument_classifications: {'TP': 29, 'FP': 61, 'FN': 37, 'TN': 0}\n"
          ]
        }
      ]
    },
    {
      "cell_type": "markdown",
      "source": [
        "#Testcase 61"
      ],
      "metadata": {
        "id": "fABOKxfEFTu_"
      }
    },
    {
      "cell_type": "code",
      "source": [
        "# Test case 61 dictionary format\n",
        "annotated_answers_61 = [\n",
        "    {\n",
        "        \"answer\": \"Researchers who think that entrepreneurship is a waste of time and can ruin their career\",\n",
        "        \"classification\": \"BARRIER\",\n",
        "        \"arguments\": [\n",
        "            {\n",
        "                \"text\": \"Research with no added value to people will remain only a paper, there should be real impact financially and socially on livelihood. Action based research translation into Startup researcher are not made for entrepreneurship and they should be open to collaborate with business people.\",\n",
        "                \"classification\": \"PRO\"\n",
        "            },\n",
        "            {\n",
        "                \"text\": \"Having an entrepreneurship mindset keeps us always relevent. Careers are better enhanced by having an enterpreneuship mindset.\",\n",
        "                \"classification\": \"PRO\"\n",
        "            }\n",
        "        ]\n",
        "    }\n",
        "]\n",
        "\n",
        "model_answers_61 = [\n",
        "    {\n",
        "        \"answer\": \"Researchers who think that entrepreneurship is a waste of time and can ruin their career\",\n",
        "        \"classification\": \"BARRIER\",\n",
        "        \"arguments\": []\n",
        "    },\n",
        "    {\n",
        "        \"answer\": \"Research with no added value to people will remain only a paper, there should be real impact financially and socially on livelihood\",\n",
        "        \"classification\": \"BARRIER\",\n",
        "        \"arguments\": [\n",
        "            {\n",
        "                \"text\": \"Action based research translation into Startup researcher are not made for entrepreneurship and they should be open to collaborate with business people.\",\n",
        "                \"classification\": \"PRO\"\n",
        "            }\n",
        "        ]\n",
        "    },\n",
        "    {\n",
        "        \"answer\": \"Having an entrepreneurship mindset keeps us always relevant\",\n",
        "        \"classification\": \"SOLUTION\",\n",
        "        \"arguments\": [\n",
        "            {\n",
        "                \"text\": \"Careers are better enhanced by having an entrepreneurship mindset.\",\n",
        "                \"classification\": \"PRO\"\n",
        "            }\n",
        "        ]\n",
        "    }\n",
        "]\n",
        "\n",
        "# Process the new test case and update metrics\n",
        "local_metrics_61, metrics = compare(annotated_answers_61, model_answers_61, metrics)\n",
        "\n",
        "# Display metrics for this test case\n",
        "display_metrics(local_metrics_61, \"Metrics for Test Case 61\")\n",
        "\n",
        "# Display updated metrics\n",
        "display_metrics(metrics, \"Updated Metrics\")\n"
      ],
      "metadata": {
        "colab": {
          "base_uri": "https://localhost:8080/"
        },
        "id": "fymu0TvRFV4m",
        "outputId": "ae568218-e29c-47f6-fc7c-a33dc625e565"
      },
      "execution_count": null,
      "outputs": [
        {
          "output_type": "stream",
          "name": "stdout",
          "text": [
            "\n",
            "Metrics for Test Case 61:\n",
            "Answers: {'TP': 1, 'FP': 2, 'FN': 0, 'TN': 0}\n",
            "Answer_classifications: {'TP': 1, 'FP': 2, 'FN': 0, 'TN': 0}\n",
            "Arguments: {'TP': 0, 'FP': 2, 'FN': 2, 'TN': 0}\n",
            "Argument_classifications: {'TP': 0, 'FP': 2, 'FN': 2, 'TN': 0}\n",
            "\n",
            "Updated Metrics:\n",
            "Answers: {'TP': 77, 'FP': 45, 'FN': 12, 'TN': 0}\n",
            "Answer_classifications: {'TP': 54, 'FP': 68, 'FN': 12, 'TN': 0}\n",
            "Arguments: {'TP': 31, 'FP': 61, 'FN': 39, 'TN': 0}\n",
            "Argument_classifications: {'TP': 29, 'FP': 63, 'FN': 39, 'TN': 0}\n"
          ]
        }
      ]
    },
    {
      "cell_type": "markdown",
      "source": [
        "#Testcase 62"
      ],
      "metadata": {
        "id": "paa4bVukFsR7"
      }
    },
    {
      "cell_type": "code",
      "source": [
        "# Test case 62 dictionary format\n",
        "annotated_answers_62 = [\n",
        "    {\n",
        "        \"answer\": \"Not daring enough! In a dynamic and fast changing world, UM6P should have an agile, yet, efficient approach to dare exploring new frontiers and ideas. However, it should have to ssess quickly and set up correction measures when necessary.\",\n",
        "        \"classification\": \"BARRIER\",\n",
        "        \"arguments\": []\n",
        "    },\n",
        "    {\n",
        "        \"answer\": \"Researchers are more career driven than impact oriented.\",\n",
        "        \"classification\": \"BARRIER\",\n",
        "        \"arguments\": []\n",
        "    },\n",
        "    {\n",
        "        \"answer\": \"Failing to embrace and translate collective intelligence from a work paradigm to a day to day practice,,More interdepartmental collaboration and sharing of research and practices with everyone.\",\n",
        "        \"classification\": \"BARRIER\",\n",
        "        \"arguments\": []\n",
        "    },\n",
        "    {\n",
        "        \"answer\": \"Level of communication, make participation and integration of entrepreneurship more fluid and simpler. especially the files, The mentality, this is good enough, no attention to details.\",\n",
        "        \"classification\": \"BARRIER\",\n",
        "        \"arguments\": []\n",
        "    }\n",
        "]\n",
        "\n",
        "model_answers_62 = [\n",
        "    {\n",
        "        \"answer\": \"Not daring enough!\",\n",
        "        \"classification\": \"BARRIER\",\n",
        "        \"arguments\": [\n",
        "            {\n",
        "                \"text\": \"However, it should have to assess quickly and set up correction measures when necessary.\",\n",
        "                \"classification\": \"PRO\"\n",
        "            }\n",
        "        ]\n",
        "    },\n",
        "    {\n",
        "        \"answer\": \"Non daring mindsets, fear of adventures and risks, comfort zone laziness\",\n",
        "        \"classification\": \"BARRIER\",\n",
        "        \"arguments\": []\n",
        "    },\n",
        "    {\n",
        "        \"answer\": \"Right people in the area of Entrepreneurship is the need of the hour\",\n",
        "        \"classification\": \"SOLUTION\",\n",
        "        \"arguments\": []\n",
        "    },\n",
        "    {\n",
        "        \"answer\": \"Researchers are more career driven than impact oriented\",\n",
        "        \"classification\": \"BARRIER\",\n",
        "        \"arguments\": []\n",
        "    },\n",
        "    {\n",
        "        \"answer\": \"Failing to embrace and translate collective intelligence from a work paradigm to a day to day practice\",\n",
        "        \"classification\": \"BARRIER\",\n",
        "        \"arguments\": []\n",
        "    },\n",
        "    {\n",
        "        \"answer\": \"More interdepartmental collaboration and sharing of research and practices with everyone\",\n",
        "        \"classification\": \"SOLUTION\",\n",
        "        \"arguments\": []\n",
        "    },\n",
        "    {\n",
        "        \"answer\": \"Level of communication, make participation and integration of entrepreneurship more fluid and simpler, especially the files to submit\",\n",
        "        \"classification\": \"SOLUTION\",\n",
        "        \"arguments\": []\n",
        "    },\n",
        "    {\n",
        "        \"answer\": \"The mentality, this is good enough, no attention to details\",\n",
        "        \"classification\": \"BARRIER\",\n",
        "        \"arguments\": [\n",
        "            {\n",
        "                \"text\": \"The product we deliver is not finished but you can customize it as you please\",\n",
        "                \"classification\": \"CON\"\n",
        "            },\n",
        "            {\n",
        "                \"text\": \"The product should be sold finished, ready to use, therefore all the cost should be included and quantified.\",\n",
        "                \"classification\": \"PRO\"\n",
        "            }\n",
        "        ]\n",
        "    }\n",
        "]\n",
        "\n",
        "# Process the new test case and update metrics\n",
        "local_metrics_62, metrics = compare(annotated_answers_62, model_answers_62, metrics)\n",
        "\n",
        "# Display metrics for this test case\n",
        "display_metrics(local_metrics_62, \"Metrics for Test Case 62\")\n",
        "\n",
        "# Display updated metrics\n",
        "display_metrics(metrics, \"Updated Metrics\")\n"
      ],
      "metadata": {
        "colab": {
          "base_uri": "https://localhost:8080/"
        },
        "id": "zEBx5gMmGPSw",
        "outputId": "4531854c-872e-4f7d-e508-f0b934c4b234"
      },
      "execution_count": null,
      "outputs": [
        {
          "output_type": "stream",
          "name": "stdout",
          "text": [
            "\n",
            "Metrics for Test Case 62:\n",
            "Answers: {'TP': 3, 'FP': 5, 'FN': 1, 'TN': 0}\n",
            "Answer_classifications: {'TP': 2, 'FP': 6, 'FN': 1, 'TN': 0}\n",
            "Arguments: {'TP': 0, 'FP': 3, 'FN': 0, 'TN': 0}\n",
            "Argument_classifications: {'TP': 0, 'FP': 3, 'FN': 0, 'TN': 0}\n",
            "\n",
            "Updated Metrics:\n",
            "Answers: {'TP': 80, 'FP': 50, 'FN': 13, 'TN': 0}\n",
            "Answer_classifications: {'TP': 56, 'FP': 74, 'FN': 13, 'TN': 0}\n",
            "Arguments: {'TP': 31, 'FP': 64, 'FN': 39, 'TN': 0}\n",
            "Argument_classifications: {'TP': 29, 'FP': 66, 'FN': 39, 'TN': 0}\n"
          ]
        }
      ]
    },
    {
      "cell_type": "markdown",
      "source": [
        "#Test case 63"
      ],
      "metadata": {
        "id": "yqo4nlMyGdB1"
      }
    },
    {
      "cell_type": "code",
      "source": [
        "# Test case 63 dictionary format\n",
        "annotated_answers_63 = [\n",
        "    {\n",
        "        \"answer\": \"selfishness : we need to develop the collective spirit of work\",\n",
        "        \"classification\": \"BARRIER\",\n",
        "        \"arguments\": []\n",
        "    },\n",
        "    {\n",
        "        \"answer\": \"Academic Ego is a critical factor in hindrance of Entrepreneurship.\",\n",
        "        \"classification\": \"BARRIER\",\n",
        "        \"arguments\": []\n",
        "    }\n",
        "]\n",
        "\n",
        "model_answers_63 = [\n",
        "    {\n",
        "        \"answer\": \"selfishness : we need to develop the collective spirit of work\",\n",
        "        \"classification\": \"BARRIER\",\n",
        "        \"arguments\": [\n",
        "            {\n",
        "                \"text\": \"reseachers should stop looking only at their CV because an entire community is waiting for their outputs based on sciences and experiments.\",\n",
        "                \"classification\": \"PRO\"\n",
        "            },\n",
        "            {\n",
        "                \"text\": \"A lot specially by people in research fields we have lot of expert but everyone keep what he have for him self this what others called selfishness.\",\n",
        "                \"classification\": \"PRO\"\n",
        "            }\n",
        "        ]\n",
        "    },\n",
        "    {\n",
        "        \"answer\": \"Academic Ego is a critical factor in hindrance of Entrepreneurship.\",\n",
        "        \"classification\": \"BARRIER\",\n",
        "        \"arguments\": []\n",
        "    }\n",
        "]\n",
        "\n",
        "# Process the new test case and update metrics\n",
        "local_metrics_63, metrics = compare(annotated_answers_63, model_answers_63, metrics)\n",
        "\n",
        "# Display metrics for this test case\n",
        "display_metrics(local_metrics_63, \"Metrics for Test Case 63\")\n",
        "\n",
        "# Display updated metrics\n",
        "display_metrics(metrics, \"Updated Metrics\")\n"
      ],
      "metadata": {
        "colab": {
          "base_uri": "https://localhost:8080/"
        },
        "id": "io3RhJ_6GfgB",
        "outputId": "df208304-a27f-488e-81de-cab8336735bb"
      },
      "execution_count": null,
      "outputs": [
        {
          "output_type": "stream",
          "name": "stdout",
          "text": [
            "\n",
            "Metrics for Test Case 63:\n",
            "Answers: {'TP': 2, 'FP': 0, 'FN': 0, 'TN': 0}\n",
            "Answer_classifications: {'TP': 2, 'FP': 0, 'FN': 0, 'TN': 0}\n",
            "Arguments: {'TP': 0, 'FP': 2, 'FN': 0, 'TN': 0}\n",
            "Argument_classifications: {'TP': 0, 'FP': 2, 'FN': 0, 'TN': 0}\n",
            "\n",
            "Updated Metrics:\n",
            "Answers: {'TP': 82, 'FP': 50, 'FN': 13, 'TN': 0}\n",
            "Answer_classifications: {'TP': 58, 'FP': 74, 'FN': 13, 'TN': 0}\n",
            "Arguments: {'TP': 31, 'FP': 66, 'FN': 39, 'TN': 0}\n",
            "Argument_classifications: {'TP': 29, 'FP': 68, 'FN': 39, 'TN': 0}\n"
          ]
        }
      ]
    },
    {
      "cell_type": "markdown",
      "source": [
        "#Testcase 64"
      ],
      "metadata": {
        "id": "On_dmTywGsWa"
      }
    },
    {
      "cell_type": "code",
      "source": [
        "# Test case 64 dictionary format\n",
        "annotated_answers_64 = [\n",
        "    {\n",
        "        \"answer\": \"To overcome barriers to success in research, we should find applications for theoretical research.\",\n",
        "        \"classification\": \"BARRIER\",\n",
        "        \"arguments\": [\n",
        "            {\n",
        "                \"text\": \"Applications of theoretical research increase its societal impact This is important for impact.\",\n",
        "                \"classification\": \"PRO\"\n",
        "            },\n",
        "            {\n",
        "                \"text\": \"Prioritizing applications may limit pure, exploratory theoretical research Starting from the need to establish research projects in order to ensure there are applications of the research findings.\",\n",
        "                \"classification\": \"CON\"\n",
        "            }\n",
        "        ]\n",
        "    }\n",
        "]\n",
        "\n",
        "model_answers_64 = [\n",
        "    {\n",
        "        \"answer\": \"To overcome barriers to success in research, we should find applications for theoretical research.\",\n",
        "        \"classification\": \"SOLUTION\",\n",
        "        \"arguments\": [\n",
        "            {\n",
        "                \"text\": \"Applications of theoretical research increase its societal impact. This is important for impact.\",\n",
        "                \"classification\": \"PRO\"\n",
        "            }\n",
        "        ]\n",
        "    },\n",
        "    {\n",
        "        \"answer\": \"Prioritizing applications may limit pure, exploratory theoretical research.\",\n",
        "        \"classification\": \"BARRIER\",\n",
        "        \"arguments\": [\n",
        "            {\n",
        "                \"text\": \"Starting from the need to establish research projects in order to ensure there are applications of the research findings.\",\n",
        "                \"classification\": \"CON\"\n",
        "            }\n",
        "        ]\n",
        "    }\n",
        "]\n",
        "\n",
        "# Process the new test case and update metrics\n",
        "local_metrics_64, metrics = compare(annotated_answers_64, model_answers_64, metrics)\n",
        "\n",
        "# Display metrics for this test case\n",
        "display_metrics(local_metrics_64, \"Metrics for Test Case 64\")\n",
        "\n",
        "# Display updated metrics\n",
        "display_metrics(metrics, \"Updated Metrics\")\n"
      ],
      "metadata": {
        "colab": {
          "base_uri": "https://localhost:8080/"
        },
        "id": "_fUcxaJbGuSZ",
        "outputId": "ccab7d90-1fd6-4a69-d35b-35020359c327"
      },
      "execution_count": null,
      "outputs": [
        {
          "output_type": "stream",
          "name": "stdout",
          "text": [
            "\n",
            "Metrics for Test Case 64:\n",
            "Answers: {'TP': 1, 'FP': 1, 'FN': 0, 'TN': 0}\n",
            "Answer_classifications: {'TP': 0, 'FP': 2, 'FN': 0, 'TN': 0}\n",
            "Arguments: {'TP': 1, 'FP': 1, 'FN': 1, 'TN': 0}\n",
            "Argument_classifications: {'TP': 1, 'FP': 1, 'FN': 1, 'TN': 0}\n",
            "\n",
            "Updated Metrics:\n",
            "Answers: {'TP': 83, 'FP': 51, 'FN': 13, 'TN': 0}\n",
            "Answer_classifications: {'TP': 58, 'FP': 76, 'FN': 13, 'TN': 0}\n",
            "Arguments: {'TP': 32, 'FP': 67, 'FN': 40, 'TN': 0}\n",
            "Argument_classifications: {'TP': 30, 'FP': 69, 'FN': 40, 'TN': 0}\n"
          ]
        }
      ]
    },
    {
      "cell_type": "markdown",
      "source": [
        "#Testcase 65"
      ],
      "metadata": {
        "id": "v31NFUZ-G4TC"
      }
    },
    {
      "cell_type": "code",
      "source": [
        "# Test case 65 dictionary format\n",
        "annotated_answers_65 = [\n",
        "    {\n",
        "        \"answer\": \"Working with tangible models\",\n",
        "        \"classification\": \"SOLUTION\",\n",
        "        \"arguments\": [\n",
        "            {\n",
        "                \"text\": \"The practical application of the theories found in research, and the thinking and execution of our researchers, are the best methods for ensuring success in different sectors\",\n",
        "                \"classification\": \"PRO\"\n",
        "            }\n",
        "        ]\n",
        "    }\n",
        "]\n",
        "\n",
        "model_answers_65 = [\n",
        "    {\n",
        "        \"answer\": \"working with tangible models\",\n",
        "        \"classification\": \"SOLUTION\",\n",
        "        \"arguments\": [\n",
        "            {\n",
        "                \"text\": \"The practical application of the theories found in research, and the thinking and execution of our researchers, are the best methods for ensuring success in different sectors.\",\n",
        "                \"classification\": \"PRO\"\n",
        "            }\n",
        "        ]\n",
        "    },\n",
        "    {\n",
        "        \"answer\": \"the adoption of our research topics by others\",\n",
        "        \"classification\": \"METRIC\",\n",
        "        \"arguments\": []\n",
        "    }\n",
        "]\n",
        "\n",
        "# Process the new test case and update metrics\n",
        "local_metrics_65, metrics = compare(annotated_answers_65, model_answers_65, metrics)\n",
        "\n",
        "# Display metrics for this test case\n",
        "display_metrics(local_metrics_65, \"Metrics for Test Case 65\")\n",
        "\n",
        "# Display updated metrics\n",
        "display_metrics(metrics, \"Updated Metrics\")\n"
      ],
      "metadata": {
        "colab": {
          "base_uri": "https://localhost:8080/"
        },
        "id": "ybDCracvG6DS",
        "outputId": "9282f186-ecc1-4167-c2c5-3df1762775bf"
      },
      "execution_count": null,
      "outputs": [
        {
          "output_type": "stream",
          "name": "stdout",
          "text": [
            "\n",
            "Metrics for Test Case 65:\n",
            "Answers: {'TP': 1, 'FP': 1, 'FN': 0, 'TN': 0}\n",
            "Answer_classifications: {'TP': 1, 'FP': 1, 'FN': 0, 'TN': 0}\n",
            "Arguments: {'TP': 1, 'FP': 0, 'FN': 0, 'TN': 0}\n",
            "Argument_classifications: {'TP': 1, 'FP': 0, 'FN': 0, 'TN': 0}\n",
            "\n",
            "Updated Metrics:\n",
            "Answers: {'TP': 84, 'FP': 52, 'FN': 13, 'TN': 0}\n",
            "Answer_classifications: {'TP': 59, 'FP': 77, 'FN': 13, 'TN': 0}\n",
            "Arguments: {'TP': 33, 'FP': 67, 'FN': 40, 'TN': 0}\n",
            "Argument_classifications: {'TP': 31, 'FP': 69, 'FN': 40, 'TN': 0}\n"
          ]
        }
      ]
    },
    {
      "cell_type": "markdown",
      "source": [
        "#Testcase 66"
      ],
      "metadata": {
        "id": "xJHNj-8YHGD2"
      }
    },
    {
      "cell_type": "code",
      "source": [
        "# Test case 66 dictionary format\n",
        "annotated_answers_66 = [\n",
        "    {\n",
        "        \"answer\": \"In my opinion, to push research further, we should diversify subjects and invest as much as possible in the world of research.\",\n",
        "        \"classification\": \"SOLUTION\",\n",
        "        \"arguments\": [\n",
        "            {\n",
        "                \"text\": \"The more we have the chance to dig, the more information we get.\",\n",
        "                \"classification\": \"PRO\"\n",
        "            }\n",
        "        ]\n",
        "    }\n",
        "]\n",
        "\n",
        "model_answers_66 = [\n",
        "    {\n",
        "        \"answer\": \"to push research further, we should diversify subjects and invest as much as possible in the world of research.\",\n",
        "        \"classification\": \"SOLUTION\",\n",
        "        \"arguments\": [\n",
        "            {\n",
        "                \"text\": \"The more we have the chance to dig, the more information we get.\",\n",
        "                \"classification\": \"PRO\"\n",
        "            }\n",
        "        ]\n",
        "    }\n",
        "]\n",
        "\n",
        "# Process the new test case and update metrics\n",
        "local_metrics_66, metrics = compare(annotated_answers_66, model_answers_66, metrics)\n",
        "\n",
        "# Display metrics for this test case\n",
        "display_metrics(local_metrics_66, \"Metrics for Test Case 66\")\n",
        "\n",
        "# Display updated metrics\n",
        "display_metrics(metrics, \"Updated Metrics\")\n"
      ],
      "metadata": {
        "colab": {
          "base_uri": "https://localhost:8080/"
        },
        "id": "XaQWBH5PHH1T",
        "outputId": "a27f98b2-f97a-48a4-a92b-e6f403ffa4c1"
      },
      "execution_count": null,
      "outputs": [
        {
          "output_type": "stream",
          "name": "stdout",
          "text": [
            "\n",
            "Metrics for Test Case 66:\n",
            "Answers: {'TP': 1, 'FP': 0, 'FN': 0, 'TN': 0}\n",
            "Answer_classifications: {'TP': 1, 'FP': 0, 'FN': 0, 'TN': 0}\n",
            "Arguments: {'TP': 1, 'FP': 0, 'FN': 0, 'TN': 0}\n",
            "Argument_classifications: {'TP': 1, 'FP': 0, 'FN': 0, 'TN': 0}\n",
            "\n",
            "Updated Metrics:\n",
            "Answers: {'TP': 85, 'FP': 52, 'FN': 13, 'TN': 0}\n",
            "Answer_classifications: {'TP': 60, 'FP': 77, 'FN': 13, 'TN': 0}\n",
            "Arguments: {'TP': 34, 'FP': 67, 'FN': 40, 'TN': 0}\n",
            "Argument_classifications: {'TP': 32, 'FP': 69, 'FN': 40, 'TN': 0}\n"
          ]
        }
      ]
    },
    {
      "cell_type": "markdown",
      "source": [
        "#Testcase 68"
      ],
      "metadata": {
        "id": "p6NHcYFeHzFr"
      }
    },
    {
      "cell_type": "code",
      "source": [
        "# Test case 68 dictionary format\n",
        "annotated_answers_68 = [\n",
        "    {\n",
        "        \"answer\": \"Providing the students with clear understanding of how the corporate and/or the research world are, and how they could provide an added value with their abilities and knowledge.\",\n",
        "        \"classification\": \"SOLUTION\",\n",
        "        \"arguments\": [\n",
        "            {\n",
        "                \"text\": \"This prepares the students for the real world.\",\n",
        "                \"classification\": \"PRO\"\n",
        "            }\n",
        "        ]\n",
        "    }\n",
        "]\n",
        "\n",
        "model_answers_68 = [\n",
        "    {\n",
        "        \"answer\": \"Providing the students with clear understanding of how the corporate and/or the research world are, and how they could provide an added value with their abilities and knowledge.\",\n",
        "        \"classification\": \"SOLUTION\",\n",
        "        \"arguments\": [\n",
        "            {\n",
        "                \"text\": \"This prepares the students for the real world.\",\n",
        "                \"classification\": \"PRO\"\n",
        "            }\n",
        "        ]\n",
        "    }\n",
        "]\n",
        "\n",
        "# Process the new test case and update metrics\n",
        "local_metrics_68, metrics = compare(annotated_answers_68, model_answers_68, metrics)\n",
        "\n",
        "# Display metrics for this test case\n",
        "display_metrics(local_metrics_68, \"Metrics for Test Case 68\")\n",
        "\n",
        "# Display updated metrics\n",
        "display_metrics(metrics, \"Updated Metrics\")\n"
      ],
      "metadata": {
        "colab": {
          "base_uri": "https://localhost:8080/"
        },
        "id": "bb5wJudOH2Ov",
        "outputId": "7e6e3684-6c48-4e17-807b-3d610715adbd"
      },
      "execution_count": null,
      "outputs": [
        {
          "output_type": "stream",
          "name": "stdout",
          "text": [
            "\n",
            "Metrics for Test Case 68:\n",
            "Answers: {'TP': 1, 'FP': 0, 'FN': 0, 'TN': 0}\n",
            "Answer_classifications: {'TP': 1, 'FP': 0, 'FN': 0, 'TN': 0}\n",
            "Arguments: {'TP': 1, 'FP': 0, 'FN': 0, 'TN': 0}\n",
            "Argument_classifications: {'TP': 1, 'FP': 0, 'FN': 0, 'TN': 0}\n",
            "\n",
            "Updated Metrics:\n",
            "Answers: {'TP': 86, 'FP': 52, 'FN': 13, 'TN': 0}\n",
            "Answer_classifications: {'TP': 61, 'FP': 77, 'FN': 13, 'TN': 0}\n",
            "Arguments: {'TP': 35, 'FP': 67, 'FN': 40, 'TN': 0}\n",
            "Argument_classifications: {'TP': 33, 'FP': 69, 'FN': 40, 'TN': 0}\n"
          ]
        }
      ]
    },
    {
      "cell_type": "markdown",
      "source": [
        "#Testcase 69"
      ],
      "metadata": {
        "id": "KgtYjyiNOGSy"
      }
    },
    {
      "cell_type": "code",
      "source": [
        "# Test case 69 dictionary format\n",
        "annotated_answers_69 = [\n",
        "    {\n",
        "        \"answer\": \"Gamify the teaching experience when the subject nature allows it to engage students and make learning fun through challenges with rewards and achievements.\",\n",
        "        \"classification\": \"SOLUTION\",\n",
        "        \"arguments\": [\n",
        "            {\n",
        "                \"text\": \"Gamification enhances engagement and learning effectiveness.\",\n",
        "                \"classification\": \"PRO\"\n",
        "            },\n",
        "            {\n",
        "                \"text\": \"42 network is proof that the gamification of the learning experience is a great model.\",\n",
        "                \"classification\": \"PRO\"\n",
        "            }\n",
        "        ]\n",
        "    }\n",
        "]\n",
        "\n",
        "model_answers_69 = [\n",
        "    {\n",
        "        \"answer\": \"Gamify the teaching experience when the subject nature allows it to engage students and make learning fun through challenges with rewards and achievements.\",\n",
        "        \"classification\": \"SOLUTION\",\n",
        "        \"arguments\": [\n",
        "            {\n",
        "                \"text\": \"Gamification enhances engagement and learning effectiveness.\",\n",
        "                \"classification\": \"PRO\"\n",
        "            },\n",
        "            {\n",
        "                \"text\": \"42 network is proof that the gamification of the learning experience is a great model.\",\n",
        "                \"classification\": \"PRO\"\n",
        "            }\n",
        "        ]\n",
        "    }\n",
        "]\n",
        "\n",
        "# Process the new test case and update metrics\n",
        "local_metrics_69, metrics = compare(annotated_answers_69, model_answers_69, metrics)\n",
        "\n",
        "# Display metrics for this test case\n",
        "display_metrics(local_metrics_69, \"Metrics for Test Case 69\")\n",
        "\n",
        "# Display updated metrics\n",
        "display_metrics(metrics, \"Updated Metrics\")\n"
      ],
      "metadata": {
        "colab": {
          "base_uri": "https://localhost:8080/"
        },
        "id": "NEhCsEuVOKaJ",
        "outputId": "b8c62a52-4074-4ce0-f87a-a44dfd6d7c67"
      },
      "execution_count": null,
      "outputs": [
        {
          "output_type": "stream",
          "name": "stdout",
          "text": [
            "\n",
            "Metrics for Test Case 69:\n",
            "Answers: {'TP': 1, 'FP': 0, 'FN': 0, 'TN': 0}\n",
            "Answer_classifications: {'TP': 1, 'FP': 0, 'FN': 0, 'TN': 0}\n",
            "Arguments: {'TP': 2, 'FP': 0, 'FN': 0, 'TN': 0}\n",
            "Argument_classifications: {'TP': 2, 'FP': 0, 'FN': 0, 'TN': 0}\n",
            "\n",
            "Updated Metrics:\n",
            "Answers: {'TP': 87, 'FP': 52, 'FN': 13, 'TN': 0}\n",
            "Answer_classifications: {'TP': 62, 'FP': 77, 'FN': 13, 'TN': 0}\n",
            "Arguments: {'TP': 37, 'FP': 67, 'FN': 40, 'TN': 0}\n",
            "Argument_classifications: {'TP': 35, 'FP': 69, 'FN': 40, 'TN': 0}\n"
          ]
        }
      ]
    },
    {
      "cell_type": "markdown",
      "source": [
        "#Test case 70"
      ],
      "metadata": {
        "id": "tiL0PDdLOOLP"
      }
    },
    {
      "cell_type": "code",
      "source": [
        "# Test case 70 dictionary format\n",
        "annotated_answers_70 = [\n",
        "    {\n",
        "        \"answer\": \"Implement cohesive teaching guidelines.\",\n",
        "        \"classification\": \"SOLUTION\",\n",
        "        \"arguments\": [\n",
        "            {\n",
        "                \"text\": \"Students emulate structured, effective teacher behavior.\",\n",
        "                \"classification\": \"PRO\"\n",
        "            }\n",
        "        ]\n",
        "    }\n",
        "]\n",
        "\n",
        "model_answers_70 = [\n",
        "    {\n",
        "        \"answer\": \"Implement cohesive teaching guidelines.\",\n",
        "        \"classification\": \"SOLUTION\",\n",
        "        \"arguments\": [\n",
        "            {\n",
        "                \"text\": \"Students emulate structured, effective teacher behavior.\",\n",
        "                \"classification\": \"PRO\"\n",
        "            }\n",
        "        ]\n",
        "    }\n",
        "]\n",
        "\n",
        "# Process the new test case and update metrics\n",
        "local_metrics_70, metrics = compare(annotated_answers_70, model_answers_70, metrics)\n",
        "\n",
        "# Display metrics for this test case\n",
        "display_metrics(local_metrics_70, \"Metrics for Test Case 70\")\n",
        "\n",
        "# Display updated metrics\n",
        "display_metrics(metrics, \"Updated Metrics\")\n"
      ],
      "metadata": {
        "colab": {
          "base_uri": "https://localhost:8080/"
        },
        "id": "qgnQ3B-IOR6m",
        "outputId": "be7f258c-d291-4e9d-d7c1-e4113c4c4474"
      },
      "execution_count": null,
      "outputs": [
        {
          "output_type": "stream",
          "name": "stdout",
          "text": [
            "\n",
            "Metrics for Test Case 70:\n",
            "Answers: {'TP': 1, 'FP': 0, 'FN': 0, 'TN': 0}\n",
            "Answer_classifications: {'TP': 1, 'FP': 0, 'FN': 0, 'TN': 0}\n",
            "Arguments: {'TP': 1, 'FP': 0, 'FN': 0, 'TN': 0}\n",
            "Argument_classifications: {'TP': 1, 'FP': 0, 'FN': 0, 'TN': 0}\n",
            "\n",
            "Updated Metrics:\n",
            "Answers: {'TP': 88, 'FP': 52, 'FN': 13, 'TN': 0}\n",
            "Answer_classifications: {'TP': 63, 'FP': 77, 'FN': 13, 'TN': 0}\n",
            "Arguments: {'TP': 38, 'FP': 67, 'FN': 40, 'TN': 0}\n",
            "Argument_classifications: {'TP': 36, 'FP': 69, 'FN': 40, 'TN': 0}\n"
          ]
        }
      ]
    },
    {
      "cell_type": "markdown",
      "source": [
        "#Testcase 71"
      ],
      "metadata": {
        "id": "oj0T-dbqOsVp"
      }
    },
    {
      "cell_type": "code",
      "source": [
        "# Test case 71 dictionary format\n",
        "annotated_answers_71 = [\n",
        "    {\n",
        "        \"answer\": \"To improve teaching and student life at UM6P, we can promote international student exchange programs.\",\n",
        "        \"classification\": \"SOLUTION\",\n",
        "        \"arguments\": [\n",
        "            {\n",
        "                \"text\": \"This will cultivate a diverse and globally conscious student community, thereby elevating the standard of education.\",\n",
        "                \"classification\": \"PRO\"\n",
        "            }\n",
        "        ]\n",
        "    }\n",
        "]\n",
        "\n",
        "model_answers_71 = [\n",
        "    {\n",
        "        \"answer\": \"To improve teaching and student life at UM6P, we can promote international student exchange programs.\",\n",
        "        \"classification\": \"SOLUTION\",\n",
        "        \"arguments\": [\n",
        "            {\n",
        "                \"text\": \"This will cultivate a diverse and globally conscious student community, thereby elevating the standard of education.\",\n",
        "                \"classification\": \"PRO\"\n",
        "            }\n",
        "        ]\n",
        "    }\n",
        "]\n",
        "\n",
        "# Process the new test case and update metrics\n",
        "local_metrics_71, metrics = compare(annotated_answers_71, model_answers_71, metrics)\n",
        "\n",
        "# Display metrics for this test case\n",
        "display_metrics(local_metrics_71, \"Metrics for Test Case 71\")\n",
        "\n",
        "# Display updated metrics\n",
        "display_metrics(metrics, \"Updated Metrics\")\n"
      ],
      "metadata": {
        "id": "9RHxqI1FPGY_"
      },
      "execution_count": null,
      "outputs": []
    },
    {
      "cell_type": "markdown",
      "source": [
        "#Testcase 72"
      ],
      "metadata": {
        "id": "dusgxa2RPH7v"
      }
    },
    {
      "cell_type": "code",
      "source": [
        "# Test case 72 dictionary format\n",
        "annotated_answers_72 = [\n",
        "    {\n",
        "        \"answer\": \"One idea to address the lack of communication and support in universities is to establish a student-led support team. This team would consist of dedicated students who are available to assist their peers in accessing various resources and providing guidance when needed.\",\n",
        "        \"classification\": \"SOLUTION\",\n",
        "        \"arguments\": [\n",
        "            {\n",
        "                \"text\": \"By creating such a team, students can benefit from improved communication channels and receive the necessary support to navigate their academic journey more effectively.\",\n",
        "                \"classification\": \"PRO\"\n",
        "            }\n",
        "        ]\n",
        "    }\n",
        "]\n",
        "\n",
        "model_answers_72 = [\n",
        "    {\n",
        "        \"answer\": \"One idea to address the lack of communication and support in universities is to establish a student-led support team. This team would consist of dedicated students who are available to assist their peers in accessing various resources and providing guidance when needed.\",\n",
        "        \"classification\": \"SOLUTION\",\n",
        "        \"arguments\": [\n",
        "            {\n",
        "                \"text\": \"By creating such a team, students can benefit from improved communication channels and receive the necessary support to navigate their academic journey more effectively.\",\n",
        "                \"classification\": \"PRO\"\n",
        "            }\n",
        "        ]\n",
        "    }\n",
        "]\n",
        "\n",
        "# Process the new test case and update metrics\n",
        "local_metrics_72, metrics = compare(annotated_answers_72, model_answers_72, metrics)\n",
        "\n",
        "# Display metrics for this test case\n",
        "display_metrics(local_metrics_72, \"Metrics for Test Case 72\")\n",
        "\n",
        "# Display updated metrics\n",
        "display_metrics(metrics, \"Updated Metrics\")\n",
        "\n"
      ],
      "metadata": {
        "colab": {
          "base_uri": "https://localhost:8080/"
        },
        "id": "dgkCmXPVPKSf",
        "outputId": "f7719d11-7455-4e07-8680-16f2a8b6530d"
      },
      "execution_count": null,
      "outputs": [
        {
          "output_type": "stream",
          "name": "stdout",
          "text": [
            "\n",
            "Metrics for Test Case 72:\n",
            "Answers: {'TP': 1, 'FP': 0, 'FN': 0, 'TN': 0}\n",
            "Answer_classifications: {'TP': 1, 'FP': 0, 'FN': 0, 'TN': 0}\n",
            "Arguments: {'TP': 1, 'FP': 0, 'FN': 0, 'TN': 0}\n",
            "Argument_classifications: {'TP': 1, 'FP': 0, 'FN': 0, 'TN': 0}\n",
            "\n",
            "Updated Metrics:\n",
            "Answers: {'TP': 89, 'FP': 52, 'FN': 13, 'TN': 0}\n",
            "Answer_classifications: {'TP': 64, 'FP': 77, 'FN': 13, 'TN': 0}\n",
            "Arguments: {'TP': 39, 'FP': 67, 'FN': 40, 'TN': 0}\n",
            "Argument_classifications: {'TP': 37, 'FP': 69, 'FN': 40, 'TN': 0}\n"
          ]
        }
      ]
    }
  ]
}